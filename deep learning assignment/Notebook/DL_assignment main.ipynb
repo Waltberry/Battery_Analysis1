{
 "cells": [
  {
   "cell_type": "code",
   "execution_count": 1,
   "metadata": {},
   "outputs": [
    {
     "name": "stdout",
     "output_type": "stream",
     "text": [
      "Current working directory: c:\\Users\\onyer\\OneDrive\\Desktop\\Research work\\1. Projects\\Battery_Analysis1\n"
     ]
    }
   ],
   "source": [
    "import os\n",
    "\n",
    "# Change to the parent directory\n",
    "os.chdir('../..')\n",
    "\n",
    "# Verify the path using getcwd()\n",
    "cwd = os.getcwd()\n",
    "print(\"Current working directory:\", cwd)"
   ]
  },
  {
   "cell_type": "markdown",
   "metadata": {},
   "source": [
    "## Building a NARX Neural Network"
   ]
  },
  {
   "cell_type": "code",
   "execution_count": 2,
   "metadata": {},
   "outputs": [],
   "source": [
    "import pandas as pd\n",
    "import matplotlib.pyplot as plt\n",
    "import numpy as np\n",
    "from tensorflow import keras\n",
    "from tensorflow.keras import layers\n",
    "from sklearn.preprocessing import MinMaxScaler\n",
    "from src.file_loader import load_csv_files\n",
    "import matplotlib as mpl\n",
    "import matplotlib.pyplot as pl"
   ]
  },
  {
   "cell_type": "code",
   "execution_count": 3,
   "metadata": {},
   "outputs": [
    {
     "name": "stdout",
     "output_type": "stream",
     "text": [
      "Current working directory: c:\\Users\\onyer\\OneDrive\\Desktop\\Research work\\1. Projects\\Battery_Analysis1\n"
     ]
    }
   ],
   "source": [
    "# Verify the path using getcwd()\n",
    "cwd = os.getcwd()\n",
    "print(\"Current working directory:\", cwd)"
   ]
  },
  {
   "cell_type": "code",
   "execution_count": 4,
   "metadata": {},
   "outputs": [],
   "source": [
    "# List of file names\n",
    "file_names = [\n",
    "    '9171_20241001_N11507060127_ Rapid polarization-2.csv'\n",
    "    ]\n",
    "\n",
    "# print(f\"Processing file: {file_names}\")\n",
    "dataframes = load_csv_files(file_names, '', 'deep learning assignment')\n"
   ]
  },
  {
   "cell_type": "code",
   "execution_count": 5,
   "metadata": {},
   "outputs": [
    {
     "name": "stdout",
     "output_type": "stream",
     "text": [
      "<class 'pandas.core.frame.DataFrame'>\n",
      "       Time (HH:mm:ss.SSS) Channel     CH      V      A\n",
      "count                16383   16341  16320  16320  16320\n",
      "unique               16323   16321      2    142     16\n",
      "top                   Step     CH1    CH1  2.926  2.251\n",
      "freq                    21      21  16299   2120   5620\n"
     ]
    }
   ],
   "source": [
    "# Extract the DataFrame\n",
    "data = dataframes['9171_20241001_N11507060127__Rapid_polarization-2_csv']\n",
    "\n",
    "# Confirm it's a DataFrame\n",
    "print(type(data))  # Should output <class 'pandas.core.frame.DataFrame'>\n",
    "\n",
    "# Use the describe() method\n",
    "print(data.describe())\n"
   ]
  },
  {
   "cell_type": "code",
   "execution_count": 6,
   "metadata": {},
   "outputs": [
    {
     "data": {
      "text/html": [
       "<div>\n",
       "<style scoped>\n",
       "    .dataframe tbody tr th:only-of-type {\n",
       "        vertical-align: middle;\n",
       "    }\n",
       "\n",
       "    .dataframe tbody tr th {\n",
       "        vertical-align: top;\n",
       "    }\n",
       "\n",
       "    .dataframe thead th {\n",
       "        text-align: right;\n",
       "    }\n",
       "</style>\n",
       "<table border=\"1\" class=\"dataframe\">\n",
       "  <thead>\n",
       "    <tr style=\"text-align: right;\">\n",
       "      <th></th>\n",
       "      <th>Time (HH:mm:ss.SSS)</th>\n",
       "      <th>Channel</th>\n",
       "      <th>CH</th>\n",
       "      <th>V</th>\n",
       "      <th>A</th>\n",
       "    </tr>\n",
       "  </thead>\n",
       "  <tbody>\n",
       "    <tr>\n",
       "      <th>0</th>\n",
       "      <td>11:45:54.513</td>\n",
       "      <td>0.780562</td>\n",
       "      <td>CH1</td>\n",
       "      <td>1.429</td>\n",
       "      <td>0.046</td>\n",
       "    </tr>\n",
       "    <tr>\n",
       "      <th>1</th>\n",
       "      <td>11:45:54.753</td>\n",
       "      <td>1.0206133</td>\n",
       "      <td>CH1</td>\n",
       "      <td>1.444</td>\n",
       "      <td>0.046</td>\n",
       "    </tr>\n",
       "    <tr>\n",
       "      <th>2</th>\n",
       "      <td>11:45:54.983</td>\n",
       "      <td>1.2505946</td>\n",
       "      <td>CH1</td>\n",
       "      <td>1.452</td>\n",
       "      <td>0.046</td>\n",
       "    </tr>\n",
       "    <tr>\n",
       "      <th>3</th>\n",
       "      <td>11:45:55.223</td>\n",
       "      <td>1.490689</td>\n",
       "      <td>CH1</td>\n",
       "      <td>1.457</td>\n",
       "      <td>0.046</td>\n",
       "    </tr>\n",
       "    <tr>\n",
       "      <th>4</th>\n",
       "      <td>11:45:55.453</td>\n",
       "      <td>1.7206743</td>\n",
       "      <td>CH1</td>\n",
       "      <td>1.461</td>\n",
       "      <td>0.046</td>\n",
       "    </tr>\n",
       "  </tbody>\n",
       "</table>\n",
       "</div>"
      ],
      "text/plain": [
       "  Time (HH:mm:ss.SSS)    Channel   CH      V      A\n",
       "0        11:45:54.513   0.780562  CH1  1.429  0.046\n",
       "1        11:45:54.753  1.0206133  CH1  1.444  0.046\n",
       "2        11:45:54.983  1.2505946  CH1  1.452  0.046\n",
       "3        11:45:55.223   1.490689  CH1  1.457  0.046\n",
       "4        11:45:55.453  1.7206743  CH1  1.461  0.046"
      ]
     },
     "execution_count": 6,
     "metadata": {},
     "output_type": "execute_result"
    }
   ],
   "source": [
    "data.head()"
   ]
  },
  {
   "cell_type": "code",
   "execution_count": 7,
   "metadata": {},
   "outputs": [
    {
     "data": {
      "text/plain": [
       "Time (HH:mm:ss.SSS)    object\n",
       "Channel                object\n",
       "CH                     object\n",
       "V                      object\n",
       "A                      object\n",
       "dtype: object"
      ]
     },
     "execution_count": 7,
     "metadata": {},
     "output_type": "execute_result"
    }
   ],
   "source": [
    "data.dtypes"
   ]
  },
  {
   "cell_type": "code",
   "execution_count": 8,
   "metadata": {},
   "outputs": [],
   "source": [
    "# Convert `V` and `A` columns to numeric\n",
    "data['V'] = pd.to_numeric(data['V'], errors='coerce')\n",
    "data['A'] = pd.to_numeric(data['A'], errors='coerce')"
   ]
  },
  {
   "cell_type": "code",
   "execution_count": 9,
   "metadata": {},
   "outputs": [],
   "source": [
    "# Drop rows with NaN values in these columns if conversion fails\n",
    "data = data.dropna(subset=['V', 'A'])"
   ]
  },
  {
   "cell_type": "code",
   "execution_count": 10,
   "metadata": {},
   "outputs": [
    {
     "name": "stdout",
     "output_type": "stream",
     "text": [
      "  Time (HH:mm:ss.SSS)    Channel   CH         V    A\n",
      "0        11:45:54.513   0.780562  CH1  0.000000  0.0\n",
      "1        11:45:54.753  1.0206133  CH1  0.007637  0.0\n",
      "2        11:45:54.983  1.2505946  CH1  0.011711  0.0\n",
      "3        11:45:55.223   1.490689  CH1  0.014257  0.0\n",
      "4        11:45:55.453  1.7206743  CH1  0.016293  0.0\n"
     ]
    }
   ],
   "source": [
    "# Select numeric columns\n",
    "numeric_cols = data.select_dtypes(include=['float64', 'int64']).columns\n",
    "numeric_data = data[numeric_cols]\n",
    "\n",
    "# Apply MinMaxScaler\n",
    "scaler = MinMaxScaler()\n",
    "scaled = scaler.fit_transform(numeric_data)\n",
    "\n",
    "# Create a new DataFrame with scaled values\n",
    "scaled_data = pd.DataFrame(scaled, columns=numeric_cols, index=data.index)\n",
    "\n",
    "# Optional: Combine with non-numeric columns\n",
    "non_numeric_cols = data.select_dtypes(exclude=['float64', 'int64'])\n",
    "final_data = pd.concat([non_numeric_cols, scaled_data], axis=1)\n",
    "\n",
    "# Check the result\n",
    "print(final_data.head())\n"
   ]
  },
  {
   "cell_type": "code",
   "execution_count": 11,
   "metadata": {},
   "outputs": [
    {
     "data": {
      "text/html": [
       "<div>\n",
       "<style scoped>\n",
       "    .dataframe tbody tr th:only-of-type {\n",
       "        vertical-align: middle;\n",
       "    }\n",
       "\n",
       "    .dataframe tbody tr th {\n",
       "        vertical-align: top;\n",
       "    }\n",
       "\n",
       "    .dataframe thead th {\n",
       "        text-align: right;\n",
       "    }\n",
       "</style>\n",
       "<table border=\"1\" class=\"dataframe\">\n",
       "  <thead>\n",
       "    <tr style=\"text-align: right;\">\n",
       "      <th></th>\n",
       "      <th>V</th>\n",
       "      <th>A</th>\n",
       "    </tr>\n",
       "  </thead>\n",
       "  <tbody>\n",
       "    <tr>\n",
       "      <th>0</th>\n",
       "      <td>0.000000</td>\n",
       "      <td>0.0</td>\n",
       "    </tr>\n",
       "    <tr>\n",
       "      <th>1</th>\n",
       "      <td>0.007637</td>\n",
       "      <td>0.0</td>\n",
       "    </tr>\n",
       "    <tr>\n",
       "      <th>2</th>\n",
       "      <td>0.011711</td>\n",
       "      <td>0.0</td>\n",
       "    </tr>\n",
       "    <tr>\n",
       "      <th>3</th>\n",
       "      <td>0.014257</td>\n",
       "      <td>0.0</td>\n",
       "    </tr>\n",
       "    <tr>\n",
       "      <th>4</th>\n",
       "      <td>0.016293</td>\n",
       "      <td>0.0</td>\n",
       "    </tr>\n",
       "  </tbody>\n",
       "</table>\n",
       "</div>"
      ],
      "text/plain": [
       "          V    A\n",
       "0  0.000000  0.0\n",
       "1  0.007637  0.0\n",
       "2  0.011711  0.0\n",
       "3  0.014257  0.0\n",
       "4  0.016293  0.0"
      ]
     },
     "execution_count": 11,
     "metadata": {},
     "output_type": "execute_result"
    }
   ],
   "source": [
    "scaled_data.head()"
   ]
  },
  {
   "cell_type": "code",
   "execution_count": 12,
   "metadata": {},
   "outputs": [
    {
     "data": {
      "text/html": [
       "<div>\n",
       "<style scoped>\n",
       "    .dataframe tbody tr th:only-of-type {\n",
       "        vertical-align: middle;\n",
       "    }\n",
       "\n",
       "    .dataframe tbody tr th {\n",
       "        vertical-align: top;\n",
       "    }\n",
       "\n",
       "    .dataframe thead th {\n",
       "        text-align: right;\n",
       "    }\n",
       "</style>\n",
       "<table border=\"1\" class=\"dataframe\">\n",
       "  <thead>\n",
       "    <tr style=\"text-align: right;\">\n",
       "      <th></th>\n",
       "      <th>Time (HH:mm:ss.SSS)</th>\n",
       "      <th>Channel</th>\n",
       "      <th>CH</th>\n",
       "      <th>V</th>\n",
       "      <th>A</th>\n",
       "    </tr>\n",
       "  </thead>\n",
       "  <tbody>\n",
       "    <tr>\n",
       "      <th>0</th>\n",
       "      <td>11:45:54.513</td>\n",
       "      <td>0.780562</td>\n",
       "      <td>CH1</td>\n",
       "      <td>0.000000</td>\n",
       "      <td>0.0</td>\n",
       "    </tr>\n",
       "    <tr>\n",
       "      <th>1</th>\n",
       "      <td>11:45:54.753</td>\n",
       "      <td>1.0206133</td>\n",
       "      <td>CH1</td>\n",
       "      <td>0.007637</td>\n",
       "      <td>0.0</td>\n",
       "    </tr>\n",
       "    <tr>\n",
       "      <th>2</th>\n",
       "      <td>11:45:54.983</td>\n",
       "      <td>1.2505946</td>\n",
       "      <td>CH1</td>\n",
       "      <td>0.011711</td>\n",
       "      <td>0.0</td>\n",
       "    </tr>\n",
       "    <tr>\n",
       "      <th>3</th>\n",
       "      <td>11:45:55.223</td>\n",
       "      <td>1.490689</td>\n",
       "      <td>CH1</td>\n",
       "      <td>0.014257</td>\n",
       "      <td>0.0</td>\n",
       "    </tr>\n",
       "    <tr>\n",
       "      <th>4</th>\n",
       "      <td>11:45:55.453</td>\n",
       "      <td>1.7206743</td>\n",
       "      <td>CH1</td>\n",
       "      <td>0.016293</td>\n",
       "      <td>0.0</td>\n",
       "    </tr>\n",
       "  </tbody>\n",
       "</table>\n",
       "</div>"
      ],
      "text/plain": [
       "  Time (HH:mm:ss.SSS)    Channel   CH         V    A\n",
       "0        11:45:54.513   0.780562  CH1  0.000000  0.0\n",
       "1        11:45:54.753  1.0206133  CH1  0.007637  0.0\n",
       "2        11:45:54.983  1.2505946  CH1  0.011711  0.0\n",
       "3        11:45:55.223   1.490689  CH1  0.014257  0.0\n",
       "4        11:45:55.453  1.7206743  CH1  0.016293  0.0"
      ]
     },
     "execution_count": 12,
     "metadata": {},
     "output_type": "execute_result"
    }
   ],
   "source": [
    "final_data.head()"
   ]
  },
  {
   "cell_type": "code",
   "execution_count": 13,
   "metadata": {},
   "outputs": [],
   "source": [
    "def create_sequences(input_data, target_column, sequence_length=1, flatten=False):\n",
    "    inputs = []\n",
    "    targets = []\n",
    "    data_size = len(input_data)\n",
    "    \n",
    "    for i in range(data_size-sequence_length):\n",
    "        sequence = input_data[i:i+sequence_length]\n",
    "        #print(type(sequence))\n",
    "        label_position = i + sequence_length\n",
    "        label = input_data[label_position][target_column]\n",
    "        if flatten:\n",
    "            inputs.append(sequence.flatten())\n",
    "        else:\n",
    "            inputs.append(sequence)\n",
    "        targets.append(label)\n",
    "        \n",
    "    return np.array(inputs), np.array(targets)"
   ]
  },
  {
   "cell_type": "code",
   "execution_count": 14,
   "metadata": {},
   "outputs": [
    {
     "data": {
      "text/plain": [
       "((16296, 6), (16296,))"
      ]
     },
     "execution_count": 14,
     "metadata": {},
     "output_type": "execute_result"
    }
   ],
   "source": [
    "x, y = create_sequences(scaled_data.to_numpy(), 1, 3, flatten=True)\n",
    "x.shape, y.shape"
   ]
  },
  {
   "cell_type": "code",
   "execution_count": 15,
   "metadata": {},
   "outputs": [],
   "source": [
    "split_ratio = 0.25\n",
    "split = int(len(x) * split_ratio)\n",
    "\n",
    "x_train, x_valid = x[:-split], x[-split:]\n",
    "y_train, y_valid = y[:-split], y[-split:]"
   ]
  },
  {
   "cell_type": "code",
   "execution_count": 16,
   "metadata": {},
   "outputs": [
    {
     "name": "stderr",
     "output_type": "stream",
     "text": [
      "c:\\Users\\onyer\\OneDrive\\Desktop\\Research work\\1. Projects\\Battery_Analysis1\\env_analysis\\Lib\\site-packages\\keras\\src\\layers\\core\\dense.py:87: UserWarning: Do not pass an `input_shape`/`input_dim` argument to a layer. When using Sequential models, prefer using an `Input(shape)` object as the first layer in the model instead.\n",
      "  super().__init__(activity_regularizer=activity_regularizer, **kwargs)\n"
     ]
    }
   ],
   "source": [
    "\n",
    "\n",
    "# Assuming x.shape[1] is the number of input features\n",
    "narx_model = keras.Sequential([\n",
    "    layers.Dense(10, activation='tanh', input_shape=(x.shape[1],)),\n",
    "    layers.Dense(1, activation='relu')\n",
    "])\n",
    "\n",
    "# Corrected: Wrap the metrics argument in a list\n",
    "narx_model.compile(\n",
    "    optimizer=keras.optimizers.Adam(),\n",
    "    loss='mse',\n",
    "    metrics=['mae']  # Wrap 'mae' in a list\n",
    ")\n",
    "\n",
    "# Adding an EarlyStopping callback\n",
    "callback = keras.callbacks.EarlyStopping(monitor='loss', patience=3)\n"
   ]
  },
  {
   "cell_type": "code",
   "execution_count": 17,
   "metadata": {},
   "outputs": [
    {
     "name": "stdout",
     "output_type": "stream",
     "text": [
      "Epoch 1/100\n",
      "\u001b[1m408/408\u001b[0m \u001b[32m━━━━━━━━━━━━━━━━━━━━\u001b[0m\u001b[37m\u001b[0m \u001b[1m2s\u001b[0m 3ms/step - loss: 0.2501 - mae: 0.3188 - val_loss: 0.0037 - val_mae: 0.0395\n",
      "Epoch 2/100\n",
      "\u001b[1m408/408\u001b[0m \u001b[32m━━━━━━━━━━━━━━━━━━━━\u001b[0m\u001b[37m\u001b[0m \u001b[1m1s\u001b[0m 2ms/step - loss: 0.0026 - mae: 0.0335 - val_loss: 0.0013 - val_mae: 0.0244\n",
      "Epoch 3/100\n",
      "\u001b[1m408/408\u001b[0m \u001b[32m━━━━━━━━━━━━━━━━━━━━\u001b[0m\u001b[37m\u001b[0m \u001b[1m1s\u001b[0m 2ms/step - loss: 9.8010e-04 - mae: 0.0183 - val_loss: 0.0011 - val_mae: 0.0220\n",
      "Epoch 4/100\n",
      "\u001b[1m408/408\u001b[0m \u001b[32m━━━━━━━━━━━━━━━━━━━━\u001b[0m\u001b[37m\u001b[0m \u001b[1m1s\u001b[0m 2ms/step - loss: 7.6267e-04 - mae: 0.0180 - val_loss: 0.0011 - val_mae: 0.0200\n",
      "Epoch 5/100\n",
      "\u001b[1m408/408\u001b[0m \u001b[32m━━━━━━━━━━━━━━━━━━━━\u001b[0m\u001b[37m\u001b[0m \u001b[1m1s\u001b[0m 2ms/step - loss: 8.5136e-04 - mae: 0.0180 - val_loss: 9.9818e-04 - val_mae: 0.0192\n",
      "Epoch 6/100\n",
      "\u001b[1m408/408\u001b[0m \u001b[32m━━━━━━━━━━━━━━━━━━━━\u001b[0m\u001b[37m\u001b[0m \u001b[1m1s\u001b[0m 2ms/step - loss: 9.5357e-04 - mae: 0.0172 - val_loss: 9.4519e-04 - val_mae: 0.0182\n",
      "Epoch 7/100\n",
      "\u001b[1m408/408\u001b[0m \u001b[32m━━━━━━━━━━━━━━━━━━━━\u001b[0m\u001b[37m\u001b[0m \u001b[1m1s\u001b[0m 2ms/step - loss: 7.1638e-04 - mae: 0.0162 - val_loss: 8.8703e-04 - val_mae: 0.0170\n",
      "Epoch 8/100\n",
      "\u001b[1m408/408\u001b[0m \u001b[32m━━━━━━━━━━━━━━━━━━━━\u001b[0m\u001b[37m\u001b[0m \u001b[1m1s\u001b[0m 2ms/step - loss: 6.3691e-04 - mae: 0.0153 - val_loss: 7.9655e-04 - val_mae: 0.0133\n",
      "Epoch 9/100\n",
      "\u001b[1m408/408\u001b[0m \u001b[32m━━━━━━━━━━━━━━━━━━━━\u001b[0m\u001b[37m\u001b[0m \u001b[1m1s\u001b[0m 2ms/step - loss: 6.8392e-04 - mae: 0.0137 - val_loss: 7.1180e-04 - val_mae: 0.0114\n",
      "Epoch 10/100\n",
      "\u001b[1m408/408\u001b[0m \u001b[32m━━━━━━━━━━━━━━━━━━━━\u001b[0m\u001b[37m\u001b[0m \u001b[1m1s\u001b[0m 2ms/step - loss: 4.9780e-04 - mae: 0.0114 - val_loss: 6.4689e-04 - val_mae: 0.0107\n",
      "Epoch 11/100\n",
      "\u001b[1m408/408\u001b[0m \u001b[32m━━━━━━━━━━━━━━━━━━━━\u001b[0m\u001b[37m\u001b[0m \u001b[1m1s\u001b[0m 2ms/step - loss: 4.0404e-04 - mae: 0.0095 - val_loss: 5.2695e-04 - val_mae: 0.0061\n",
      "Epoch 12/100\n",
      "\u001b[1m408/408\u001b[0m \u001b[32m━━━━━━━━━━━━━━━━━━━━\u001b[0m\u001b[37m\u001b[0m \u001b[1m1s\u001b[0m 2ms/step - loss: 3.1748e-04 - mae: 0.0071 - val_loss: 4.9313e-04 - val_mae: 0.0071\n",
      "Epoch 13/100\n",
      "\u001b[1m408/408\u001b[0m \u001b[32m━━━━━━━━━━━━━━━━━━━━\u001b[0m\u001b[37m\u001b[0m \u001b[1m1s\u001b[0m 1ms/step - loss: 4.6689e-04 - mae: 0.0059 - val_loss: 4.3595e-04 - val_mae: 0.0043\n",
      "Epoch 14/100\n",
      "\u001b[1m408/408\u001b[0m \u001b[32m━━━━━━━━━━━━━━━━━━━━\u001b[0m\u001b[37m\u001b[0m \u001b[1m1s\u001b[0m 1ms/step - loss: 3.4552e-04 - mae: 0.0040 - val_loss: 3.9867e-04 - val_mae: 0.0030\n",
      "Epoch 15/100\n",
      "\u001b[1m408/408\u001b[0m \u001b[32m━━━━━━━━━━━━━━━━━━━━\u001b[0m\u001b[37m\u001b[0m \u001b[1m1s\u001b[0m 1ms/step - loss: 2.4854e-04 - mae: 0.0033 - val_loss: 3.7467e-04 - val_mae: 0.0021\n",
      "Epoch 16/100\n",
      "\u001b[1m408/408\u001b[0m \u001b[32m━━━━━━━━━━━━━━━━━━━━\u001b[0m\u001b[37m\u001b[0m \u001b[1m1s\u001b[0m 1ms/step - loss: 4.1336e-04 - mae: 0.0038 - val_loss: 3.5935e-04 - val_mae: 0.0031\n",
      "Epoch 17/100\n",
      "\u001b[1m408/408\u001b[0m \u001b[32m━━━━━━━━━━━━━━━━━━━━\u001b[0m\u001b[37m\u001b[0m \u001b[1m1s\u001b[0m 1ms/step - loss: 3.5022e-04 - mae: 0.0035 - val_loss: 3.5865e-04 - val_mae: 0.0047\n",
      "Epoch 18/100\n",
      "\u001b[1m408/408\u001b[0m \u001b[32m━━━━━━━━━━━━━━━━━━━━\u001b[0m\u001b[37m\u001b[0m \u001b[1m0s\u001b[0m 1ms/step - loss: 2.2309e-04 - mae: 0.0030 - val_loss: 3.3270e-04 - val_mae: 0.0022\n",
      "Epoch 19/100\n",
      "\u001b[1m408/408\u001b[0m \u001b[32m━━━━━━━━━━━━━━━━━━━━\u001b[0m\u001b[37m\u001b[0m \u001b[1m1s\u001b[0m 1ms/step - loss: 1.9116e-04 - mae: 0.0024 - val_loss: 3.2140e-04 - val_mae: 0.0017\n",
      "Epoch 20/100\n",
      "\u001b[1m408/408\u001b[0m \u001b[32m━━━━━━━━━━━━━━━━━━━━\u001b[0m\u001b[37m\u001b[0m \u001b[1m1s\u001b[0m 1ms/step - loss: 2.3889e-04 - mae: 0.0029 - val_loss: 3.1604e-04 - val_mae: 0.0017\n",
      "Epoch 21/100\n",
      "\u001b[1m408/408\u001b[0m \u001b[32m━━━━━━━━━━━━━━━━━━━━\u001b[0m\u001b[37m\u001b[0m \u001b[1m1s\u001b[0m 1ms/step - loss: 2.2625e-04 - mae: 0.0028 - val_loss: 3.1457e-04 - val_mae: 0.0022\n",
      "Epoch 22/100\n",
      "\u001b[1m408/408\u001b[0m \u001b[32m━━━━━━━━━━━━━━━━━━━━\u001b[0m\u001b[37m\u001b[0m \u001b[1m0s\u001b[0m 1ms/step - loss: 4.7606e-04 - mae: 0.0039 - val_loss: 3.0820e-04 - val_mae: 0.0017\n",
      "Epoch 23/100\n",
      "\u001b[1m408/408\u001b[0m \u001b[32m━━━━━━━━━━━━━━━━━━━━\u001b[0m\u001b[37m\u001b[0m \u001b[1m1s\u001b[0m 1ms/step - loss: 2.5224e-04 - mae: 0.0028 - val_loss: 3.0904e-04 - val_mae: 0.0020\n",
      "Epoch 24/100\n",
      "\u001b[1m408/408\u001b[0m \u001b[32m━━━━━━━━━━━━━━━━━━━━\u001b[0m\u001b[37m\u001b[0m \u001b[1m0s\u001b[0m 1ms/step - loss: 3.0280e-04 - mae: 0.0029 - val_loss: 3.0513e-04 - val_mae: 0.0014\n",
      "Epoch 25/100\n",
      "\u001b[1m408/408\u001b[0m \u001b[32m━━━━━━━━━━━━━━━━━━━━\u001b[0m\u001b[37m\u001b[0m \u001b[1m1s\u001b[0m 1ms/step - loss: 2.4022e-04 - mae: 0.0031 - val_loss: 3.0528e-04 - val_mae: 0.0020\n"
     ]
    }
   ],
   "source": [
    "history = narx_model.fit(x,y, epochs=100, validation_split=0.2, verbose=1, callbacks=[callback])"
   ]
  },
  {
   "cell_type": "code",
   "execution_count": 18,
   "metadata": {},
   "outputs": [
    {
     "data": {
      "text/plain": [
       "[<matplotlib.lines.Line2D at 0x1f5514e35c0>]"
      ]
     },
     "execution_count": 18,
     "metadata": {},
     "output_type": "execute_result"
    },
    {
     "data": {
      "image/png": "[encoded data removed]",
      "text/plain": [
       "<Figure size 640x480 with 1 Axes>"
      ]
     },
     "metadata": {},
     "output_type": "display_data"
    }
   ],
   "source": [
    "history.history['loss']\n",
    "\n",
    "plt.plot(history.history['loss'])\n",
    "plt.plot(history.history['val_loss'])"
   ]
  },
  {
   "cell_type": "code",
   "execution_count": 19,
   "metadata": {},
   "outputs": [
    {
     "data": {
      "text/plain": [
       "[0.07792478799819946,\n",
       " 0.0018434791127219796,\n",
       " 0.0009740899549797177,\n",
       " 0.0008999547571875155,\n",
       " 0.0008686270448379219,\n",
       " 0.0008365136454813182,\n",
       " 0.0007980678346939385,\n",
       " 0.0007335924310609698,\n",
       " 0.0006294540944509208,\n",
       " 0.0005482417764142156,\n",
       " 0.0004686246975325048,\n",
       " 0.0004018311155959964,\n",
       " 0.0003559652541298419,\n",
       " 0.0003238376521039754,\n",
       " 0.0003061980241909623,\n",
       " 0.00028776164981536567,\n",
       " 0.0002728327817749232,\n",
       " 0.0002678549208212644,\n",
       " 0.00026016621268354356,\n",
       " 0.00025491276755928993,\n",
       " 0.0002521190035622567,\n",
       " 0.00024822025443427265,\n",
       " 0.0002482558775227517,\n",
       " 0.0002482935960870236,\n",
       " 0.0002499868278391659]"
      ]
     },
     "execution_count": 19,
     "metadata": {},
     "output_type": "execute_result"
    }
   ],
   "source": [
    "history.history['loss']"
   ]
  },
  {
   "cell_type": "code",
   "execution_count": 20,
   "metadata": {},
   "outputs": [],
   "source": [
    "predicted = narx_model(x)"
   ]
  },
  {
   "cell_type": "code",
   "execution_count": 21,
   "metadata": {},
   "outputs": [
    {
     "data": {
      "text/plain": [
       "[<matplotlib.lines.Line2D at 0x1f551743140>]"
      ]
     },
     "execution_count": 21,
     "metadata": {},
     "output_type": "execute_result"
    },
    {
     "data": {
      "image/png": "[encoded data removed]",
      "text/plain": [
       "<Figure size 1200x400 with 1 Axes>"
      ]
     },
     "metadata": {},
     "output_type": "display_data"
    }
   ],
   "source": [
    "plt.figure(figsize=(12, 4))\n",
    "plt.plot(predicted)\n",
    "plt.plot(y)"
   ]
  },
  {
   "cell_type": "code",
   "execution_count": 22,
   "metadata": {},
   "outputs": [
    {
     "name": "stdout",
     "output_type": "stream",
     "text": [
      "\u001b[1m510/510\u001b[0m \u001b[32m━━━━━━━━━━━━━━━━━━━━\u001b[0m\u001b[37m\u001b[0m \u001b[1m1s\u001b[0m 1ms/step - loss: 1.4329e-04 - mae: 0.0020\n"
     ]
    },
    {
     "data": {
      "text/plain": [
       "[0.0002476696972735226, 0.0017726959194988012]"
      ]
     },
     "execution_count": 22,
     "metadata": {},
     "output_type": "execute_result"
    }
   ],
   "source": [
    "narx_model.evaluate(x,y)"
   ]
  }
 ],
 "metadata": {
  "kernelspec": {
   "display_name": "env_analysis",
   "language": "python",
   "name": "python3"
  },
  "language_info": {
   "codemirror_mode": {
    "name": "ipython",
    "version": 3
   },
   "file_extension": ".py",
   "mimetype": "text/x-python",
   "name": "python",
   "nbconvert_exporter": "python",
   "pygments_lexer": "ipython3",
   "version": "3.12.5"
  }
 },
 "nbformat": 4,
 "nbformat_minor": 2
}
