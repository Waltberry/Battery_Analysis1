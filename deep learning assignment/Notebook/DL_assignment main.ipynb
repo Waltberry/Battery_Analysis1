{
 "cells": [
  {
   "cell_type": "code",
   "execution_count": 1,
   "metadata": {},
   "outputs": [
    {
     "name": "stdout",
     "output_type": "stream",
     "text": [
      "Current working directory: c:\\Users\\onyer\\OneDrive\\Desktop\\Research work\\1. Projects\\Battery_Analysis1\n"
     ]
    }
   ],
   "source": [
    "import os\n",
    "\n",
    "# Change to the parent directory\n",
    "os.chdir('../..')\n",
    "\n",
    "# Verify the path using getcwd()\n",
    "cwd = os.getcwd()\n",
    "print(\"Current working directory:\", cwd)"
   ]
  },
  {
   "cell_type": "code",
   "execution_count": 2,
   "metadata": {},
   "outputs": [],
   "source": [
    "# import torch\n",
    "# torch.cuda.is_available()"
   ]
  },
  {
   "cell_type": "code",
   "execution_count": 3,
   "metadata": {},
   "outputs": [],
   "source": [
    "# device = \"cuda\" if torch.cuda.is_available() else \"cpu\"\n",
    "# print(f\"Using {device} device\")"
   ]
  },
  {
   "cell_type": "markdown",
   "metadata": {},
   "source": [
    "# Building a NARX Neural Network"
   ]
  },
  {
   "cell_type": "code",
   "execution_count": 4,
   "metadata": {},
   "outputs": [],
   "source": [
    "import pandas as pd\n",
    "import matplotlib.pyplot as plt\n",
    "import numpy as np\n",
    "from tensorflow import keras\n",
    "from tensorflow.keras import layers\n",
    "from sklearn.preprocessing import MinMaxScaler\n",
    "from src.file_loader import load_csv_files\n",
    "# import matplotlib as mpl\n",
    "# from tensorflow.keras.models import Sequential\n",
    "# from tensorflow.keras.layers import LSTM, Dense"
   ]
  },
  {
   "cell_type": "code",
   "execution_count": 5,
   "metadata": {},
   "outputs": [
    {
     "name": "stdout",
     "output_type": "stream",
     "text": [
      "Current working directory: c:\\Users\\onyer\\OneDrive\\Desktop\\Research work\\1. Projects\\Battery_Analysis1\n"
     ]
    }
   ],
   "source": [
    "# Verify the path using getcwd()\n",
    "cwd = os.getcwd()\n",
    "print(\"Current working directory:\", cwd)"
   ]
  },
  {
   "cell_type": "code",
   "execution_count": 6,
   "metadata": {},
   "outputs": [],
   "source": [
    "# List of file names\n",
    "file_names = [\n",
    "    '9171_20241001_N11507060127_ Rapid polarization-2.csv'\n",
    "    ]\n",
    "\n",
    "# print(f\"Processing file: {file_names}\")\n",
    "dataframes = load_csv_files(file_names, '', 'deep learning assignment')\n"
   ]
  },
  {
   "cell_type": "code",
   "execution_count": 7,
   "metadata": {},
   "outputs": [
    {
     "name": "stdout",
     "output_type": "stream",
     "text": [
      "<class 'pandas.core.frame.DataFrame'>\n",
      "       Time (HH:mm:ss.SSS) Channel     CH      V      A\n",
      "count                16383   16341  16320  16320  16320\n",
      "unique               16323   16321      2    142     16\n",
      "top                   Step     CH1    CH1  2.926  2.251\n",
      "freq                    21      21  16299   2120   5620\n"
     ]
    }
   ],
   "source": [
    "# Extract the DataFrame\n",
    "data = dataframes['9171_20241001_N11507060127__Rapid_polarization-2_csv']\n",
    "\n",
    "# Confirm it's a DataFrame\n",
    "print(type(data))  # Should output <class 'pandas.core.frame.DataFrame'>\n",
    "\n",
    "# Use the describe() method\n",
    "print(data.describe())\n"
   ]
  },
  {
   "cell_type": "code",
   "execution_count": 8,
   "metadata": {},
   "outputs": [
    {
     "data": {
      "text/html": [
       "<div>\n",
       "<style scoped>\n",
       "    .dataframe tbody tr th:only-of-type {\n",
       "        vertical-align: middle;\n",
       "    }\n",
       "\n",
       "    .dataframe tbody tr th {\n",
       "        vertical-align: top;\n",
       "    }\n",
       "\n",
       "    .dataframe thead th {\n",
       "        text-align: right;\n",
       "    }\n",
       "</style>\n",
       "<table border=\"1\" class=\"dataframe\">\n",
       "  <thead>\n",
       "    <tr style=\"text-align: right;\">\n",
       "      <th></th>\n",
       "      <th>Time (HH:mm:ss.SSS)</th>\n",
       "      <th>Channel</th>\n",
       "      <th>CH</th>\n",
       "      <th>V</th>\n",
       "      <th>A</th>\n",
       "    </tr>\n",
       "  </thead>\n",
       "  <tbody>\n",
       "    <tr>\n",
       "      <th>0</th>\n",
       "      <td>11:45:54.513</td>\n",
       "      <td>0.780562</td>\n",
       "      <td>CH1</td>\n",
       "      <td>1.429</td>\n",
       "      <td>0.046</td>\n",
       "    </tr>\n",
       "    <tr>\n",
       "      <th>1</th>\n",
       "      <td>11:45:54.753</td>\n",
       "      <td>1.0206133</td>\n",
       "      <td>CH1</td>\n",
       "      <td>1.444</td>\n",
       "      <td>0.046</td>\n",
       "    </tr>\n",
       "    <tr>\n",
       "      <th>2</th>\n",
       "      <td>11:45:54.983</td>\n",
       "      <td>1.2505946</td>\n",
       "      <td>CH1</td>\n",
       "      <td>1.452</td>\n",
       "      <td>0.046</td>\n",
       "    </tr>\n",
       "    <tr>\n",
       "      <th>3</th>\n",
       "      <td>11:45:55.223</td>\n",
       "      <td>1.490689</td>\n",
       "      <td>CH1</td>\n",
       "      <td>1.457</td>\n",
       "      <td>0.046</td>\n",
       "    </tr>\n",
       "    <tr>\n",
       "      <th>4</th>\n",
       "      <td>11:45:55.453</td>\n",
       "      <td>1.7206743</td>\n",
       "      <td>CH1</td>\n",
       "      <td>1.461</td>\n",
       "      <td>0.046</td>\n",
       "    </tr>\n",
       "  </tbody>\n",
       "</table>\n",
       "</div>"
      ],
      "text/plain": [
       "  Time (HH:mm:ss.SSS)    Channel   CH      V      A\n",
       "0        11:45:54.513   0.780562  CH1  1.429  0.046\n",
       "1        11:45:54.753  1.0206133  CH1  1.444  0.046\n",
       "2        11:45:54.983  1.2505946  CH1  1.452  0.046\n",
       "3        11:45:55.223   1.490689  CH1  1.457  0.046\n",
       "4        11:45:55.453  1.7206743  CH1  1.461  0.046"
      ]
     },
     "execution_count": 8,
     "metadata": {},
     "output_type": "execute_result"
    }
   ],
   "source": [
    "data.head()"
   ]
  },
  {
   "cell_type": "code",
   "execution_count": 9,
   "metadata": {},
   "outputs": [
    {
     "data": {
      "text/plain": [
       "Time (HH:mm:ss.SSS)    object\n",
       "Channel                object\n",
       "CH                     object\n",
       "V                      object\n",
       "A                      object\n",
       "dtype: object"
      ]
     },
     "execution_count": 9,
     "metadata": {},
     "output_type": "execute_result"
    }
   ],
   "source": [
    "data.dtypes"
   ]
  },
  {
   "cell_type": "code",
   "execution_count": 10,
   "metadata": {},
   "outputs": [],
   "source": [
    "# Convert `V` and `A` columns to numeric\n",
    "data['V'] = pd.to_numeric(data['V'], errors='coerce')\n",
    "data['A'] = pd.to_numeric(data['A'], errors='coerce')"
   ]
  },
  {
   "cell_type": "code",
   "execution_count": 11,
   "metadata": {},
   "outputs": [],
   "source": [
    "# Drop rows with NaN values in these columns if conversion fails\n",
    "data = data.dropna(subset=['V', 'A'])"
   ]
  },
  {
   "cell_type": "code",
   "execution_count": 12,
   "metadata": {},
   "outputs": [
    {
     "data": {
      "text/html": [
       "<div>\n",
       "<style scoped>\n",
       "    .dataframe tbody tr th:only-of-type {\n",
       "        vertical-align: middle;\n",
       "    }\n",
       "\n",
       "    .dataframe tbody tr th {\n",
       "        vertical-align: top;\n",
       "    }\n",
       "\n",
       "    .dataframe thead th {\n",
       "        text-align: right;\n",
       "    }\n",
       "</style>\n",
       "<table border=\"1\" class=\"dataframe\">\n",
       "  <thead>\n",
       "    <tr style=\"text-align: right;\">\n",
       "      <th></th>\n",
       "      <th>V</th>\n",
       "      <th>A</th>\n",
       "    </tr>\n",
       "  </thead>\n",
       "  <tbody>\n",
       "    <tr>\n",
       "      <th>0</th>\n",
       "      <td>0.000000</td>\n",
       "      <td>0.0</td>\n",
       "    </tr>\n",
       "    <tr>\n",
       "      <th>1</th>\n",
       "      <td>0.007637</td>\n",
       "      <td>0.0</td>\n",
       "    </tr>\n",
       "    <tr>\n",
       "      <th>2</th>\n",
       "      <td>0.011711</td>\n",
       "      <td>0.0</td>\n",
       "    </tr>\n",
       "    <tr>\n",
       "      <th>3</th>\n",
       "      <td>0.014257</td>\n",
       "      <td>0.0</td>\n",
       "    </tr>\n",
       "    <tr>\n",
       "      <th>4</th>\n",
       "      <td>0.016293</td>\n",
       "      <td>0.0</td>\n",
       "    </tr>\n",
       "  </tbody>\n",
       "</table>\n",
       "</div>"
      ],
      "text/plain": [
       "          V    A\n",
       "0  0.000000  0.0\n",
       "1  0.007637  0.0\n",
       "2  0.011711  0.0\n",
       "3  0.014257  0.0\n",
       "4  0.016293  0.0"
      ]
     },
     "execution_count": 12,
     "metadata": {},
     "output_type": "execute_result"
    }
   ],
   "source": [
    "# Select numeric columns\n",
    "numeric_cols = data.select_dtypes(include=['float64', 'int64']).columns\n",
    "numeric_data = data[numeric_cols]\n",
    "\n",
    "# Apply MinMaxScaler\n",
    "scaler = MinMaxScaler()\n",
    "scaled = scaler.fit_transform(numeric_data)\n",
    "\n",
    "# Create a new DataFrame with scaled values\n",
    "scaled_data = pd.DataFrame(scaled, columns=numeric_cols, index=data.index)\n",
    "\n",
    "# # Optional: Combine with non-numeric columns\n",
    "# non_numeric_cols = data.select_dtypes(exclude=['float64', 'int64'])\n",
    "# final_data = pd.concat([non_numeric_cols, scaled_data], axis=1)\n",
    "\n",
    "# # Check the result\n",
    "# print(final_data.head())\n",
    "\n",
    "scaled_data.head()\n"
   ]
  },
  {
   "cell_type": "markdown",
   "metadata": {},
   "source": [
    "## **NARX Neural Network Model**\n",
    "\n",
    "The NARX (Nonlinear Autoregressive with Exogenous Inputs) model is a type of recurrent neural network (RNN) designed to predict future values in a time-series dataset by using past values of the target variable (autoregressive terms) and past values of external (exogenous) variables. It is particularly useful when the relationship between the variables is nonlinear, which is common in real-world systems\n",
    "\n",
    "---\n",
    "\n",
    "The NARX model leverages both historical values of the target variable and additional exogenous inputs to make predictions. This dual input system makes it highly effective for modeling time-series data where both internal system dynamics and external influences are important.\n",
    "\n",
    "Mathematically, the NARX model is expressed as:\n",
    "\n",
    "\\[\n",
    "y(t) = f(y(t-1), y(t-2), ..., y(t-n), u(t-1), u(t-2), ..., u(t-m)) + e(t)\n",
    "\\]\n",
    "\n",
    "Where:\n",
    "- \\(y(t)\\): The target variable at time \\(t\\).\n",
    "- \\(y(t-1), y(t-2), ..., y(t-n)\\): The autoregressive terms — previous values of the target variable, up to time 𝑡−𝑛.\n",
    "- \\(u(t-1), u(t-2), ..., u(t-m)\\): The exogenous input terms — previous values of the independent or external variables, up to time t−m.\n",
    "- \\(e(t)\\): The error term at time \\(t\\).\n",
    "- \\(f\\): A nonlinear function, typically approximated using a neural network.\n",
    "\n",
    "In this framework:\n",
    "- **\\(y\\)**: Represents the target variable.\n",
    "- **\\(u\\)**: The input sequence of past data that influence the target variable.\n",
    "- **Neural Network**: The function 𝑓 is modeled using a neural network, which learns the nonlinear relationships between the autoregressive terms, exogenous inputs, and the target variable. This is what makes NARX different from traditional linear autoregressive models.\n",
    "---\n"
   ]
  },
  {
   "cell_type": "code",
   "execution_count": null,
   "metadata": {},
   "outputs": [],
   "source": []
  },
  {
   "cell_type": "markdown",
   "metadata": {},
   "source": [
    "### 1. Using Feedforward neural network (FNN) Implementation"
   ]
  },
  {
   "cell_type": "markdown",
   "metadata": {},
   "source": [
    "**Mathematical explanation for the sequence function**\n",
    "\n",
    "The function `create_narxffn_sequences` creates overlapping sliding windows from the dataset:\n",
    "\n",
    "- **Mathematics**:\n",
    "  - For each window of size \\(L\\) (sequence length):\n",
    "    - **Inputs**: \\([x_{t-L}, x_{t-L+1}, ..., x_{t-1}]\\)\n",
    "    - **Target**: \\(x_t\\)\n",
    "\n",
    "- The function also flattens the data for simpler input into the dense network.\n",
    "\n",
    "---\n",
    "\n"
   ]
  },
  {
   "cell_type": "code",
   "execution_count": 13,
   "metadata": {},
   "outputs": [
    {
     "name": "stderr",
     "output_type": "stream",
     "text": [
      "<>:2: SyntaxWarning: invalid escape sequence '\\('\n",
      "<>:2: SyntaxWarning: invalid escape sequence '\\('\n",
      "C:\\Users\\onyer\\AppData\\Local\\Temp\\ipykernel_20600\\522390846.py:2: SyntaxWarning: invalid escape sequence '\\('\n",
      "  \"\"\"\n"
     ]
    }
   ],
   "source": [
    "def create_narxffn_sequences(input_data, target_column, sequence_length=1, flatten=False):\n",
    "    \"\"\"\n",
    "    Generates sequences of input data and corresponding target labels from time-series data.\n",
    "\n",
    "    This function slices the input data into subsequences of a specified length, where each subsequence \n",
    "    corresponds to a sequence of input features, and the target label is the value of the specified \n",
    "    target column at the point immediately following the subsequence.\n",
    "\n",
    "    Parameters:\n",
    "    ----------\n",
    "    input_data : ndarray\n",
    "        A 2D array or matrix containing the time-series data (with rows as time steps and columns as features).\n",
    "        \n",
    "    target_column : int\n",
    "        The column index in the input data representing the target variable for which we are predicting.\n",
    "        \n",
    "    sequence_length : int, optional (default=1)\n",
    "        The length of the sequence used as input for the prediction model.\n",
    "        \n",
    "    flatten : bool, optional (default=False)\n",
    "        If True, flattens the input sequences into 1D arrays. If False, the sequences retain their original shape.\n",
    "\n",
    "    Returns:\n",
    "    -------\n",
    "    np.ndarray, np.ndarray\n",
    "        A tuple of two arrays:\n",
    "        - The first array contains the input sequences, each of shape (sequence_length, features).\n",
    "        - The second array contains the target labels corresponding to each sequence.\n",
    "\n",
    "    Mathematical Explanation:\n",
    "    -------------------------\n",
    "    Let \\( X_t \\) represent the input data at time step \\( t \\), and \\( Y_t \\) represent the target value \n",
    "    at time step \\( t \\) from the column `target_column`. The function generates subsequences \\( X_{t:t+L} \\) \n",
    "    (where \\( L \\) is the `sequence_length`) and assigns the target value as \\( Y_{t+L} \\) (the value at the \n",
    "    next time step after the sequence). \n",
    "\n",
    "    The formula for generating the input-output pair is:\n",
    "        Input sequence: \\( X = [X_t, X_{t+1}, ..., X_{t+L-1}] \\)\n",
    "        Target value: \\( Y = X_{t+L}[target_column] \\)\n",
    "\n",
    "    Example:\n",
    "    --------\n",
    "    input_data = np.array([[1, 2], [2, 3], [3, 4], [4, 5], [5, 6]])\n",
    "    target_column = 1\n",
    "    sequences, labels = create_sequences(input_data, target_column, sequence_length=2)\n",
    "    \"\"\"\n",
    "    inputs = []\n",
    "    targets = []\n",
    "    data_size = len(input_data)\n",
    "    \n",
    "    for i in range(data_size-sequence_length):\n",
    "        sequence = input_data[i:i+sequence_length]\n",
    "        #print(type(sequence))\n",
    "        label_position = i + sequence_length\n",
    "        label = input_data[label_position][target_column]\n",
    "        if flatten:\n",
    "            inputs.append(sequence.flatten())\n",
    "        else:\n",
    "            inputs.append(sequence)\n",
    "        targets.append(label)\n",
    "        \n",
    "    return np.array(inputs), np.array(targets)\n"
   ]
  },
  {
   "cell_type": "code",
   "execution_count": 14,
   "metadata": {},
   "outputs": [
    {
     "data": {
      "text/plain": [
       "((16296, 6), (16296,))"
      ]
     },
     "execution_count": 14,
     "metadata": {},
     "output_type": "execute_result"
    }
   ],
   "source": [
    "x, y = create_narxffn_sequences(scaled_data.to_numpy(), 1, 3, flatten=True)\n",
    "x.shape, y.shape"
   ]
  },
  {
   "cell_type": "code",
   "execution_count": 15,
   "metadata": {},
   "outputs": [
    {
     "name": "stdout",
     "output_type": "stream",
     "text": [
      "x_train shape: (12222, 6), y_train shape: (12222,)\n",
      "x_valid shape: (4074, 6), y_valid shape: (4074,)\n"
     ]
    }
   ],
   "source": [
    "split_ratio = 0.25\n",
    "split = int(len(x) * split_ratio)\n",
    "\n",
    "x_train, x_valid = x[:-split], x[-split:]\n",
    "y_train, y_valid = y[:-split], y[-split:]\n",
    "\n",
    "print(f\"x_train shape: {x_train.shape}, y_train shape: {y_train.shape}\")\n",
    "print(f\"x_valid shape: {x_valid.shape}, y_valid shape: {y_valid.shape}\")"
   ]
  },
  {
   "cell_type": "markdown",
   "metadata": {},
   "source": [
    "\n",
    "## **NARXFFN (Nonlinear Autoregressive with Exogenous Inputs Feedforward Neural Network)**\n",
    "\n",
    "The **NARXFFN** model is a simple feedforward neural network designed to predict future values based on past observations of both the target and exogenous variables. This model structure includes two layers:\n",
    "\n",
    "### **Model Architecture**\n",
    "\n",
    "```python\n",
    "narxffn_model = keras.Sequential([\n",
    "    layers.Dense(10, activation='tanh', input_shape=(x.shape[1],)),\n",
    "    layers.Dense(1, activation='relu')\n",
    "])\n",
    "```\n",
    "\n",
    "- **Input Layer**:\n",
    "    - The input layer accepts a vector of size `x.shape[1]`, where `x.shape[1]` represents the number of input features (time steps or external variables).\n",
    "    - The activation function used here is **'tanh'**, which helps capture nonlinear relationships in the data. The **tanh** function maps input values to a range of [-1, 1], allowing for better generalization in some cases.\n",
    "\n",
    "- **Hidden Layer**:\n",
    "    - A **Dense** layer with **10** units, using **'tanh'** as the activation function.\n",
    "    - This layer learns to transform the input features in a nonlinear manner and captures the dependencies between the input features.\n",
    "\n",
    "- **Output Layer**:\n",
    "    - A **Dense** layer with a single output, which predicts the target value at time \\(t\\). The **'relu'** activation function is used here, which is commonly applied for regression tasks, as it ensures that the output is non-negative and handles large output values better.\n",
    "\n",
    "### **Model Compilation**\n",
    "\n",
    "```python\n",
    "narxffn_model.compile(\n",
    "    optimizer=keras.optimizers.Adam(),\n",
    "    loss='mse',\n",
    "    metrics=['mae']\n",
    ")\n",
    "```\n",
    "\n",
    "- **Optimizer**: The **Adam** optimizer is used for training, which adjusts the model's weights based on the loss and gradients. It is efficient and widely used in training deep learning models.\n",
    "- **Loss Function**: **Mean Squared Error (MSE)** is used as the loss function, which is typical for regression tasks. It penalizes large prediction errors more than smaller ones.\n",
    "- **Metrics**: The model uses **Mean Absolute Error (MAE)** as an additional evaluation metric. This helps to understand the average magnitude of the errors, providing more interpretability of the model's performance in regression tasks.\n",
    "\n",
    "---"
   ]
  },
  {
   "cell_type": "code",
   "execution_count": 16,
   "metadata": {},
   "outputs": [
    {
     "name": "stderr",
     "output_type": "stream",
     "text": [
      "c:\\Users\\onyer\\OneDrive\\Desktop\\Research work\\1. Projects\\Battery_Analysis1\\env_analysis\\Lib\\site-packages\\keras\\src\\layers\\core\\dense.py:87: UserWarning: Do not pass an `input_shape`/`input_dim` argument to a layer. When using Sequential models, prefer using an `Input(shape)` object as the first layer in the model instead.\n",
      "  super().__init__(activity_regularizer=activity_regularizer, **kwargs)\n"
     ]
    }
   ],
   "source": [
    "# Assuming x.shape[1] is the number of input features\n",
    "narxffn_model = keras.Sequential([\n",
    "    layers.Dense(10, activation='tanh', input_shape=(x.shape[1],)),\n",
    "    layers.Dense(1, activation='relu')\n",
    "])\n",
    "\n",
    "# Corrected: Wrap the metrics argument in a list\n",
    "narxffn_model.compile(\n",
    "    optimizer=keras.optimizers.Adam(),\n",
    "    loss='mse',\n",
    "    metrics=['mae']  # Wrap 'mae' in a list\n",
    ")"
   ]
  },
  {
   "cell_type": "code",
   "execution_count": 17,
   "metadata": {},
   "outputs": [],
   "source": [
    "# Adding an EarlyStopping callback\n",
    "callback = keras.callbacks.EarlyStopping(monitor='loss', patience=10)"
   ]
  },
  {
   "cell_type": "code",
   "execution_count": 18,
   "metadata": {},
   "outputs": [
    {
     "name": "stdout",
     "output_type": "stream",
     "text": [
      "Epoch 1/500\n",
      "\u001b[1m408/408\u001b[0m \u001b[32m━━━━━━━━━━━━━━━━━━━━\u001b[0m\u001b[37m\u001b[0m \u001b[1m2s\u001b[0m 2ms/step - loss: 4.4789e-04 - mae: 0.0099 - val_loss: 3.5346e-04 - val_mae: 0.0064\n",
      "Epoch 2/500\n",
      "\u001b[1m408/408\u001b[0m \u001b[32m━━━━━━━━━━━━━━━━━━━━\u001b[0m\u001b[37m\u001b[0m \u001b[1m1s\u001b[0m 1ms/step - loss: 2.2678e-04 - mae: 0.0056 - val_loss: 3.4275e-04 - val_mae: 0.0054\n",
      "Epoch 3/500\n",
      "\u001b[1m408/408\u001b[0m \u001b[32m━━━━━━━━━━━━━━━━━━━━\u001b[0m\u001b[37m\u001b[0m \u001b[1m1s\u001b[0m 2ms/step - loss: 2.4673e-04 - mae: 0.0061 - val_loss: 3.4243e-04 - val_mae: 0.0044\n",
      "Epoch 4/500\n",
      "\u001b[1m408/408\u001b[0m \u001b[32m━━━━━━━━━━━━━━━━━━━━\u001b[0m\u001b[37m\u001b[0m \u001b[1m1s\u001b[0m 2ms/step - loss: 2.3598e-04 - mae: 0.0051 - val_loss: 3.4340e-04 - val_mae: 0.0066\n",
      "Epoch 5/500\n",
      "\u001b[1m408/408\u001b[0m \u001b[32m━━━━━━━━━━━━━━━━━━━━\u001b[0m\u001b[37m\u001b[0m \u001b[1m1s\u001b[0m 1ms/step - loss: 4.1820e-04 - mae: 0.0062 - val_loss: 3.2977e-04 - val_mae: 0.0052\n",
      "Epoch 6/500\n",
      "\u001b[1m408/408\u001b[0m \u001b[32m━━━━━━━━━━━━━━━━━━━━\u001b[0m\u001b[37m\u001b[0m \u001b[1m1s\u001b[0m 2ms/step - loss: 1.6405e-04 - mae: 0.0046 - val_loss: 3.6209e-04 - val_mae: 0.0069\n",
      "Epoch 7/500\n",
      "\u001b[1m408/408\u001b[0m \u001b[32m━━━━━━━━━━━━━━━━━━━━\u001b[0m\u001b[37m\u001b[0m \u001b[1m1s\u001b[0m 2ms/step - loss: 2.9899e-04 - mae: 0.0046 - val_loss: 3.2542e-04 - val_mae: 0.0041\n",
      "Epoch 8/500\n",
      "\u001b[1m408/408\u001b[0m \u001b[32m━━━━━━━━━━━━━━━━━━━━\u001b[0m\u001b[37m\u001b[0m \u001b[1m1s\u001b[0m 1ms/step - loss: 2.9289e-04 - mae: 0.0052 - val_loss: 3.1995e-04 - val_mae: 0.0041\n",
      "Epoch 9/500\n",
      "\u001b[1m408/408\u001b[0m \u001b[32m━━━━━━━━━━━━━━━━━━━━\u001b[0m\u001b[37m\u001b[0m \u001b[1m1s\u001b[0m 2ms/step - loss: 3.5283e-04 - mae: 0.0057 - val_loss: 3.2084e-04 - val_mae: 0.0034\n",
      "Epoch 10/500\n",
      "\u001b[1m408/408\u001b[0m \u001b[32m━━━━━━━━━━━━━━━━━━━━\u001b[0m\u001b[37m\u001b[0m \u001b[1m1s\u001b[0m 1ms/step - loss: 4.6912e-04 - mae: 0.0058 - val_loss: 3.1555e-04 - val_mae: 0.0038\n",
      "Epoch 11/500\n",
      "\u001b[1m408/408\u001b[0m \u001b[32m━━━━━━━━━━━━━━━━━━━━\u001b[0m\u001b[37m\u001b[0m \u001b[1m1s\u001b[0m 2ms/step - loss: 3.0232e-04 - mae: 0.0046 - val_loss: 3.1577e-04 - val_mae: 0.0032\n",
      "Epoch 12/500\n",
      "\u001b[1m408/408\u001b[0m \u001b[32m━━━━━━━━━━━━━━━━━━━━\u001b[0m\u001b[37m\u001b[0m \u001b[1m1s\u001b[0m 2ms/step - loss: 1.9822e-04 - mae: 0.0040 - val_loss: 3.1299e-04 - val_mae: 0.0032\n",
      "Epoch 13/500\n",
      "\u001b[1m408/408\u001b[0m \u001b[32m━━━━━━━━━━━━━━━━━━━━\u001b[0m\u001b[37m\u001b[0m \u001b[1m1s\u001b[0m 1ms/step - loss: 4.0163e-04 - mae: 0.0051 - val_loss: 3.1104e-04 - val_mae: 0.0037\n",
      "Epoch 14/500\n",
      "\u001b[1m408/408\u001b[0m \u001b[32m━━━━━━━━━━━━━━━━━━━━\u001b[0m\u001b[37m\u001b[0m \u001b[1m1s\u001b[0m 2ms/step - loss: 2.0902e-04 - mae: 0.0040 - val_loss: 3.1126e-04 - val_mae: 0.0031\n",
      "Epoch 15/500\n",
      "\u001b[1m408/408\u001b[0m \u001b[32m━━━━━━━━━━━━━━━━━━━━\u001b[0m\u001b[37m\u001b[0m \u001b[1m1s\u001b[0m 1ms/step - loss: 2.5788e-04 - mae: 0.0039 - val_loss: 3.1551e-04 - val_mae: 0.0041\n",
      "Epoch 16/500\n",
      "\u001b[1m408/408\u001b[0m \u001b[32m━━━━━━━━━━━━━━━━━━━━\u001b[0m\u001b[37m\u001b[0m \u001b[1m1s\u001b[0m 2ms/step - loss: 2.3510e-04 - mae: 0.0041 - val_loss: 3.0771e-04 - val_mae: 0.0030\n",
      "Epoch 17/500\n",
      "\u001b[1m408/408\u001b[0m \u001b[32m━━━━━━━━━━━━━━━━━━━━\u001b[0m\u001b[37m\u001b[0m \u001b[1m1s\u001b[0m 1ms/step - loss: 2.3614e-04 - mae: 0.0039 - val_loss: 4.1413e-04 - val_mae: 0.0116\n",
      "Epoch 18/500\n",
      "\u001b[1m408/408\u001b[0m \u001b[32m━━━━━━━━━━━━━━━━━━━━\u001b[0m\u001b[37m\u001b[0m \u001b[1m1s\u001b[0m 2ms/step - loss: 2.6386e-04 - mae: 0.0051 - val_loss: 3.5593e-04 - val_mae: 0.0076\n",
      "Epoch 19/500\n",
      "\u001b[1m408/408\u001b[0m \u001b[32m━━━━━━━━━━━━━━━━━━━━\u001b[0m\u001b[37m\u001b[0m \u001b[1m1s\u001b[0m 2ms/step - loss: 2.1204e-04 - mae: 0.0039 - val_loss: 3.0689e-04 - val_mae: 0.0030\n",
      "Epoch 20/500\n",
      "\u001b[1m408/408\u001b[0m \u001b[32m━━━━━━━━━━━━━━━━━━━━\u001b[0m\u001b[37m\u001b[0m \u001b[1m1s\u001b[0m 2ms/step - loss: 2.2344e-04 - mae: 0.0036 - val_loss: 3.1692e-04 - val_mae: 0.0039\n",
      "Epoch 21/500\n",
      "\u001b[1m408/408\u001b[0m \u001b[32m━━━━━━━━━━━━━━━━━━━━\u001b[0m\u001b[37m\u001b[0m \u001b[1m1s\u001b[0m 1ms/step - loss: 1.5157e-04 - mae: 0.0030 - val_loss: 3.0579e-04 - val_mae: 0.0029\n",
      "Epoch 22/500\n",
      "\u001b[1m408/408\u001b[0m \u001b[32m━━━━━━━━━━━━━━━━━━━━\u001b[0m\u001b[37m\u001b[0m \u001b[1m0s\u001b[0m 1ms/step - loss: 2.6155e-04 - mae: 0.0036 - val_loss: 3.1119e-04 - val_mae: 0.0041\n",
      "Epoch 23/500\n",
      "\u001b[1m408/408\u001b[0m \u001b[32m━━━━━━━━━━━━━━━━━━━━\u001b[0m\u001b[37m\u001b[0m \u001b[1m0s\u001b[0m 1ms/step - loss: 2.6630e-04 - mae: 0.0041 - val_loss: 3.0611e-04 - val_mae: 0.0026\n",
      "Epoch 24/500\n",
      "\u001b[1m408/408\u001b[0m \u001b[32m━━━━━━━━━━━━━━━━━━━━\u001b[0m\u001b[37m\u001b[0m \u001b[1m1s\u001b[0m 1ms/step - loss: 2.2155e-04 - mae: 0.0031 - val_loss: 3.0457e-04 - val_mae: 0.0024\n",
      "Epoch 25/500\n",
      "\u001b[1m408/408\u001b[0m \u001b[32m━━━━━━━━━━━━━━━━━━━━\u001b[0m\u001b[37m\u001b[0m \u001b[1m0s\u001b[0m 1ms/step - loss: 2.6229e-04 - mae: 0.0037 - val_loss: 3.0438e-04 - val_mae: 0.0025\n",
      "Epoch 26/500\n",
      "\u001b[1m408/408\u001b[0m \u001b[32m━━━━━━━━━━━━━━━━━━━━\u001b[0m\u001b[37m\u001b[0m \u001b[1m1s\u001b[0m 1ms/step - loss: 3.1516e-04 - mae: 0.0040 - val_loss: 3.0576e-04 - val_mae: 0.0034\n",
      "Epoch 27/500\n",
      "\u001b[1m408/408\u001b[0m \u001b[32m━━━━━━━━━━━━━━━━━━━━\u001b[0m\u001b[37m\u001b[0m \u001b[1m0s\u001b[0m 1ms/step - loss: 2.8908e-04 - mae: 0.0032 - val_loss: 3.0797e-04 - val_mae: 0.0025\n",
      "Epoch 28/500\n",
      "\u001b[1m408/408\u001b[0m \u001b[32m━━━━━━━━━━━━━━━━━━━━\u001b[0m\u001b[37m\u001b[0m \u001b[1m0s\u001b[0m 1ms/step - loss: 2.0876e-04 - mae: 0.0032 - val_loss: 3.1708e-04 - val_mae: 0.0040\n",
      "Epoch 29/500\n",
      "\u001b[1m408/408\u001b[0m \u001b[32m━━━━━━━━━━━━━━━━━━━━\u001b[0m\u001b[37m\u001b[0m \u001b[1m0s\u001b[0m 1ms/step - loss: 1.6579e-04 - mae: 0.0031 - val_loss: 3.0343e-04 - val_mae: 0.0025\n",
      "Epoch 30/500\n",
      "\u001b[1m408/408\u001b[0m \u001b[32m━━━━━━━━━━━━━━━━━━━━\u001b[0m\u001b[37m\u001b[0m \u001b[1m0s\u001b[0m 1ms/step - loss: 1.6325e-04 - mae: 0.0029 - val_loss: 3.2150e-04 - val_mae: 0.0048\n",
      "Epoch 31/500\n",
      "\u001b[1m408/408\u001b[0m \u001b[32m━━━━━━━━━━━━━━━━━━━━\u001b[0m\u001b[37m\u001b[0m \u001b[1m0s\u001b[0m 1ms/step - loss: 3.0684e-04 - mae: 0.0043 - val_loss: 3.0317e-04 - val_mae: 0.0023\n"
     ]
    }
   ],
   "source": [
    "history = narxffn_model.fit(\n",
    "    x,y, \n",
    "    epochs=500, \n",
    "    validation_split=0.2, \n",
    "    verbose=1, \n",
    "    callbacks=[callback]\n",
    "    )"
   ]
  },
  {
   "cell_type": "code",
   "execution_count": 19,
   "metadata": {},
   "outputs": [
    {
     "data": {
      "image/png": "[encoded data removed]",
      "text/plain": [
       "<Figure size 640x480 with 1 Axes>"
      ]
     },
     "metadata": {},
     "output_type": "display_data"
    }
   ],
   "source": [
    "history.history['loss']\n",
    "\n",
    "# Plot training history\n",
    "plt.plot(history.history['loss'], label='Training Loss')\n",
    "plt.plot(history.history['val_loss'], label='Validation Loss')\n",
    "plt.legend()\n",
    "plt.show()"
   ]
  },
  {
   "cell_type": "code",
   "execution_count": 20,
   "metadata": {},
   "outputs": [],
   "source": [
    "# history.history['loss']"
   ]
  },
  {
   "cell_type": "code",
   "execution_count": 21,
   "metadata": {},
   "outputs": [],
   "source": [
    "predicted = narxffn_model(x)"
   ]
  },
  {
   "cell_type": "code",
   "execution_count": 22,
   "metadata": {},
   "outputs": [
    {
     "data": {
      "image/png": "[encoded data removed]",
      "text/plain": [
       "<Figure size 1200x400 with 1 Axes>"
      ]
     },
     "metadata": {},
     "output_type": "display_data"
    }
   ],
   "source": [
    "# Create the figure and set the size\n",
    "plt.figure(figsize=(12, 4))\n",
    "\n",
    "# Plot the predicted values\n",
    "plt.plot(predicted, label=\"Predicted\", color=\"blue\", linestyle=\"--\")\n",
    "\n",
    "# Plot the true values\n",
    "plt.plot(y, label=\"True Values\", color=\"orange\", linestyle=\"-\")\n",
    "\n",
    "# Add a title and labels\n",
    "plt.title(\"Comparison of Predicted and True Values\")\n",
    "plt.xlabel(\"Time Steps\")\n",
    "plt.ylabel(\"Values\")\n",
    "\n",
    "# Add a legend to distinguish the lines\n",
    "plt.legend()\n",
    "\n",
    "# Show the plot\n",
    "plt.show()\n"
   ]
  },
  {
   "cell_type": "code",
   "execution_count": 23,
   "metadata": {},
   "outputs": [
    {
     "name": "stdout",
     "output_type": "stream",
     "text": [
      "\u001b[1m510/510\u001b[0m \u001b[32m━━━━━━━━━━━━━━━━━━━━\u001b[0m\u001b[37m\u001b[0m \u001b[1m1s\u001b[0m 1ms/step - loss: 1.4276e-04 - mae: 0.0022\n"
     ]
    },
    {
     "data": {
      "text/plain": [
       "[0.000247122545260936, 0.002106020227074623]"
      ]
     },
     "execution_count": 23,
     "metadata": {},
     "output_type": "execute_result"
    }
   ],
   "source": [
    "narxffn_model.evaluate(x,y)"
   ]
  },
  {
   "cell_type": "code",
   "execution_count": 24,
   "metadata": {},
   "outputs": [
    {
     "name": "stdout",
     "output_type": "stream",
     "text": [
      "\u001b[1m128/128\u001b[0m \u001b[32m━━━━━━━━━━━━━━━━━━━━\u001b[0m\u001b[37m\u001b[0m \u001b[1m0s\u001b[0m 1ms/step  \n"
     ]
    }
   ],
   "source": [
    "# Make predictions\n",
    "y_prednarxffn = narxffn_model.predict(x_valid)"
   ]
  },
  {
   "cell_type": "code",
   "execution_count": 25,
   "metadata": {},
   "outputs": [
    {
     "data": {
      "image/png": "[encoded data removed]",
      "text/plain": [
       "<Figure size 1200x400 with 1 Axes>"
      ]
     },
     "metadata": {},
     "output_type": "display_data"
    }
   ],
   "source": [
    "# Reshape y_valid and y_prednarxffn to be 2D arrays\n",
    "y_valid_reshaped = y_valid.reshape(-1, 1)\n",
    "y_prednarxffn_reshaped = y_prednarxffn.reshape(-1, 1)\n",
    "\n",
    "# Rescale back to original values for comparison\n",
    "y_valid_rescaled = scaler.inverse_transform(\n",
    "    np.hstack((y_valid_reshaped, np.zeros_like(y_valid_reshaped)))\n",
    ")\n",
    "y_prednarxffn_rescaled = scaler.inverse_transform(\n",
    "    np.hstack((y_prednarxffn_reshaped, np.zeros_like(y_prednarxffn_reshaped)))\n",
    ")\n",
    "\n",
    "# Plot predictions vs actuals\n",
    "plt.figure(figsize=(12, 4))\n",
    "plt.plot(y_valid_rescaled[:, 0], label=\"Actual Values\", color=\"blue\")\n",
    "plt.plot(y_prednarxffn_rescaled[:, 0], label=\"Predicted Values\", color=\"orange\")\n",
    "plt.title(\"Predicted vs Actual Values\")\n",
    "plt.xlabel(\"Time Steps\")\n",
    "plt.ylabel(\"Values\")\n",
    "plt.legend()\n",
    "plt.show()\n"
   ]
  },
  {
   "cell_type": "markdown",
   "metadata": {},
   "source": [
    "### 2. Classical NARXNN Implementation"
   ]
  },
  {
   "cell_type": "markdown",
   "metadata": {},
   "source": [
    "**Mathematical explanation for the sequence function**\n",
    "\n",
    "The function `create_narx_sequences` creates overlapping sliding windows from the dataset:\n",
    "\n",
    "- **Mathematical Explanation:**\n",
    "\n",
    "Let \\( X_t \\) represent the input data at time step \\( t \\), and \\( Y_t \\) represent the target variable at time step \\( t \\).\n",
    "\n",
    "For each sequence, the function creates:\n",
    "- **AR terms**: \\( AR_t = [Y_{t-1}, Y_{t-2}, ..., Y_{t-k}] \\) (past values of the target column).\n",
    "- **Exogenous terms**: \\( X_{exog} = [X_{t-1}, X_{t-2}, ..., X_{t-k}] \\) (past values of all input variables except the target).\n",
    "\n",
    "The resulting input for time step \\( t \\) is:\n",
    "\n",
    "\\[\n",
    "\\text{Input} = [AR_t, X_{exog}]\n",
    "\\]\n",
    "\n",
    "The target for this input sequence is the future target values over the output lags:\n",
    "\n",
    "\\[\n",
    "Y_{t+1:t+\\text{output\\_lags}}\n",
    "\\]\n",
    "\n",
    "---\n",
    "\n"
   ]
  },
  {
   "cell_type": "code",
   "execution_count": 26,
   "metadata": {},
   "outputs": [
    {
     "name": "stderr",
     "output_type": "stream",
     "text": [
      "<>:2: SyntaxWarning: invalid escape sequence '\\('\n",
      "<>:2: SyntaxWarning: invalid escape sequence '\\('\n",
      "C:\\Users\\onyer\\AppData\\Local\\Temp\\ipykernel_20600\\1748450969.py:2: SyntaxWarning: invalid escape sequence '\\('\n",
      "  \"\"\"\n"
     ]
    }
   ],
   "source": [
    "def create_narx_sequences(data, target_column, input_lags=3, output_lags=1):\n",
    "    \"\"\"\n",
    "    Generates sequences with explicit autoregressive (AR) terms and exogenous (input) terms for NARXNN \n",
    "    (Nonlinear AutoRegressive with eXogenous inputs) models.\n",
    "\n",
    "    This function creates sequences where the inputs include both past values of the target (AR terms) \n",
    "    and past values of all other features (exogenous inputs). The outputs are the future values of the \n",
    "    target variable over the specified output lags.\n",
    "\n",
    "    Parameters:\n",
    "    ----------\n",
    "    data : ndarray\n",
    "        A 2D array containing the time-series data, where each row represents a time step and each column represents a feature.\n",
    "        \n",
    "    target_column : int\n",
    "        The column index of the target variable for prediction.\n",
    "\n",
    "    input_lags : int, optional (default=3)\n",
    "        The number of past time steps to include in the input sequence for both AR and exogenous terms.\n",
    "\n",
    "    output_lags : int, optional (default=1)\n",
    "        The number of future time steps for which predictions are made.\n",
    "\n",
    "    Returns:\n",
    "    -------\n",
    "    np.ndarray, np.ndarray\n",
    "        A tuple containing:\n",
    "        - The first array contains the input sequences (with both AR and exogenous inputs).\n",
    "        - The second array contains the future target values (over `output_lags` time steps).\n",
    "\n",
    "    Mathematical Explanation:\n",
    "    -------------------------\n",
    "    Let \\( X_t \\) represent the input data at time step \\( t \\), and \\( Y_t \\) represent the target variable at time step \\( t \\).\n",
    "    For each sequence, the function creates:\n",
    "    - AR terms: \\( AR_t = [Y_{t-1}, Y_{t-2}, ..., Y_{t-k}] \\) (past values of the target column).\n",
    "    - Exogenous terms: \\( X_{exog} = [X_{t-1}, X_{t-2}, ..., X_{t-k}] \\) (past values of all input variables except the target).\n",
    "\n",
    "    The resulting input for time step \\( t \\) is: \n",
    "        \\( Input = [AR_t, X_{exog}] \\)\n",
    "\n",
    "    The target for this input sequence is the future target values over the output lags:\n",
    "        \\( Y_{t+1:t+output\\_lags} \\)\n",
    "\n",
    "    Example:\n",
    "    --------\n",
    "    data = np.array([[1, 2], [2, 3], [3, 4], [4, 5], [5, 6]])\n",
    "    target_column = 1\n",
    "    input_lags = 2\n",
    "    output_lags = 1\n",
    "    sequences, labels = create_narx_sequences(data, target_column, input_lags=input_lags, output_lags=output_lags)\n",
    "    \"\"\"\n",
    "    inputs, targets = [], []\n",
    "    n_samples = len(data)\n",
    "\n",
    "    for i in range(input_lags, n_samples - output_lags):\n",
    "        # AR terms (past values of the target)\n",
    "        ar_terms = data[i - input_lags:i, target_column]\n",
    "        \n",
    "        # Exogenous terms (past values of the other input variables)\n",
    "        exog_terms = data[i - input_lags:i, :]\n",
    "        \n",
    "        # Concatenate AR terms and exogenous terms\n",
    "        # inputs.append(np.hstack([ar_terms, exog_terms.flatten()]))\n",
    "        combined = np.hstack([ar_terms.reshape(-1, 1), exog_terms])\n",
    "        inputs.append(combined)  # Keep shape as (input_lags, features)\n",
    "        \n",
    "        # Future target values for output lags\n",
    "        targets.append(data[i:i + output_lags, target_column])\n",
    "    \n",
    "    return np.array(inputs), np.array(targets)\n"
   ]
  },
  {
   "cell_type": "code",
   "execution_count": 27,
   "metadata": {},
   "outputs": [],
   "source": [
    "# Define target (e.g., 'V' column as the target variable)\n",
    "target_column = 0  # 'V' is the first column\n",
    "input_lags = 3  # Number of past steps to include\n",
    "output_lags = 1  # Predict one step ahead\n",
    "\n",
    "x, y = create_narx_sequences(scaled_data.to_numpy(), target_column, input_lags, output_lags)"
   ]
  },
  {
   "cell_type": "code",
   "execution_count": 28,
   "metadata": {},
   "outputs": [
    {
     "name": "stdout",
     "output_type": "stream",
     "text": [
      "x_train shape: (12221, 3, 3), y_train shape: (12221, 1)\n",
      "x_valid shape: (4074, 3, 3), y_valid shape: (4074, 1)\n"
     ]
    }
   ],
   "source": [
    "# Train-test split\n",
    "split_ratio = 0.25\n",
    "split = int(len(x) * (1 - split_ratio))\n",
    "x_train, x_valid = x[:split], x[split:]\n",
    "y_train, y_valid = y[:split], y[split:]\n",
    "\n",
    "print(f\"x_train shape: {x_train.shape}, y_train shape: {y_train.shape}\")\n",
    "print(f\"x_valid shape: {x_valid.shape}, y_valid shape: {y_valid.shape}\")"
   ]
  },
  {
   "cell_type": "code",
   "execution_count": 29,
   "metadata": {},
   "outputs": [
    {
     "name": "stdout",
     "output_type": "stream",
     "text": [
      "x_train shape: (12221, 3, 3)\n",
      "y_train shape: (12221, 1)\n"
     ]
    }
   ],
   "source": [
    "# Check shapes after fixing\n",
    "print(f\"x_train shape: {x_train.shape}\")  # Expected: (samples, timesteps, features)\n",
    "print(f\"y_train shape: {y_train.shape}\")  # Expected: (samples, output_lags)"
   ]
  },
  {
   "cell_type": "markdown",
   "metadata": {},
   "source": [
    "## **NARXNN (Nonlinear Autoregressive with Exogenous Inputs Neural Network with LSTM)**\n",
    "\n",
    "The **NARXNN** model uses a more sophisticated architecture with an **LSTM (Long Short-Term Memory)** layer to capture sequential dependencies in the time-series data, which is especially useful for time-series forecasting problems.\n",
    "\n",
    "### **Model Architecture**\n",
    "\n",
    "```python\n",
    "narx_model = keras.Sequential([\n",
    "    layers.LSTM(32, activation='tanh', input_shape=(x_train.shape[1], x_train.shape[2])),\n",
    "    layers.Dense(16, activation='tanh'),\n",
    "    layers.Dense(y_train.shape[1], activation='relu')  # Output layer\n",
    "])\n",
    "```\n",
    "\n",
    "- **LSTM Layer (32 units)**:\n",
    "    - The first layer is an **LSTM** layer with **32 units**. LSTMs are a type of recurrent neural network (RNN) specifically designed to learn long-term dependencies in sequential data.\n",
    "    - The **activation function** used here is **'tanh'**, which helps capture the nonlinear relationships in the sequential data.\n",
    "    - The **input shape** is specified as `(x_train.shape[1], x_train.shape[2])`, which represents the number of time steps and the number of features (exogenous inputs) at each time step.\n",
    "\n",
    "- **Hidden Dense Layer**:\n",
    "    - A **Dense** layer with **16 units**, using the **'tanh'** activation function. This layer further processes the output of the LSTM layer to capture more complex relationships between the sequence and the target variable.\n",
    "\n",
    "- **Output Layer**:\n",
    "    - The final **Dense** layer outputs the predicted values, with the number of units matching the shape of the target variable (`y_train.shape[1]`), and uses the **'relu'** activation function. This activation ensures that the predicted values are non-negative and are appropriate for regression tasks.\n",
    "\n",
    "### **Model Compilation**\n",
    "\n",
    "```python\n",
    "narx_model.compile(\n",
    "    optimizer=keras.optimizers.Adam(), \n",
    "    loss='mse', \n",
    "    metrics=['mae']\n",
    "    )\n",
    "```\n",
    "\n",
    "- **Optimizer**: **Adam** is used as the optimizer, known for its efficiency in training neural networks by adjusting the weights through adaptive learning rates.\n",
    "- **Loss Function**: **Mean Squared Error (MSE)** is the loss function, which penalizes large deviations between the predicted and actual target values.\n",
    "- **Metrics**: **Mean Absolute Error (MAE)** is used as a metric, providing an average of the absolute errors, which is useful for evaluating the prediction quality.\n",
    "\n",
    "---"
   ]
  },
  {
   "cell_type": "code",
   "execution_count": 30,
   "metadata": {},
   "outputs": [
    {
     "name": "stderr",
     "output_type": "stream",
     "text": [
      "c:\\Users\\onyer\\OneDrive\\Desktop\\Research work\\1. Projects\\Battery_Analysis1\\env_analysis\\Lib\\site-packages\\keras\\src\\layers\\rnn\\rnn.py:204: UserWarning: Do not pass an `input_shape`/`input_dim` argument to a layer. When using Sequential models, prefer using an `Input(shape)` object as the first layer in the model instead.\n",
      "  super().__init__(**kwargs)\n"
     ]
    }
   ],
   "source": [
    "# Define the NARXNN model\n",
    "narx_model = keras.Sequential([\n",
    "    layers.LSTM(32, activation='tanh', input_shape=(x_train.shape[1], x_train.shape[2])),\n",
    "    layers.Dense(16, activation='tanh'),\n",
    "    layers.Dense(y_train.shape[1], activation='relu')  # Output layer\n",
    "])\n",
    "\n",
    "# Compile the model\n",
    "narx_model.compile(\n",
    "    optimizer=keras.optimizers.Adam(), \n",
    "    loss='mse', \n",
    "    metrics=['mae']\n",
    "    )\n"
   ]
  },
  {
   "cell_type": "code",
   "execution_count": 31,
   "metadata": {},
   "outputs": [],
   "source": [
    "# Train the model\n",
    "callback = keras.callbacks.EarlyStopping(monitor='val_loss', patience=10, restore_best_weights=True)"
   ]
  },
  {
   "cell_type": "code",
   "execution_count": 32,
   "metadata": {},
   "outputs": [
    {
     "name": "stdout",
     "output_type": "stream",
     "text": [
      "Epoch 1/500\n",
      "\u001b[1m382/382\u001b[0m \u001b[32m━━━━━━━━━━━━━━━━━━━━\u001b[0m\u001b[37m\u001b[0m \u001b[1m3s\u001b[0m 3ms/step - loss: 0.0205 - mae: 0.0712 - val_loss: 3.3733e-04 - val_mae: 0.0110\n",
      "Epoch 2/500\n",
      "\u001b[1m382/382\u001b[0m \u001b[32m━━━━━━━━━━━━━━━━━━━━\u001b[0m\u001b[37m\u001b[0m \u001b[1m1s\u001b[0m 3ms/step - loss: 5.8943e-04 - mae: 0.0082 - val_loss: 2.2346e-04 - val_mae: 0.0028\n",
      "Epoch 3/500\n",
      "\u001b[1m382/382\u001b[0m \u001b[32m━━━━━━━━━━━━━━━━━━━━\u001b[0m\u001b[37m\u001b[0m \u001b[1m1s\u001b[0m 3ms/step - loss: 2.2711e-04 - mae: 0.0037 - val_loss: 2.1558e-04 - val_mae: 0.0027\n",
      "Epoch 4/500\n",
      "\u001b[1m382/382\u001b[0m \u001b[32m━━━━━━━━━━━━━━━━━━━━\u001b[0m\u001b[37m\u001b[0m \u001b[1m1s\u001b[0m 3ms/step - loss: 2.8161e-04 - mae: 0.0039 - val_loss: 2.1192e-04 - val_mae: 0.0031\n",
      "Epoch 5/500\n",
      "\u001b[1m382/382\u001b[0m \u001b[32m━━━━━━━━━━━━━━━━━━━━\u001b[0m\u001b[37m\u001b[0m \u001b[1m1s\u001b[0m 4ms/step - loss: 2.9048e-04 - mae: 0.0042 - val_loss: 2.6640e-04 - val_mae: 0.0084\n",
      "Epoch 6/500\n",
      "\u001b[1m382/382\u001b[0m \u001b[32m━━━━━━━━━━━━━━━━━━━━\u001b[0m\u001b[37m\u001b[0m \u001b[1m1s\u001b[0m 3ms/step - loss: 3.7235e-04 - mae: 0.0048 - val_loss: 2.0002e-04 - val_mae: 0.0036\n",
      "Epoch 7/500\n",
      "\u001b[1m382/382\u001b[0m \u001b[32m━━━━━━━━━━━━━━━━━━━━\u001b[0m\u001b[37m\u001b[0m \u001b[1m1s\u001b[0m 3ms/step - loss: 4.7307e-04 - mae: 0.0051 - val_loss: 1.9403e-04 - val_mae: 0.0028\n",
      "Epoch 8/500\n",
      "\u001b[1m382/382\u001b[0m \u001b[32m━━━━━━━━━━━━━━━━━━━━\u001b[0m\u001b[37m\u001b[0m \u001b[1m1s\u001b[0m 3ms/step - loss: 3.1446e-04 - mae: 0.0043 - val_loss: 1.8278e-04 - val_mae: 0.0031\n",
      "Epoch 9/500\n",
      "\u001b[1m382/382\u001b[0m \u001b[32m━━━━━━━━━━━━━━━━━━━━\u001b[0m\u001b[37m\u001b[0m \u001b[1m1s\u001b[0m 3ms/step - loss: 3.2636e-04 - mae: 0.0046 - val_loss: 1.7767e-04 - val_mae: 0.0031\n",
      "Epoch 10/500\n",
      "\u001b[1m382/382\u001b[0m \u001b[32m━━━━━━━━━━━━━━━━━━━━\u001b[0m\u001b[37m\u001b[0m \u001b[1m1s\u001b[0m 3ms/step - loss: 2.7784e-04 - mae: 0.0045 - val_loss: 1.6781e-04 - val_mae: 0.0026\n",
      "Epoch 11/500\n",
      "\u001b[1m382/382\u001b[0m \u001b[32m━━━━━━━━━━━━━━━━━━━━\u001b[0m\u001b[37m\u001b[0m \u001b[1m1s\u001b[0m 3ms/step - loss: 3.0563e-04 - mae: 0.0041 - val_loss: 1.7023e-04 - val_mae: 0.0034\n",
      "Epoch 12/500\n",
      "\u001b[1m382/382\u001b[0m \u001b[32m━━━━━━━━━━━━━━━━━━━━\u001b[0m\u001b[37m\u001b[0m \u001b[1m1s\u001b[0m 2ms/step - loss: 4.2103e-04 - mae: 0.0064 - val_loss: 1.5657e-04 - val_mae: 0.0020\n",
      "Epoch 13/500\n",
      "\u001b[1m382/382\u001b[0m \u001b[32m━━━━━━━━━━━━━━━━━━━━\u001b[0m\u001b[37m\u001b[0m \u001b[1m1s\u001b[0m 2ms/step - loss: 2.0564e-04 - mae: 0.0033 - val_loss: 1.5541e-04 - val_mae: 0.0021\n",
      "Epoch 14/500\n",
      "\u001b[1m382/382\u001b[0m \u001b[32m━━━━━━━━━━━━━━━━━━━━\u001b[0m\u001b[37m\u001b[0m \u001b[1m1s\u001b[0m 2ms/step - loss: 3.2081e-04 - mae: 0.0044 - val_loss: 1.5896e-04 - val_mae: 0.0030\n",
      "Epoch 15/500\n",
      "\u001b[1m382/382\u001b[0m \u001b[32m━━━━━━━━━━━━━━━━━━━━\u001b[0m\u001b[37m\u001b[0m \u001b[1m1s\u001b[0m 2ms/step - loss: 2.1548e-04 - mae: 0.0032 - val_loss: 1.5279e-04 - val_mae: 0.0019\n",
      "Epoch 16/500\n",
      "\u001b[1m382/382\u001b[0m \u001b[32m━━━━━━━━━━━━━━━━━━━━\u001b[0m\u001b[37m\u001b[0m \u001b[1m1s\u001b[0m 3ms/step - loss: 1.9787e-04 - mae: 0.0030 - val_loss: 1.5434e-04 - val_mae: 0.0020\n",
      "Epoch 17/500\n",
      "\u001b[1m382/382\u001b[0m \u001b[32m━━━━━━━━━━━━━━━━━━━━\u001b[0m\u001b[37m\u001b[0m \u001b[1m1s\u001b[0m 3ms/step - loss: 2.8857e-04 - mae: 0.0036 - val_loss: 1.5067e-04 - val_mae: 0.0013\n",
      "Epoch 18/500\n",
      "\u001b[1m382/382\u001b[0m \u001b[32m━━━━━━━━━━━━━━━━━━━━\u001b[0m\u001b[37m\u001b[0m \u001b[1m1s\u001b[0m 2ms/step - loss: 1.1297e-04 - mae: 0.0025 - val_loss: 1.5337e-04 - val_mae: 0.0018\n",
      "Epoch 19/500\n",
      "\u001b[1m382/382\u001b[0m \u001b[32m━━━━━━━━━━━━━━━━━━━━\u001b[0m\u001b[37m\u001b[0m \u001b[1m1s\u001b[0m 2ms/step - loss: 2.0490e-04 - mae: 0.0032 - val_loss: 1.5297e-04 - val_mae: 0.0016\n",
      "Epoch 20/500\n",
      "\u001b[1m382/382\u001b[0m \u001b[32m━━━━━━━━━━━━━━━━━━━━\u001b[0m\u001b[37m\u001b[0m \u001b[1m1s\u001b[0m 3ms/step - loss: 2.8242e-04 - mae: 0.0037 - val_loss: 1.5221e-04 - val_mae: 0.0016\n",
      "Epoch 21/500\n",
      "\u001b[1m382/382\u001b[0m \u001b[32m━━━━━━━━━━━━━━━━━━━━\u001b[0m\u001b[37m\u001b[0m \u001b[1m1s\u001b[0m 2ms/step - loss: 4.0147e-04 - mae: 0.0038 - val_loss: 1.8025e-04 - val_mae: 0.0057\n",
      "Epoch 22/500\n",
      "\u001b[1m382/382\u001b[0m \u001b[32m━━━━━━━━━━━━━━━━━━━━\u001b[0m\u001b[37m\u001b[0m \u001b[1m1s\u001b[0m 2ms/step - loss: 3.1933e-04 - mae: 0.0049 - val_loss: 1.5357e-04 - val_mae: 0.0017\n",
      "Epoch 23/500\n",
      "\u001b[1m382/382\u001b[0m \u001b[32m━━━━━━━━━━━━━━━━━━━━\u001b[0m\u001b[37m\u001b[0m \u001b[1m1s\u001b[0m 3ms/step - loss: 2.1118e-04 - mae: 0.0032 - val_loss: 1.5269e-04 - val_mae: 0.0017\n",
      "Epoch 24/500\n",
      "\u001b[1m382/382\u001b[0m \u001b[32m━━━━━━━━━━━━━━━━━━━━\u001b[0m\u001b[37m\u001b[0m \u001b[1m1s\u001b[0m 2ms/step - loss: 1.3586e-04 - mae: 0.0022 - val_loss: 3.1447e-04 - val_mae: 0.0130\n",
      "Epoch 25/500\n",
      "\u001b[1m382/382\u001b[0m \u001b[32m━━━━━━━━━━━━━━━━━━━━\u001b[0m\u001b[37m\u001b[0m \u001b[1m1s\u001b[0m 2ms/step - loss: 1.9459e-04 - mae: 0.0041 - val_loss: 1.5532e-04 - val_mae: 0.0022\n",
      "Epoch 26/500\n",
      "\u001b[1m382/382\u001b[0m \u001b[32m━━━━━━━━━━━━━━━━━━━━\u001b[0m\u001b[37m\u001b[0m \u001b[1m1s\u001b[0m 2ms/step - loss: 2.7045e-04 - mae: 0.0035 - val_loss: 1.5281e-04 - val_mae: 0.0021\n",
      "Epoch 27/500\n",
      "\u001b[1m382/382\u001b[0m \u001b[32m━━━━━━━━━━━━━━━━━━━━\u001b[0m\u001b[37m\u001b[0m \u001b[1m1s\u001b[0m 2ms/step - loss: 2.7076e-04 - mae: 0.0042 - val_loss: 1.5352e-04 - val_mae: 0.0016\n"
     ]
    }
   ],
   "source": [
    "history = narx_model.fit(\n",
    "    x_train, y_train,\n",
    "    epochs=500,\n",
    "    batch_size=32,\n",
    "    validation_data=(x_valid, y_valid),\n",
    "    callbacks=[callback],\n",
    "    verbose=1\n",
    ")\n"
   ]
  },
  {
   "cell_type": "code",
   "execution_count": 33,
   "metadata": {},
   "outputs": [
    {
     "data": {
      "image/png": "[encoded data removed]",
      "text/plain": [
       "<Figure size 640x480 with 1 Axes>"
      ]
     },
     "metadata": {},
     "output_type": "display_data"
    }
   ],
   "source": [
    "# Plot training history\n",
    "plt.plot(history.history['loss'], label='Training Loss')\n",
    "plt.plot(history.history['val_loss'], label='Validation Loss')\n",
    "plt.legend()\n",
    "plt.show()"
   ]
  },
  {
   "cell_type": "code",
   "execution_count": 34,
   "metadata": {},
   "outputs": [],
   "source": [
    "predicted = narx_model(x)"
   ]
  },
  {
   "cell_type": "code",
   "execution_count": 35,
   "metadata": {},
   "outputs": [
    {
     "data": {
      "text/plain": [
       "[<matplotlib.lines.Line2D at 0x2828c774920>]"
      ]
     },
     "execution_count": 35,
     "metadata": {},
     "output_type": "execute_result"
    },
    {
     "data": {
      "image/png": "[encoded data removed]",
      "text/plain": [
       "<Figure size 1200x400 with 1 Axes>"
      ]
     },
     "metadata": {},
     "output_type": "display_data"
    }
   ],
   "source": [
    "plt.figure(figsize=(12, 4))\n",
    "plt.plot(predicted)\n",
    "plt.plot(y)"
   ]
  },
  {
   "cell_type": "code",
   "execution_count": 36,
   "metadata": {},
   "outputs": [
    {
     "name": "stdout",
     "output_type": "stream",
     "text": [
      "\u001b[1m128/128\u001b[0m \u001b[32m━━━━━━━━━━━━━━━━━━━━\u001b[0m\u001b[37m\u001b[0m \u001b[1m1s\u001b[0m 3ms/step\n"
     ]
    }
   ],
   "source": [
    "# Make predictions\n",
    "y_prednarx = narx_model.predict(x_valid)"
   ]
  },
  {
   "cell_type": "code",
   "execution_count": 37,
   "metadata": {},
   "outputs": [
    {
     "data": {
      "image/png": "[encoded data removed]",
      "text/plain": [
       "<Figure size 1200x600 with 1 Axes>"
      ]
     },
     "metadata": {},
     "output_type": "display_data"
    }
   ],
   "source": [
    "# Rescale back to original values for comparison\n",
    "y_valid_rescaled = scaler.inverse_transform(np.hstack((y_valid, np.zeros_like(y_valid))))\n",
    "y_prednarx_rescaled = scaler.inverse_transform(np.hstack((y_prednarx, np.zeros_like(y_prednarx))))\n",
    "\n",
    "# Plot predictions vs actuals\n",
    "plt.figure(figsize=(12, 6))\n",
    "plt.plot(y_valid_rescaled[:, 0], label='True Values')\n",
    "plt.plot(y_prednarx_rescaled[:, 0], label='Predicted Values')\n",
    "plt.legend()\n",
    "plt.title('NARXNN Predictions vs Actuals')\n",
    "plt.show()"
   ]
  },
  {
   "cell_type": "markdown",
   "metadata": {},
   "source": [
    "### Model Comparison"
   ]
  },
  {
   "cell_type": "code",
   "execution_count": 38,
   "metadata": {},
   "outputs": [
    {
     "name": "stdout",
     "output_type": "stream",
     "text": [
      "FNN - MAE: 0.27707879874609115, MSE: 0.07755932058429489\n",
      "NARXNN - MAE: 0.0025098419067727854, MSE: 0.0005811847947454203\n"
     ]
    }
   ],
   "source": [
    "from sklearn.metrics import mean_absolute_error, mean_squared_error\n",
    "\n",
    "# For FNN\n",
    "mae_fnn = mean_absolute_error(y_valid_rescaled[:, 0], y_prednarxffn_rescaled[:, 0])\n",
    "mse_fnn = mean_squared_error(y_valid_rescaled[:, 0], y_prednarxffn_rescaled[:, 0])\n",
    "\n",
    "# For NARXNN\n",
    "mae_narx = mean_absolute_error(y_valid_rescaled[:, 0], y_prednarx_rescaled[:, 0])\n",
    "mse_narx = mean_squared_error(y_valid_rescaled[:, 0], y_prednarx_rescaled[:, 0])\n",
    "\n",
    "# Print results\n",
    "print(f\"FNN - MAE: {mae_fnn}, MSE: {mse_fnn}\")\n",
    "print(f\"NARXNN - MAE: {mae_narx}, MSE: {mse_narx}\")\n",
    "\n",
    "# Metrics (MAE, MSE): Which model has the lowest errors? Classical NARXNN?\n"
   ]
  },
  {
   "cell_type": "markdown",
   "metadata": {},
   "source": [
    "\n",
    "### **Key Differences Between NARXFFN and NARXNN Models**\n",
    "\n",
    "- **Architecture**: \n",
    "    - **NARXFFN** is a simple feedforward neural network with a dense architecture, whereas **NARXNN** uses an LSTM layer to capture sequential dependencies in time-series data.\n",
    "    - The **NARXNN** model is more complex and better suited for tasks where the target variable is influenced by past time steps (time-series forecasting).\n",
    "\n",
    "- **Sequence Modeling**: \n",
    "    - **NARXNN** is more suitable for handling sequential data, making it better at capturing long-term dependencies and patterns in time-series data. The **LSTM** layer in this model helps address issues like vanishing gradients, which can occur in traditional RNNs.\n",
    "    - **NARXFFN**, on the other hand, is a simpler model that may be effective for relatively straightforward problems where past values and external inputs are sufficient for prediction.\n",
    "\n",
    "- **Performance**:\n",
    "    - **NARXNN** is expected to perform better in time-series forecasting tasks, especially when there are long-term dependencies in the data.\n",
    "    - **NARXFFN** might be faster to train and simpler to implement but might not capture complex temporal dependencies as effectively as the **NARXNN**.\n",
    "\n",
    "---"
   ]
  }
 ],
 "metadata": {
  "kernelspec": {
   "display_name": "env_analysis",
   "language": "python",
   "name": "python3"
  },
  "language_info": {
   "codemirror_mode": {
    "name": "ipython",
    "version": 3
   },
   "file_extension": ".py",
   "mimetype": "text/x-python",
   "name": "python",
   "nbconvert_exporter": "python",
   "pygments_lexer": "ipython3",
   "version": "3.12.5"
  }
 },
 "nbformat": 4,
 "nbformat_minor": 2
}
