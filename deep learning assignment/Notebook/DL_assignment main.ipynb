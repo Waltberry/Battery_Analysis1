{
 "cells": [
  {
   "cell_type": "code",
   "execution_count": 1,
   "metadata": {},
   "outputs": [
    {
     "name": "stdout",
     "output_type": "stream",
     "text": [
      "Current working directory: c:\\Users\\onyer\\OneDrive\\Desktop\\Research work\\1. Projects\\Battery_Analysis1\n"
     ]
    }
   ],
   "source": [
    "import os\n",
    "\n",
    "# Change to the parent directory\n",
    "os.chdir('../..')\n",
    "\n",
    "# Verify the path using getcwd()\n",
    "cwd = os.getcwd()\n",
    "print(\"Current working directory:\", cwd)"
   ]
  },
  {
   "cell_type": "code",
   "execution_count": null,
   "metadata": {},
   "outputs": [],
   "source": [
    "# import torch\n",
    "# torch.cuda.is_available()"
   ]
  },
  {
   "cell_type": "code",
   "execution_count": null,
   "metadata": {},
   "outputs": [],
   "source": [
    "# device = \"cuda\" if torch.cuda.is_available() else \"cpu\"\n",
    "# print(f\"Using {device} device\")"
   ]
  },
  {
   "cell_type": "markdown",
   "metadata": {},
   "source": [
    "# Building a NARX Neural Network"
   ]
  },
  {
   "cell_type": "code",
   "execution_count": 2,
   "metadata": {},
   "outputs": [],
   "source": [
    "import pandas as pd\n",
    "import matplotlib.pyplot as plt\n",
    "import numpy as np\n",
    "from tensorflow import keras\n",
    "from tensorflow.keras import layers\n",
    "from sklearn.preprocessing import MinMaxScaler\n",
    "from src.file_loader import load_csv_files\n",
    "# import matplotlib as mpl\n",
    "# from tensorflow.keras.models import Sequential\n",
    "# from tensorflow.keras.layers import LSTM, Dense"
   ]
  },
  {
   "cell_type": "code",
   "execution_count": 3,
   "metadata": {},
   "outputs": [
    {
     "name": "stdout",
     "output_type": "stream",
     "text": [
      "Current working directory: c:\\Users\\onyer\\OneDrive\\Desktop\\Research work\\1. Projects\\Battery_Analysis1\n"
     ]
    }
   ],
   "source": [
    "# Verify the path using getcwd()\n",
    "cwd = os.getcwd()\n",
    "print(\"Current working directory:\", cwd)"
   ]
  },
  {
   "cell_type": "code",
   "execution_count": 4,
   "metadata": {},
   "outputs": [],
   "source": [
    "# List of file names\n",
    "file_names = [\n",
    "    '9171_20241001_N11507060127_ Rapid polarization-2.csv'\n",
    "    ]\n",
    "\n",
    "# print(f\"Processing file: {file_names}\")\n",
    "dataframes = load_csv_files(file_names, '', 'deep learning assignment')\n"
   ]
  },
  {
   "cell_type": "code",
   "execution_count": 5,
   "metadata": {},
   "outputs": [
    {
     "name": "stdout",
     "output_type": "stream",
     "text": [
      "<class 'pandas.core.frame.DataFrame'>\n",
      "       Time (HH:mm:ss.SSS) Channel     CH      V      A\n",
      "count                16383   16341  16320  16320  16320\n",
      "unique               16323   16321      2    142     16\n",
      "top                   Step     CH1    CH1  2.926  2.251\n",
      "freq                    21      21  16299   2120   5620\n"
     ]
    }
   ],
   "source": [
    "# Extract the DataFrame\n",
    "data = dataframes['9171_20241001_N11507060127__Rapid_polarization-2_csv']\n",
    "\n",
    "# Confirm it's a DataFrame\n",
    "print(type(data))  # Should output <class 'pandas.core.frame.DataFrame'>\n",
    "\n",
    "# Use the describe() method\n",
    "print(data.describe())\n"
   ]
  },
  {
   "cell_type": "code",
   "execution_count": 6,
   "metadata": {},
   "outputs": [
    {
     "data": {
      "text/html": [
       "<div>\n",
       "<style scoped>\n",
       "    .dataframe tbody tr th:only-of-type {\n",
       "        vertical-align: middle;\n",
       "    }\n",
       "\n",
       "    .dataframe tbody tr th {\n",
       "        vertical-align: top;\n",
       "    }\n",
       "\n",
       "    .dataframe thead th {\n",
       "        text-align: right;\n",
       "    }\n",
       "</style>\n",
       "<table border=\"1\" class=\"dataframe\">\n",
       "  <thead>\n",
       "    <tr style=\"text-align: right;\">\n",
       "      <th></th>\n",
       "      <th>Time (HH:mm:ss.SSS)</th>\n",
       "      <th>Channel</th>\n",
       "      <th>CH</th>\n",
       "      <th>V</th>\n",
       "      <th>A</th>\n",
       "    </tr>\n",
       "  </thead>\n",
       "  <tbody>\n",
       "    <tr>\n",
       "      <th>0</th>\n",
       "      <td>11:45:54.513</td>\n",
       "      <td>0.780562</td>\n",
       "      <td>CH1</td>\n",
       "      <td>1.429</td>\n",
       "      <td>0.046</td>\n",
       "    </tr>\n",
       "    <tr>\n",
       "      <th>1</th>\n",
       "      <td>11:45:54.753</td>\n",
       "      <td>1.0206133</td>\n",
       "      <td>CH1</td>\n",
       "      <td>1.444</td>\n",
       "      <td>0.046</td>\n",
       "    </tr>\n",
       "    <tr>\n",
       "      <th>2</th>\n",
       "      <td>11:45:54.983</td>\n",
       "      <td>1.2505946</td>\n",
       "      <td>CH1</td>\n",
       "      <td>1.452</td>\n",
       "      <td>0.046</td>\n",
       "    </tr>\n",
       "    <tr>\n",
       "      <th>3</th>\n",
       "      <td>11:45:55.223</td>\n",
       "      <td>1.490689</td>\n",
       "      <td>CH1</td>\n",
       "      <td>1.457</td>\n",
       "      <td>0.046</td>\n",
       "    </tr>\n",
       "    <tr>\n",
       "      <th>4</th>\n",
       "      <td>11:45:55.453</td>\n",
       "      <td>1.7206743</td>\n",
       "      <td>CH1</td>\n",
       "      <td>1.461</td>\n",
       "      <td>0.046</td>\n",
       "    </tr>\n",
       "  </tbody>\n",
       "</table>\n",
       "</div>"
      ],
      "text/plain": [
       "  Time (HH:mm:ss.SSS)    Channel   CH      V      A\n",
       "0        11:45:54.513   0.780562  CH1  1.429  0.046\n",
       "1        11:45:54.753  1.0206133  CH1  1.444  0.046\n",
       "2        11:45:54.983  1.2505946  CH1  1.452  0.046\n",
       "3        11:45:55.223   1.490689  CH1  1.457  0.046\n",
       "4        11:45:55.453  1.7206743  CH1  1.461  0.046"
      ]
     },
     "execution_count": 6,
     "metadata": {},
     "output_type": "execute_result"
    }
   ],
   "source": [
    "data.head()"
   ]
  },
  {
   "cell_type": "code",
   "execution_count": 7,
   "metadata": {},
   "outputs": [
    {
     "data": {
      "text/plain": [
       "Time (HH:mm:ss.SSS)    object\n",
       "Channel                object\n",
       "CH                     object\n",
       "V                      object\n",
       "A                      object\n",
       "dtype: object"
      ]
     },
     "execution_count": 7,
     "metadata": {},
     "output_type": "execute_result"
    }
   ],
   "source": [
    "data.dtypes"
   ]
  },
  {
   "cell_type": "code",
   "execution_count": 8,
   "metadata": {},
   "outputs": [],
   "source": [
    "# Convert `V` and `A` columns to numeric\n",
    "data['V'] = pd.to_numeric(data['V'], errors='coerce')\n",
    "data['A'] = pd.to_numeric(data['A'], errors='coerce')"
   ]
  },
  {
   "cell_type": "code",
   "execution_count": 9,
   "metadata": {},
   "outputs": [],
   "source": [
    "# Drop rows with NaN values in these columns if conversion fails\n",
    "data = data.dropna(subset=['V', 'A'])"
   ]
  },
  {
   "cell_type": "code",
   "execution_count": null,
   "metadata": {},
   "outputs": [],
   "source": [
    "# Select numeric columns\n",
    "numeric_cols = data.select_dtypes(include=['float64', 'int64']).columns\n",
    "numeric_data = data[numeric_cols]\n",
    "\n",
    "# Apply MinMaxScaler\n",
    "scaler = MinMaxScaler()\n",
    "scaled = scaler.fit_transform(numeric_data)\n",
    "\n",
    "# Create a new DataFrame with scaled values\n",
    "scaled_data = pd.DataFrame(scaled, columns=numeric_cols, index=data.index)\n",
    "\n",
    "# # Optional: Combine with non-numeric columns\n",
    "# non_numeric_cols = data.select_dtypes(exclude=['float64', 'int64'])\n",
    "# final_data = pd.concat([non_numeric_cols, scaled_data], axis=1)\n",
    "\n",
    "# # Check the result\n",
    "# print(final_data.head())\n",
    "\n",
    "scaled_data.head()\n"
   ]
  },
  {
   "cell_type": "markdown",
   "metadata": {},
   "source": [
    "## **NARX Neural Network Model**\n",
    "\n",
    "NARX (Nonlinear Autoregressive with Exogenous Inputs) Neural Network model.\n",
    "\n",
    "---\n",
    "\n",
    "**1. NARX Model Overview**\n",
    "\n",
    "The NARX model predicts the next value in a sequence based on past values of both the target variable (autoregressive terms) and exogenous (independent) variables. Mathematically, it is represented as:\n",
    "\n",
    "\\[\n",
    "y(t) = f(y(t-1), y(t-2), ..., y(t-n), u(t-1), u(t-2), ..., u(t-m)) + e(t)\n",
    "\\]\n",
    "\n",
    "Where:\n",
    "- \\(y(t)\\): The target variable at time \\(t\\).\n",
    "- \\(y(t-1), y(t-2), ..., y(t-n)\\): Previous values of the target variable (autoregressive terms).\n",
    "- \\(u(t-1), u(t-2), ..., u(t-m)\\): Values of the exogenous input.\n",
    "- \\(e(t)\\): The error term at time \\(t\\).\n",
    "- \\(f\\): A nonlinear function approximated by a neural network.\n",
    "\n",
    "In this project:\n",
    "- **\\(y\\)**: Target column in your scaled dataset.\n",
    "- **\\(u\\)**: The input sequence of past data.\n",
    "- **Neural Network**: Used to model the nonlinear function \\(f\\).\n",
    "\n",
    "---\n"
   ]
  },
  {
   "cell_type": "code",
   "execution_count": null,
   "metadata": {},
   "outputs": [],
   "source": []
  },
  {
   "cell_type": "markdown",
   "metadata": {},
   "source": [
    "### 1. Using Feedforward neural network (FNN) Implementation"
   ]
  },
  {
   "cell_type": "markdown",
   "metadata": {},
   "source": [
    "**Mathematical explanation for the sequence function**\n",
    "\n",
    "The function `create_narxffn_sequences` creates overlapping sliding windows from the dataset:\n",
    "\n",
    "- **Mathematics**:\n",
    "  - For each window of size \\(L\\) (sequence length):\n",
    "    - **Inputs**: \\([x_{t-L}, x_{t-L+1}, ..., x_{t-1}]\\)\n",
    "    - **Target**: \\(x_t\\)\n",
    "\n",
    "- The function also flattens the data for simpler input into the dense network.\n",
    "\n",
    "---\n",
    "\n"
   ]
  },
  {
   "cell_type": "code",
   "execution_count": null,
   "metadata": {},
   "outputs": [],
   "source": [
    "def create_narxffn_sequences(input_data, target_column, sequence_length=1, flatten=False):\n",
    "    \"\"\"\n",
    "    Generates sequences of input data and corresponding target labels from time-series data.\n",
    "\n",
    "    This function slices the input data into subsequences of a specified length, where each subsequence \n",
    "    corresponds to a sequence of input features, and the target label is the value of the specified \n",
    "    target column at the point immediately following the subsequence.\n",
    "\n",
    "    Parameters:\n",
    "    ----------\n",
    "    input_data : ndarray\n",
    "        A 2D array or matrix containing the time-series data (with rows as time steps and columns as features).\n",
    "        \n",
    "    target_column : int\n",
    "        The column index in the input data representing the target variable for which we are predicting.\n",
    "        \n",
    "    sequence_length : int, optional (default=1)\n",
    "        The length of the sequence used as input for the prediction model.\n",
    "        \n",
    "    flatten : bool, optional (default=False)\n",
    "        If True, flattens the input sequences into 1D arrays. If False, the sequences retain their original shape.\n",
    "\n",
    "    Returns:\n",
    "    -------\n",
    "    np.ndarray, np.ndarray\n",
    "        A tuple of two arrays:\n",
    "        - The first array contains the input sequences, each of shape (sequence_length, features).\n",
    "        - The second array contains the target labels corresponding to each sequence.\n",
    "\n",
    "    Mathematical Explanation:\n",
    "    -------------------------\n",
    "    Let \\( X_t \\) represent the input data at time step \\( t \\), and \\( Y_t \\) represent the target value \n",
    "    at time step \\( t \\) from the column `target_column`. The function generates subsequences \\( X_{t:t+L} \\) \n",
    "    (where \\( L \\) is the `sequence_length`) and assigns the target value as \\( Y_{t+L} \\) (the value at the \n",
    "    next time step after the sequence). \n",
    "\n",
    "    The formula for generating the input-output pair is:\n",
    "        Input sequence: \\( X = [X_t, X_{t+1}, ..., X_{t+L-1}] \\)\n",
    "        Target value: \\( Y = X_{t+L}[target_column] \\)\n",
    "\n",
    "    Example:\n",
    "    --------\n",
    "    input_data = np.array([[1, 2], [2, 3], [3, 4], [4, 5], [5, 6]])\n",
    "    target_column = 1\n",
    "    sequences, labels = create_sequences(input_data, target_column, sequence_length=2)\n",
    "    \"\"\"\n",
    "    inputs = []\n",
    "    targets = []\n",
    "    data_size = len(input_data)\n",
    "    \n",
    "    for i in range(data_size-sequence_length):\n",
    "        sequence = input_data[i:i+sequence_length]\n",
    "        #print(type(sequence))\n",
    "        label_position = i + sequence_length\n",
    "        label = input_data[label_position][target_column]\n",
    "        if flatten:\n",
    "            inputs.append(sequence.flatten())\n",
    "        else:\n",
    "            inputs.append(sequence)\n",
    "        targets.append(label)\n",
    "        \n",
    "    return np.array(inputs), np.array(targets)\n"
   ]
  },
  {
   "cell_type": "code",
   "execution_count": null,
   "metadata": {},
   "outputs": [
    {
     "data": {
      "text/plain": [
       "((16296, 6), (16296,))"
      ]
     },
     "execution_count": 13,
     "metadata": {},
     "output_type": "execute_result"
    }
   ],
   "source": [
    "x, y = create_narxffn_sequences(scaled_data.to_numpy(), 1, 3, flatten=True)\n",
    "x.shape, y.shape"
   ]
  },
  {
   "cell_type": "code",
   "execution_count": 14,
   "metadata": {},
   "outputs": [
    {
     "name": "stdout",
     "output_type": "stream",
     "text": [
      "x_train shape: (12222, 6), y_train shape: (12222,)\n",
      "x_valid shape: (4074, 6), y_valid shape: (4074,)\n"
     ]
    }
   ],
   "source": [
    "split_ratio = 0.25\n",
    "split = int(len(x) * split_ratio)\n",
    "\n",
    "x_train, x_valid = x[:-split], x[-split:]\n",
    "y_train, y_valid = y[:-split], y[-split:]\n",
    "\n",
    "print(f\"x_train shape: {x_train.shape}, y_train shape: {y_train.shape}\")\n",
    "print(f\"x_valid shape: {x_valid.shape}, y_valid shape: {y_valid.shape}\")"
   ]
  },
  {
   "cell_type": "code",
   "execution_count": 15,
   "metadata": {},
   "outputs": [
    {
     "name": "stderr",
     "output_type": "stream",
     "text": [
      "c:\\Users\\onyer\\OneDrive\\Desktop\\Research work\\1. Projects\\Battery_Analysis1\\env_analysis\\Lib\\site-packages\\keras\\src\\layers\\core\\dense.py:87: UserWarning: Do not pass an `input_shape`/`input_dim` argument to a layer. When using Sequential models, prefer using an `Input(shape)` object as the first layer in the model instead.\n",
      "  super().__init__(activity_regularizer=activity_regularizer, **kwargs)\n"
     ]
    }
   ],
   "source": [
    "# Assuming x.shape[1] is the number of input features\n",
    "narxffn_model = keras.Sequential([\n",
    "    layers.Dense(10, activation='tanh', input_shape=(x.shape[1],)),\n",
    "    layers.Dense(1, activation='relu')\n",
    "])\n",
    "\n",
    "# Corrected: Wrap the metrics argument in a list\n",
    "narxffn_model.compile(\n",
    "    optimizer=keras.optimizers.Adam(),\n",
    "    loss='mse',\n",
    "    metrics=['mae']  # Wrap 'mae' in a list\n",
    ")\n",
    "\n",
    "# Adding an EarlyStopping callback\n",
    "callback = keras.callbacks.EarlyStopping(monitor='loss', patience=10)\n"
   ]
  },
  {
   "cell_type": "code",
   "execution_count": 16,
   "metadata": {},
   "outputs": [
    {
     "name": "stdout",
     "output_type": "stream",
     "text": [
      "Epoch 1/100\n",
      "\u001b[1m408/408\u001b[0m \u001b[32m━━━━━━━━━━━━━━━━━━━━\u001b[0m\u001b[37m\u001b[0m \u001b[1m2s\u001b[0m 2ms/step - loss: 0.0065 - mae: 0.0621 - val_loss: 0.0020 - val_mae: 0.0346\n",
      "Epoch 2/100\n",
      "\u001b[1m408/408\u001b[0m \u001b[32m━━━━━━━━━━━━━━━━━━━━\u001b[0m\u001b[37m\u001b[0m \u001b[1m1s\u001b[0m 2ms/step - loss: 8.4637e-04 - mae: 0.0230 - val_loss: 0.0013 - val_mae: 0.0246\n",
      "Epoch 3/100\n",
      "\u001b[1m408/408\u001b[0m \u001b[32m━━━━━━━━━━━━━━━━━━━━\u001b[0m\u001b[37m\u001b[0m \u001b[1m1s\u001b[0m 2ms/step - loss: 6.2769e-04 - mae: 0.0167 - val_loss: 6.9082e-04 - val_mae: 0.0152\n",
      "Epoch 4/100\n",
      "\u001b[1m408/408\u001b[0m \u001b[32m━━━━━━━━━━━━━━━━━━━━\u001b[0m\u001b[37m\u001b[0m \u001b[1m1s\u001b[0m 2ms/step - loss: 4.5842e-04 - mae: 0.0096 - val_loss: 4.1185e-04 - val_mae: 0.0026\n",
      "Epoch 5/100\n",
      "\u001b[1m408/408\u001b[0m \u001b[32m━━━━━━━━━━━━━━━━━━━━\u001b[0m\u001b[37m\u001b[0m \u001b[1m1s\u001b[0m 2ms/step - loss: 2.6432e-04 - mae: 0.0038 - val_loss: 3.8633e-04 - val_mae: 0.0055\n",
      "Epoch 6/100\n",
      "\u001b[1m408/408\u001b[0m \u001b[32m━━━━━━━━━━━━━━━━━━━━\u001b[0m\u001b[37m\u001b[0m \u001b[1m1s\u001b[0m 2ms/step - loss: 2.1929e-04 - mae: 0.0033 - val_loss: 3.9381e-04 - val_mae: 0.0040\n",
      "Epoch 7/100\n",
      "\u001b[1m408/408\u001b[0m \u001b[32m━━━━━━━━━━━━━━━━━━━━\u001b[0m\u001b[37m\u001b[0m \u001b[1m1s\u001b[0m 1ms/step - loss: 2.4850e-04 - mae: 0.0036 - val_loss: 4.2622e-04 - val_mae: 0.0101\n",
      "Epoch 8/100\n",
      "\u001b[1m408/408\u001b[0m \u001b[32m━━━━━━━━━━━━━━━━━━━━\u001b[0m\u001b[37m\u001b[0m \u001b[1m1s\u001b[0m 2ms/step - loss: 2.8639e-04 - mae: 0.0042 - val_loss: 3.6554e-04 - val_mae: 0.0043\n",
      "Epoch 9/100\n",
      "\u001b[1m408/408\u001b[0m \u001b[32m━━━━━━━━━━━━━━━━━━━━\u001b[0m\u001b[37m\u001b[0m \u001b[1m1s\u001b[0m 2ms/step - loss: 2.0792e-04 - mae: 0.0030 - val_loss: 3.6723e-04 - val_mae: 0.0051\n",
      "Epoch 10/100\n",
      "\u001b[1m408/408\u001b[0m \u001b[32m━━━━━━━━━━━━━━━━━━━━\u001b[0m\u001b[37m\u001b[0m \u001b[1m1s\u001b[0m 2ms/step - loss: 1.2901e-04 - mae: 0.0030 - val_loss: 4.2161e-04 - val_mae: 0.0047\n",
      "Epoch 11/100\n",
      "\u001b[1m408/408\u001b[0m \u001b[32m━━━━━━━━━━━━━━━━━━━━\u001b[0m\u001b[37m\u001b[0m \u001b[1m1s\u001b[0m 2ms/step - loss: 1.4400e-04 - mae: 0.0034 - val_loss: 3.6777e-04 - val_mae: 0.0046\n",
      "Epoch 12/100\n",
      "\u001b[1m408/408\u001b[0m \u001b[32m━━━━━━━━━━━━━━━━━━━━\u001b[0m\u001b[37m\u001b[0m \u001b[1m1s\u001b[0m 2ms/step - loss: 1.9538e-04 - mae: 0.0036 - val_loss: 3.6890e-04 - val_mae: 0.0054\n",
      "Epoch 13/100\n",
      "\u001b[1m408/408\u001b[0m \u001b[32m━━━━━━━━━━━━━━━━━━━━\u001b[0m\u001b[37m\u001b[0m \u001b[1m1s\u001b[0m 2ms/step - loss: 3.8445e-04 - mae: 0.0049 - val_loss: 3.6057e-04 - val_mae: 0.0042\n",
      "Epoch 14/100\n",
      "\u001b[1m408/408\u001b[0m \u001b[32m━━━━━━━━━━━━━━━━━━━━\u001b[0m\u001b[37m\u001b[0m \u001b[1m1s\u001b[0m 2ms/step - loss: 2.3895e-04 - mae: 0.0034 - val_loss: 3.6154e-04 - val_mae: 0.0040\n",
      "Epoch 15/100\n",
      "\u001b[1m408/408\u001b[0m \u001b[32m━━━━━━━━━━━━━━━━━━━━\u001b[0m\u001b[37m\u001b[0m \u001b[1m1s\u001b[0m 2ms/step - loss: 1.9249e-04 - mae: 0.0030 - val_loss: 3.6527e-04 - val_mae: 0.0048\n",
      "Epoch 16/100\n",
      "\u001b[1m408/408\u001b[0m \u001b[32m━━━━━━━━━━━━━━━━━━━━\u001b[0m\u001b[37m\u001b[0m \u001b[1m1s\u001b[0m 2ms/step - loss: 1.8487e-04 - mae: 0.0031 - val_loss: 3.6134e-04 - val_mae: 0.0045\n",
      "Epoch 17/100\n",
      "\u001b[1m408/408\u001b[0m \u001b[32m━━━━━━━━━━━━━━━━━━━━\u001b[0m\u001b[37m\u001b[0m \u001b[1m1s\u001b[0m 2ms/step - loss: 4.4385e-04 - mae: 0.0049 - val_loss: 3.6663e-04 - val_mae: 0.0050\n",
      "Epoch 18/100\n",
      "\u001b[1m408/408\u001b[0m \u001b[32m━━━━━━━━━━━━━━━━━━━━\u001b[0m\u001b[37m\u001b[0m \u001b[1m1s\u001b[0m 2ms/step - loss: 2.0075e-04 - mae: 0.0034 - val_loss: 3.8123e-04 - val_mae: 0.0030\n",
      "Epoch 19/100\n",
      "\u001b[1m408/408\u001b[0m \u001b[32m━━━━━━━━━━━━━━━━━━━━\u001b[0m\u001b[37m\u001b[0m \u001b[1m1s\u001b[0m 2ms/step - loss: 1.4591e-04 - mae: 0.0029 - val_loss: 3.8607e-04 - val_mae: 0.0076\n",
      "Epoch 20/100\n",
      "\u001b[1m408/408\u001b[0m \u001b[32m━━━━━━━━━━━━━━━━━━━━\u001b[0m\u001b[37m\u001b[0m \u001b[1m1s\u001b[0m 2ms/step - loss: 2.0468e-04 - mae: 0.0032 - val_loss: 3.6713e-04 - val_mae: 0.0044\n",
      "Epoch 21/100\n",
      "\u001b[1m408/408\u001b[0m \u001b[32m━━━━━━━━━━━━━━━━━━━━\u001b[0m\u001b[37m\u001b[0m \u001b[1m1s\u001b[0m 1ms/step - loss: 1.9034e-04 - mae: 0.0031 - val_loss: 3.8126e-04 - val_mae: 0.0041\n",
      "Epoch 22/100\n",
      "\u001b[1m408/408\u001b[0m \u001b[32m━━━━━━━━━━━━━━━━━━━━\u001b[0m\u001b[37m\u001b[0m \u001b[1m1s\u001b[0m 1ms/step - loss: 5.8201e-04 - mae: 0.0053 - val_loss: 3.6116e-04 - val_mae: 0.0039\n",
      "Epoch 23/100\n",
      "\u001b[1m408/408\u001b[0m \u001b[32m━━━━━━━━━━━━━━━━━━━━\u001b[0m\u001b[37m\u001b[0m \u001b[1m1s\u001b[0m 1ms/step - loss: 3.8832e-04 - mae: 0.0046 - val_loss: 3.6425e-04 - val_mae: 0.0038\n",
      "Epoch 24/100\n",
      "\u001b[1m408/408\u001b[0m \u001b[32m━━━━━━━━━━━━━━━━━━━━\u001b[0m\u001b[37m\u001b[0m \u001b[1m1s\u001b[0m 1ms/step - loss: 2.4379e-04 - mae: 0.0032 - val_loss: 3.7957e-04 - val_mae: 0.0065\n",
      "Epoch 25/100\n",
      "\u001b[1m408/408\u001b[0m \u001b[32m━━━━━━━━━━━━━━━━━━━━\u001b[0m\u001b[37m\u001b[0m \u001b[1m1s\u001b[0m 1ms/step - loss: 3.8726e-04 - mae: 0.0047 - val_loss: 3.9539e-04 - val_mae: 0.0049\n",
      "Epoch 26/100\n",
      "\u001b[1m408/408\u001b[0m \u001b[32m━━━━━━━━━━━━━━━━━━━━\u001b[0m\u001b[37m\u001b[0m \u001b[1m1s\u001b[0m 1ms/step - loss: 3.7462e-04 - mae: 0.0047 - val_loss: 3.6505e-04 - val_mae: 0.0045\n"
     ]
    }
   ],
   "source": [
    "history = narxffn_model.fit(x,y, epochs=100, validation_split=0.2, verbose=1, callbacks=[callback])"
   ]
  },
  {
   "cell_type": "code",
   "execution_count": 17,
   "metadata": {},
   "outputs": [
    {
     "data": {
      "text/plain": [
       "[<matplotlib.lines.Line2D at 0x2c0e230a6f0>]"
      ]
     },
     "execution_count": 17,
     "metadata": {},
     "output_type": "execute_result"
    },
    {
     "data": {
      "image/png": "[encoded data removed]",
      "text/plain": [
       "<Figure size 640x480 with 1 Axes>"
      ]
     },
     "metadata": {},
     "output_type": "display_data"
    }
   ],
   "source": [
    "history.history['loss']\n",
    "\n",
    "plt.plot(history.history['loss'])\n",
    "plt.plot(history.history['val_loss'])"
   ]
  },
  {
   "cell_type": "code",
   "execution_count": 18,
   "metadata": {},
   "outputs": [
    {
     "data": {
      "text/plain": [
       "[0.0027828915044665337,\n",
       " 0.0008919636020436883,\n",
       " 0.0006192143191583455,\n",
       " 0.00034320648410357535,\n",
       " 0.00027232817956246436,\n",
       " 0.00026818583137355745,\n",
       " 0.0002576906408648938,\n",
       " 0.00025702317361719906,\n",
       " 0.0002475158544257283,\n",
       " 0.0002530297788325697,\n",
       " 0.0002513838990125805,\n",
       " 0.00025264074793085456,\n",
       " 0.00025678679230622947,\n",
       " 0.00024924834724515676,\n",
       " 0.00024719894281588495,\n",
       " 0.0002418006770312786,\n",
       " 0.0002472932974342257,\n",
       " 0.000250116951065138,\n",
       " 0.0002422965771984309,\n",
       " 0.0002458214876241982,\n",
       " 0.00024262467923108488,\n",
       " 0.00024371528706979007,\n",
       " 0.00024859668337740004,\n",
       " 0.0002482757263351232,\n",
       " 0.00025048485258594155,\n",
       " 0.0002464431745465845]"
      ]
     },
     "execution_count": 18,
     "metadata": {},
     "output_type": "execute_result"
    }
   ],
   "source": [
    "history.history['loss']"
   ]
  },
  {
   "cell_type": "code",
   "execution_count": 19,
   "metadata": {},
   "outputs": [],
   "source": [
    "predicted = narxffn_model(x)"
   ]
  },
  {
   "cell_type": "code",
   "execution_count": 20,
   "metadata": {},
   "outputs": [
    {
     "data": {
      "image/png": "[encoded data removed]",
      "text/plain": [
       "<Figure size 1200x400 with 1 Axes>"
      ]
     },
     "metadata": {},
     "output_type": "display_data"
    }
   ],
   "source": [
    "# Create the figure and set the size\n",
    "plt.figure(figsize=(12, 4))\n",
    "\n",
    "# Plot the predicted values\n",
    "plt.plot(predicted, label=\"Predicted\", color=\"blue\", linestyle=\"--\")\n",
    "\n",
    "# Plot the true values\n",
    "plt.plot(y, label=\"True Values\", color=\"orange\", linestyle=\"-\")\n",
    "\n",
    "# Add a title and labels\n",
    "plt.title(\"Comparison of Predicted and True Values\")\n",
    "plt.xlabel(\"Time Steps\")\n",
    "plt.ylabel(\"Values\")\n",
    "\n",
    "# Add a legend to distinguish the lines\n",
    "plt.legend()\n",
    "\n",
    "# Show the plot\n",
    "plt.show()\n"
   ]
  },
  {
   "cell_type": "code",
   "execution_count": 21,
   "metadata": {},
   "outputs": [
    {
     "name": "stdout",
     "output_type": "stream",
     "text": [
      "\u001b[1m510/510\u001b[0m \u001b[32m━━━━━━━━━━━━━━━━━━━━\u001b[0m\u001b[37m\u001b[0m \u001b[1m1s\u001b[0m 1ms/step - loss: 1.4363e-04 - mae: 0.0020\n"
     ]
    },
    {
     "data": {
      "text/plain": [
       "[0.0002550638164393604, 0.0023407498374581337]"
      ]
     },
     "execution_count": 21,
     "metadata": {},
     "output_type": "execute_result"
    }
   ],
   "source": [
    "narxffn_model.evaluate(x,y)"
   ]
  },
  {
   "cell_type": "code",
   "execution_count": 22,
   "metadata": {},
   "outputs": [
    {
     "name": "stdout",
     "output_type": "stream",
     "text": [
      "\u001b[1m128/128\u001b[0m \u001b[32m━━━━━━━━━━━━━━━━━━━━\u001b[0m\u001b[37m\u001b[0m \u001b[1m0s\u001b[0m 1ms/step  \n"
     ]
    }
   ],
   "source": [
    "# Make predictions\n",
    "y_prednarxffn = narxffn_model.predict(x_valid)"
   ]
  },
  {
   "cell_type": "code",
   "execution_count": 23,
   "metadata": {},
   "outputs": [
    {
     "data": {
      "image/png": "[encoded data removed]",
      "text/plain": [
       "<Figure size 1200x400 with 1 Axes>"
      ]
     },
     "metadata": {},
     "output_type": "display_data"
    }
   ],
   "source": [
    "# Reshape y_valid and y_prednarxffn to be 2D arrays\n",
    "y_valid_reshaped = y_valid.reshape(-1, 1)\n",
    "y_prednarxffn_reshaped = y_prednarxffn.reshape(-1, 1)\n",
    "\n",
    "# Rescale back to original values for comparison\n",
    "y_valid_rescaled = scaler.inverse_transform(\n",
    "    np.hstack((y_valid_reshaped, np.zeros_like(y_valid_reshaped)))\n",
    ")\n",
    "y_prednarxffn_rescaled = scaler.inverse_transform(\n",
    "    np.hstack((y_prednarxffn_reshaped, np.zeros_like(y_prednarxffn_reshaped)))\n",
    ")\n",
    "\n",
    "# Plot predictions vs actuals\n",
    "plt.figure(figsize=(12, 4))\n",
    "plt.plot(y_valid_rescaled[:, 0], label=\"Actual Values\", color=\"blue\")\n",
    "plt.plot(y_prednarxffn_rescaled[:, 0], label=\"Predicted Values\", color=\"orange\")\n",
    "plt.title(\"Predicted vs Actual Values\")\n",
    "plt.xlabel(\"Time Steps\")\n",
    "plt.ylabel(\"Values\")\n",
    "plt.legend()\n",
    "plt.show()\n"
   ]
  },
  {
   "cell_type": "markdown",
   "metadata": {},
   "source": [
    "### 2. Classical NARXNN Implementation"
   ]
  },
  {
   "cell_type": "markdown",
   "metadata": {},
   "source": [
    "**Mathematical explanation for the sequence function**\n",
    "\n",
    "The function `create_narx_sequences` creates overlapping sliding windows from the dataset:\n",
    "\n",
    "- **Mathematical Explanation:**\n",
    "\n",
    "Let \\( X_t \\) represent the input data at time step \\( t \\), and \\( Y_t \\) represent the target variable at time step \\( t \\).\n",
    "\n",
    "For each sequence, the function creates:\n",
    "- **AR terms**: \\( AR_t = [Y_{t-1}, Y_{t-2}, ..., Y_{t-k}] \\) (past values of the target column).\n",
    "- **Exogenous terms**: \\( X_{exog} = [X_{t-1}, X_{t-2}, ..., X_{t-k}] \\) (past values of all input variables except the target).\n",
    "\n",
    "The resulting input for time step \\( t \\) is:\n",
    "\n",
    "\\[\n",
    "\\text{Input} = [AR_t, X_{exog}]\n",
    "\\]\n",
    "\n",
    "The target for this input sequence is the future target values over the output lags:\n",
    "\n",
    "\\[\n",
    "Y_{t+1:t+\\text{output\\_lags}}\n",
    "\\]\n",
    "\n",
    "---\n",
    "\n"
   ]
  },
  {
   "cell_type": "code",
   "execution_count": null,
   "metadata": {},
   "outputs": [],
   "source": [
    "def create_narx_sequences(data, target_column, input_lags=3, output_lags=1):\n",
    "    \"\"\"\n",
    "    Generates sequences with explicit autoregressive (AR) terms and exogenous (input) terms for NARXNN \n",
    "    (Nonlinear AutoRegressive with eXogenous inputs) models.\n",
    "\n",
    "    This function creates sequences where the inputs include both past values of the target (AR terms) \n",
    "    and past values of all other features (exogenous inputs). The outputs are the future values of the \n",
    "    target variable over the specified output lags.\n",
    "\n",
    "    Parameters:\n",
    "    ----------\n",
    "    data : ndarray\n",
    "        A 2D array containing the time-series data, where each row represents a time step and each column represents a feature.\n",
    "        \n",
    "    target_column : int\n",
    "        The column index of the target variable for prediction.\n",
    "\n",
    "    input_lags : int, optional (default=3)\n",
    "        The number of past time steps to include in the input sequence for both AR and exogenous terms.\n",
    "\n",
    "    output_lags : int, optional (default=1)\n",
    "        The number of future time steps for which predictions are made.\n",
    "\n",
    "    Returns:\n",
    "    -------\n",
    "    np.ndarray, np.ndarray\n",
    "        A tuple containing:\n",
    "        - The first array contains the input sequences (with both AR and exogenous inputs).\n",
    "        - The second array contains the future target values (over `output_lags` time steps).\n",
    "\n",
    "    Mathematical Explanation:\n",
    "    -------------------------\n",
    "    Let \\( X_t \\) represent the input data at time step \\( t \\), and \\( Y_t \\) represent the target variable at time step \\( t \\).\n",
    "    For each sequence, the function creates:\n",
    "    - AR terms: \\( AR_t = [Y_{t-1}, Y_{t-2}, ..., Y_{t-k}] \\) (past values of the target column).\n",
    "    - Exogenous terms: \\( X_{exog} = [X_{t-1}, X_{t-2}, ..., X_{t-k}] \\) (past values of all input variables except the target).\n",
    "\n",
    "    The resulting input for time step \\( t \\) is: \n",
    "        \\( Input = [AR_t, X_{exog}] \\)\n",
    "\n",
    "    The target for this input sequence is the future target values over the output lags:\n",
    "        \\( Y_{t+1:t+output\\_lags} \\)\n",
    "\n",
    "    Example:\n",
    "    --------\n",
    "    data = np.array([[1, 2], [2, 3], [3, 4], [4, 5], [5, 6]])\n",
    "    target_column = 1\n",
    "    input_lags = 2\n",
    "    output_lags = 1\n",
    "    sequences, labels = create_narx_sequences(data, target_column, input_lags=input_lags, output_lags=output_lags)\n",
    "    \"\"\"\n",
    "    inputs, targets = [], []\n",
    "    n_samples = len(data)\n",
    "\n",
    "    for i in range(input_lags, n_samples - output_lags):\n",
    "        # AR terms (past values of the target)\n",
    "        ar_terms = data[i - input_lags:i, target_column]\n",
    "        \n",
    "        # Exogenous terms (past values of the other input variables)\n",
    "        exog_terms = data[i - input_lags:i, :]\n",
    "        \n",
    "        # Concatenate AR terms and exogenous terms\n",
    "        # inputs.append(np.hstack([ar_terms, exog_terms.flatten()]))\n",
    "        combined = np.hstack([ar_terms.reshape(-1, 1), exog_terms])\n",
    "        inputs.append(combined)  # Keep shape as (input_lags, features)\n",
    "        \n",
    "        # Future target values for output lags\n",
    "        targets.append(data[i:i + output_lags, target_column])\n",
    "    \n",
    "    return np.array(inputs), np.array(targets)\n"
   ]
  },
  {
   "cell_type": "code",
   "execution_count": 26,
   "metadata": {},
   "outputs": [],
   "source": [
    "# Define target (e.g., 'V' column as the target variable)\n",
    "target_column = 0  # 'V' is the first column\n",
    "input_lags = 3  # Number of past steps to include\n",
    "output_lags = 1  # Predict one step ahead\n",
    "\n",
    "x, y = create_narx_sequences(scaled_data.to_numpy(), target_column, input_lags, output_lags)"
   ]
  },
  {
   "cell_type": "code",
   "execution_count": 27,
   "metadata": {},
   "outputs": [
    {
     "name": "stdout",
     "output_type": "stream",
     "text": [
      "x_train shape: (12221, 3, 3), y_train shape: (12221, 1)\n",
      "x_valid shape: (4074, 3, 3), y_valid shape: (4074, 1)\n"
     ]
    }
   ],
   "source": [
    "# Train-test split\n",
    "split_ratio = 0.25\n",
    "split = int(len(x) * (1 - split_ratio))\n",
    "x_train, x_valid = x[:split], x[split:]\n",
    "y_train, y_valid = y[:split], y[split:]\n",
    "\n",
    "print(f\"x_train shape: {x_train.shape}, y_train shape: {y_train.shape}\")\n",
    "print(f\"x_valid shape: {x_valid.shape}, y_valid shape: {y_valid.shape}\")"
   ]
  },
  {
   "cell_type": "code",
   "execution_count": 28,
   "metadata": {},
   "outputs": [
    {
     "name": "stdout",
     "output_type": "stream",
     "text": [
      "x_train shape: (12221, 3, 3)\n",
      "y_train shape: (12221, 1)\n"
     ]
    }
   ],
   "source": [
    "# Check shapes after fixing\n",
    "print(f\"x_train shape: {x_train.shape}\")  # Expected: (samples, timesteps, features)\n",
    "print(f\"y_train shape: {y_train.shape}\")  # Expected: (samples, output_lags)"
   ]
  },
  {
   "cell_type": "code",
   "execution_count": 29,
   "metadata": {},
   "outputs": [
    {
     "name": "stderr",
     "output_type": "stream",
     "text": [
      "c:\\Users\\onyer\\OneDrive\\Desktop\\Research work\\1. Projects\\Battery_Analysis1\\env_analysis\\Lib\\site-packages\\keras\\src\\layers\\rnn\\rnn.py:204: UserWarning: Do not pass an `input_shape`/`input_dim` argument to a layer. When using Sequential models, prefer using an `Input(shape)` object as the first layer in the model instead.\n",
      "  super().__init__(**kwargs)\n"
     ]
    }
   ],
   "source": [
    "# Define the NARXNN model\n",
    "narx_model = keras.Sequential([\n",
    "    layers.LSTM(32, activation='tanh', input_shape=(x_train.shape[1], x_train.shape[2])),\n",
    "    layers.Dense(16, activation='tanh'),\n",
    "    layers.Dense(y_train.shape[1], activation='relu')  # Output layer\n",
    "])\n",
    "\n",
    "# Compile the model\n",
    "narx_model.compile(optimizer=keras.optimizers.Adam(), loss='mse', metrics=['mae'])\n",
    "\n",
    "# Train the model\n",
    "callback = keras.callbacks.EarlyStopping(monitor='val_loss', patience=10, restore_best_weights=True)"
   ]
  },
  {
   "cell_type": "code",
   "execution_count": 30,
   "metadata": {},
   "outputs": [
    {
     "name": "stdout",
     "output_type": "stream",
     "text": [
      "Epoch 1/100\n",
      "\u001b[1m382/382\u001b[0m \u001b[32m━━━━━━━━━━━━━━━━━━━━\u001b[0m\u001b[37m\u001b[0m \u001b[1m3s\u001b[0m 3ms/step - loss: 0.0255 - mae: 0.0802 - val_loss: 3.2675e-04 - val_mae: 0.0101\n",
      "Epoch 2/100\n",
      "\u001b[1m382/382\u001b[0m \u001b[32m━━━━━━━━━━━━━━━━━━━━\u001b[0m\u001b[37m\u001b[0m \u001b[1m1s\u001b[0m 3ms/step - loss: 3.8768e-04 - mae: 0.0070 - val_loss: 2.5174e-04 - val_mae: 0.0054\n",
      "Epoch 3/100\n",
      "\u001b[1m382/382\u001b[0m \u001b[32m━━━━━━━━━━━━━━━━━━━━\u001b[0m\u001b[37m\u001b[0m \u001b[1m1s\u001b[0m 3ms/step - loss: 4.4581e-04 - mae: 0.0040 - val_loss: 2.2873e-04 - val_mae: 0.0029\n",
      "Epoch 4/100\n",
      "\u001b[1m382/382\u001b[0m \u001b[32m━━━━━━━━━━━━━━━━━━━━\u001b[0m\u001b[37m\u001b[0m \u001b[1m1s\u001b[0m 3ms/step - loss: 3.4666e-04 - mae: 0.0038 - val_loss: 2.2401e-04 - val_mae: 0.0029\n",
      "Epoch 5/100\n",
      "\u001b[1m382/382\u001b[0m \u001b[32m━━━━━━━━━━━━━━━━━━━━\u001b[0m\u001b[37m\u001b[0m \u001b[1m1s\u001b[0m 3ms/step - loss: 3.8727e-04 - mae: 0.0040 - val_loss: 2.9129e-04 - val_mae: 0.0093\n",
      "Epoch 6/100\n",
      "\u001b[1m382/382\u001b[0m \u001b[32m━━━━━━━━━━━━━━━━━━━━\u001b[0m\u001b[37m\u001b[0m \u001b[1m2s\u001b[0m 3ms/step - loss: 3.4251e-04 - mae: 0.0052 - val_loss: 2.0705e-04 - val_mae: 0.0027\n",
      "Epoch 7/100\n",
      "\u001b[1m382/382\u001b[0m \u001b[32m━━━━━━━━━━━━━━━━━━━━\u001b[0m\u001b[37m\u001b[0m \u001b[1m1s\u001b[0m 3ms/step - loss: 3.9655e-04 - mae: 0.0042 - val_loss: 1.9970e-04 - val_mae: 0.0027\n",
      "Epoch 8/100\n",
      "\u001b[1m382/382\u001b[0m \u001b[32m━━━━━━━━━━━━━━━━━━━━\u001b[0m\u001b[37m\u001b[0m \u001b[1m1s\u001b[0m 2ms/step - loss: 3.1889e-04 - mae: 0.0043 - val_loss: 1.9207e-04 - val_mae: 0.0026\n",
      "Epoch 9/100\n",
      "\u001b[1m382/382\u001b[0m \u001b[32m━━━━━━━━━━━━━━━━━━━━\u001b[0m\u001b[37m\u001b[0m \u001b[1m1s\u001b[0m 2ms/step - loss: 2.0729e-04 - mae: 0.0032 - val_loss: 1.7949e-04 - val_mae: 0.0012\n",
      "Epoch 10/100\n",
      "\u001b[1m382/382\u001b[0m \u001b[32m━━━━━━━━━━━━━━━━━━━━\u001b[0m\u001b[37m\u001b[0m \u001b[1m1s\u001b[0m 2ms/step - loss: 3.7022e-04 - mae: 0.0043 - val_loss: 1.7196e-04 - val_mae: 0.0019\n",
      "Epoch 11/100\n",
      "\u001b[1m382/382\u001b[0m \u001b[32m━━━━━━━━━━━━━━━━━━━━\u001b[0m\u001b[37m\u001b[0m \u001b[1m1s\u001b[0m 2ms/step - loss: 4.3941e-04 - mae: 0.0048 - val_loss: 2.4481e-04 - val_mae: 0.0094\n",
      "Epoch 12/100\n",
      "\u001b[1m382/382\u001b[0m \u001b[32m━━━━━━━━━━━━━━━━━━━━\u001b[0m\u001b[37m\u001b[0m \u001b[1m1s\u001b[0m 3ms/step - loss: 3.2755e-04 - mae: 0.0051 - val_loss: 1.6279e-04 - val_mae: 0.0025\n",
      "Epoch 13/100\n",
      "\u001b[1m382/382\u001b[0m \u001b[32m━━━━━━━━━━━━━━━━━━━━\u001b[0m\u001b[37m\u001b[0m \u001b[1m1s\u001b[0m 3ms/step - loss: 2.1265e-04 - mae: 0.0033 - val_loss: 1.5585e-04 - val_mae: 0.0014\n",
      "Epoch 14/100\n",
      "\u001b[1m382/382\u001b[0m \u001b[32m━━━━━━━━━━━━━━━━━━━━\u001b[0m\u001b[37m\u001b[0m \u001b[1m1s\u001b[0m 3ms/step - loss: 1.7892e-04 - mae: 0.0023 - val_loss: 1.6865e-04 - val_mae: 0.0041\n",
      "Epoch 15/100\n",
      "\u001b[1m382/382\u001b[0m \u001b[32m━━━━━━━━━━━━━━━━━━━━\u001b[0m\u001b[37m\u001b[0m \u001b[1m1s\u001b[0m 3ms/step - loss: 2.6562e-04 - mae: 0.0034 - val_loss: 1.5176e-04 - val_mae: 0.0012\n",
      "Epoch 16/100\n",
      "\u001b[1m382/382\u001b[0m \u001b[32m━━━━━━━━━━━━━━━━━━━━\u001b[0m\u001b[37m\u001b[0m \u001b[1m1s\u001b[0m 3ms/step - loss: 2.6908e-04 - mae: 0.0037 - val_loss: 1.7024e-04 - val_mae: 0.0045\n",
      "Epoch 17/100\n",
      "\u001b[1m382/382\u001b[0m \u001b[32m━━━━━━━━━━━━━━━━━━━━\u001b[0m\u001b[37m\u001b[0m \u001b[1m1s\u001b[0m 3ms/step - loss: 2.2831e-04 - mae: 0.0028 - val_loss: 2.5336e-04 - val_mae: 0.0103\n",
      "Epoch 18/100\n",
      "\u001b[1m382/382\u001b[0m \u001b[32m━━━━━━━━━━━━━━━━━━━━\u001b[0m\u001b[37m\u001b[0m \u001b[1m1s\u001b[0m 3ms/step - loss: 2.4445e-04 - mae: 0.0031 - val_loss: 1.5100e-04 - val_mae: 9.8096e-04\n",
      "Epoch 19/100\n",
      "\u001b[1m382/382\u001b[0m \u001b[32m━━━━━━━━━━━━━━━━━━━━\u001b[0m\u001b[37m\u001b[0m \u001b[1m1s\u001b[0m 3ms/step - loss: 1.0384e-04 - mae: 0.0026 - val_loss: 1.8461e-04 - val_mae: 0.0063\n",
      "Epoch 20/100\n",
      "\u001b[1m382/382\u001b[0m \u001b[32m━━━━━━━━━━━━━━━━━━━━\u001b[0m\u001b[37m\u001b[0m \u001b[1m1s\u001b[0m 3ms/step - loss: 3.0585e-04 - mae: 0.0051 - val_loss: 1.5243e-04 - val_mae: 0.0015\n",
      "Epoch 21/100\n",
      "\u001b[1m382/382\u001b[0m \u001b[32m━━━━━━━━━━━━━━━━━━━━\u001b[0m\u001b[37m\u001b[0m \u001b[1m1s\u001b[0m 3ms/step - loss: 1.7107e-04 - mae: 0.0027 - val_loss: 1.5153e-04 - val_mae: 0.0012\n",
      "Epoch 22/100\n",
      "\u001b[1m382/382\u001b[0m \u001b[32m━━━━━━━━━━━━━━━━━━━━\u001b[0m\u001b[37m\u001b[0m \u001b[1m1s\u001b[0m 2ms/step - loss: 4.5785e-04 - mae: 0.0050 - val_loss: 1.5362e-04 - val_mae: 0.0019\n",
      "Epoch 23/100\n",
      "\u001b[1m382/382\u001b[0m \u001b[32m━━━━━━━━━━━━━━━━━━━━\u001b[0m\u001b[37m\u001b[0m \u001b[1m1s\u001b[0m 3ms/step - loss: 2.0146e-04 - mae: 0.0030 - val_loss: 1.5052e-04 - val_mae: 8.0444e-04\n",
      "Epoch 24/100\n",
      "\u001b[1m382/382\u001b[0m \u001b[32m━━━━━━━━━━━━━━━━━━━━\u001b[0m\u001b[37m\u001b[0m \u001b[1m1s\u001b[0m 3ms/step - loss: 9.1100e-05 - mae: 0.0018 - val_loss: 1.5645e-04 - val_mae: 0.0027\n",
      "Epoch 25/100\n",
      "\u001b[1m382/382\u001b[0m \u001b[32m━━━━━━━━━━━━━━━━━━━━\u001b[0m\u001b[37m\u001b[0m \u001b[1m1s\u001b[0m 3ms/step - loss: 2.8271e-04 - mae: 0.0037 - val_loss: 1.6137e-04 - val_mae: 0.0036\n",
      "Epoch 26/100\n",
      "\u001b[1m382/382\u001b[0m \u001b[32m━━━━━━━━━━━━━━━━━━━━\u001b[0m\u001b[37m\u001b[0m \u001b[1m1s\u001b[0m 3ms/step - loss: 1.7654e-04 - mae: 0.0026 - val_loss: 1.5630e-04 - val_mae: 0.0025\n",
      "Epoch 27/100\n",
      "\u001b[1m382/382\u001b[0m \u001b[32m━━━━━━━━━━━━━━━━━━━━\u001b[0m\u001b[37m\u001b[0m \u001b[1m1s\u001b[0m 3ms/step - loss: 3.1302e-04 - mae: 0.0039 - val_loss: 1.5968e-04 - val_mae: 0.0029\n",
      "Epoch 28/100\n",
      "\u001b[1m382/382\u001b[0m \u001b[32m━━━━━━━━━━━━━━━━━━━━\u001b[0m\u001b[37m\u001b[0m \u001b[1m1s\u001b[0m 3ms/step - loss: 2.7545e-04 - mae: 0.0039 - val_loss: 1.9249e-04 - val_mae: 0.0070\n",
      "Epoch 29/100\n",
      "\u001b[1m382/382\u001b[0m \u001b[32m━━━━━━━━━━━━━━━━━━━━\u001b[0m\u001b[37m\u001b[0m \u001b[1m1s\u001b[0m 3ms/step - loss: 3.6801e-04 - mae: 0.0052 - val_loss: 1.5145e-04 - val_mae: 0.0011\n",
      "Epoch 30/100\n",
      "\u001b[1m382/382\u001b[0m \u001b[32m━━━━━━━━━━━━━━━━━━━━\u001b[0m\u001b[37m\u001b[0m \u001b[1m1s\u001b[0m 3ms/step - loss: 2.7963e-04 - mae: 0.0037 - val_loss: 1.5222e-04 - val_mae: 0.0014\n",
      "Epoch 31/100\n",
      "\u001b[1m382/382\u001b[0m \u001b[32m━━━━━━━━━━━━━━━━━━━━\u001b[0m\u001b[37m\u001b[0m \u001b[1m1s\u001b[0m 3ms/step - loss: 1.9831e-04 - mae: 0.0025 - val_loss: 1.5192e-04 - val_mae: 0.0014\n",
      "Epoch 32/100\n",
      "\u001b[1m382/382\u001b[0m \u001b[32m━━━━━━━━━━━━━━━━━━━━\u001b[0m\u001b[37m\u001b[0m \u001b[1m1s\u001b[0m 3ms/step - loss: 1.9416e-04 - mae: 0.0029 - val_loss: 1.9340e-04 - val_mae: 0.0068\n",
      "Epoch 33/100\n",
      "\u001b[1m382/382\u001b[0m \u001b[32m━━━━━━━━━━━━━━━━━━━━\u001b[0m\u001b[37m\u001b[0m \u001b[1m1s\u001b[0m 2ms/step - loss: 2.2234e-04 - mae: 0.0035 - val_loss: 1.5391e-04 - val_mae: 0.0020\n"
     ]
    }
   ],
   "source": [
    "history = narx_model.fit(\n",
    "    x_train, y_train,\n",
    "    epochs=100,\n",
    "    batch_size=32,\n",
    "    validation_data=(x_valid, y_valid),\n",
    "    callbacks=[callback],\n",
    "    verbose=1\n",
    ")\n"
   ]
  },
  {
   "cell_type": "code",
   "execution_count": 31,
   "metadata": {},
   "outputs": [
    {
     "data": {
      "image/png": "[encoded data removed]",
      "text/plain": [
       "<Figure size 640x480 with 1 Axes>"
      ]
     },
     "metadata": {},
     "output_type": "display_data"
    }
   ],
   "source": [
    "\n",
    "# Plot training history\n",
    "plt.plot(history.history['loss'], label='Training Loss')\n",
    "plt.plot(history.history['val_loss'], label='Validation Loss')\n",
    "plt.legend()\n",
    "plt.show()"
   ]
  },
  {
   "cell_type": "code",
   "execution_count": null,
   "metadata": {},
   "outputs": [],
   "source": [
    "predicted = narx_model(x)"
   ]
  },
  {
   "cell_type": "code",
   "execution_count": 33,
   "metadata": {},
   "outputs": [
    {
     "data": {
      "text/plain": [
       "[<matplotlib.lines.Line2D at 0x2c0e7854710>]"
      ]
     },
     "execution_count": 33,
     "metadata": {},
     "output_type": "execute_result"
    },
    {
     "data": {
      "image/png": "[encoded data removed]",
      "text/plain": [
       "<Figure size 1200x400 with 1 Axes>"
      ]
     },
     "metadata": {},
     "output_type": "display_data"
    }
   ],
   "source": [
    "plt.figure(figsize=(12, 4))\n",
    "plt.plot(predicted)\n",
    "plt.plot(y)"
   ]
  },
  {
   "cell_type": "code",
   "execution_count": 35,
   "metadata": {},
   "outputs": [
    {
     "name": "stdout",
     "output_type": "stream",
     "text": [
      "\u001b[1m128/128\u001b[0m \u001b[32m━━━━━━━━━━━━━━━━━━━━\u001b[0m\u001b[37m\u001b[0m \u001b[1m1s\u001b[0m 3ms/step\n"
     ]
    }
   ],
   "source": [
    "# Make predictions\n",
    "y_prednarx = narx_model.predict(x_valid)"
   ]
  },
  {
   "cell_type": "code",
   "execution_count": 36,
   "metadata": {},
   "outputs": [
    {
     "data": {
      "image/png": "[encoded data removed]",
      "text/plain": [
       "<Figure size 1200x600 with 1 Axes>"
      ]
     },
     "metadata": {},
     "output_type": "display_data"
    }
   ],
   "source": [
    "# Rescale back to original values for comparison\n",
    "y_valid_rescaled = scaler.inverse_transform(np.hstack((y_valid, np.zeros_like(y_valid))))\n",
    "y_prednarx_rescaled = scaler.inverse_transform(np.hstack((y_prednarx, np.zeros_like(y_prednarx))))\n",
    "\n",
    "# Plot predictions vs actuals\n",
    "plt.figure(figsize=(12, 6))\n",
    "plt.plot(y_valid_rescaled[:, 0], label='True Values')\n",
    "plt.plot(y_prednarx_rescaled[:, 0], label='Predicted Values')\n",
    "plt.legend()\n",
    "plt.title('NARXNN Predictions vs Actuals')\n",
    "plt.show()"
   ]
  },
  {
   "cell_type": "markdown",
   "metadata": {},
   "source": [
    "### Model Comparison"
   ]
  },
  {
   "cell_type": "code",
   "execution_count": null,
   "metadata": {},
   "outputs": [
    {
     "name": "stdout",
     "output_type": "stream",
     "text": [
      "FNN - MAE: 0.2717857149816577, MSE: 0.07421483914528387\n",
      "NARXNN - MAE: 0.0015799434956348527, MSE: 0.0005805882827014782\n"
     ]
    }
   ],
   "source": [
    "from sklearn.metrics import mean_absolute_error, mean_squared_error\n",
    "\n",
    "# For FNN\n",
    "mae_fnn = mean_absolute_error(y_valid_rescaled[:, 0], y_prednarxffn_rescaled[:, 0])\n",
    "mse_fnn = mean_squared_error(y_valid_rescaled[:, 0], y_prednarxffn_rescaled[:, 0])\n",
    "\n",
    "# For NARXNN\n",
    "mae_narx = mean_absolute_error(y_valid_rescaled[:, 0], y_prednarx_rescaled[:, 0])\n",
    "mse_narx = mean_squared_error(y_valid_rescaled[:, 0], y_prednarx_rescaled[:, 0])\n",
    "\n",
    "# Print results\n",
    "print(f\"FNN - MAE: {mae_fnn}, MSE: {mse_fnn}\")\n",
    "print(f\"NARXNN - MAE: {mae_narx}, MSE: {mse_narx}\")\n",
    "\n",
    "# Metrics (MAE, MSE): Which model has the lowest errors? Classical NARXNN?\n"
   ]
  }
 ],
 "metadata": {
  "kernelspec": {
   "display_name": "env_analysis",
   "language": "python",
   "name": "python3"
  },
  "language_info": {
   "codemirror_mode": {
    "name": "ipython",
    "version": 3
   },
   "file_extension": ".py",
   "mimetype": "text/x-python",
   "name": "python",
   "nbconvert_exporter": "python",
   "pygments_lexer": "ipython3",
   "version": "3.12.5"
  }
 },
 "nbformat": 4,
 "nbformat_minor": 2
}
