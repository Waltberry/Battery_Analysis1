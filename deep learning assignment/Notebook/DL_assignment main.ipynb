{
 "cells": [
  {
   "cell_type": "code",
   "execution_count": 1,
   "metadata": {},
   "outputs": [
    {
     "name": "stdout",
     "output_type": "stream",
     "text": [
      "Current working directory: c:\\Users\\onyer\\OneDrive\\Desktop\\Research work\\1. Projects\\Battery_Analysis1\n"
     ]
    }
   ],
   "source": [
    "import os\n",
    "\n",
    "# Change to the parent directory\n",
    "os.chdir('../..')\n",
    "\n",
    "# Verify the path using getcwd()\n",
    "cwd = os.getcwd()\n",
    "print(\"Current working directory:\", cwd)"
   ]
  },
  {
   "cell_type": "markdown",
   "metadata": {},
   "source": [
    "## Building a NARX Neural Network"
   ]
  },
  {
   "cell_type": "code",
   "execution_count": 2,
   "metadata": {},
   "outputs": [],
   "source": [
    "import pandas as pd\n",
    "import matplotlib.pyplot as plt\n",
    "import numpy as np\n",
    "from tensorflow import keras\n",
    "from tensorflow.keras import layers\n",
    "from sklearn.preprocessing import MinMaxScaler\n",
    "from src.file_loader import load_csv_files\n",
    "# import matplotlib as mpl\n",
    "# from tensorflow.keras.models import Sequential\n",
    "# from tensorflow.keras.layers import LSTM, Dense"
   ]
  },
  {
   "cell_type": "code",
   "execution_count": 3,
   "metadata": {},
   "outputs": [
    {
     "name": "stdout",
     "output_type": "stream",
     "text": [
      "Current working directory: c:\\Users\\onyer\\OneDrive\\Desktop\\Research work\\1. Projects\\Battery_Analysis1\n"
     ]
    }
   ],
   "source": [
    "# Verify the path using getcwd()\n",
    "cwd = os.getcwd()\n",
    "print(\"Current working directory:\", cwd)"
   ]
  },
  {
   "cell_type": "code",
   "execution_count": 4,
   "metadata": {},
   "outputs": [],
   "source": [
    "# List of file names\n",
    "file_names = [\n",
    "    '9171_20241001_N11507060127_ Rapid polarization-2.csv'\n",
    "    ]\n",
    "\n",
    "# print(f\"Processing file: {file_names}\")\n",
    "dataframes = load_csv_files(file_names, '', 'deep learning assignment')\n"
   ]
  },
  {
   "cell_type": "code",
   "execution_count": 5,
   "metadata": {},
   "outputs": [
    {
     "name": "stdout",
     "output_type": "stream",
     "text": [
      "<class 'pandas.core.frame.DataFrame'>\n",
      "       Time (HH:mm:ss.SSS) Channel     CH      V      A\n",
      "count                16383   16341  16320  16320  16320\n",
      "unique               16323   16321      2    142     16\n",
      "top                   Step     CH1    CH1  2.926  2.251\n",
      "freq                    21      21  16299   2120   5620\n"
     ]
    }
   ],
   "source": [
    "# Extract the DataFrame\n",
    "data = dataframes['9171_20241001_N11507060127__Rapid_polarization-2_csv']\n",
    "\n",
    "# Confirm it's a DataFrame\n",
    "print(type(data))  # Should output <class 'pandas.core.frame.DataFrame'>\n",
    "\n",
    "# Use the describe() method\n",
    "print(data.describe())\n"
   ]
  },
  {
   "cell_type": "code",
   "execution_count": 6,
   "metadata": {},
   "outputs": [
    {
     "data": {
      "text/html": [
       "<div>\n",
       "<style scoped>\n",
       "    .dataframe tbody tr th:only-of-type {\n",
       "        vertical-align: middle;\n",
       "    }\n",
       "\n",
       "    .dataframe tbody tr th {\n",
       "        vertical-align: top;\n",
       "    }\n",
       "\n",
       "    .dataframe thead th {\n",
       "        text-align: right;\n",
       "    }\n",
       "</style>\n",
       "<table border=\"1\" class=\"dataframe\">\n",
       "  <thead>\n",
       "    <tr style=\"text-align: right;\">\n",
       "      <th></th>\n",
       "      <th>Time (HH:mm:ss.SSS)</th>\n",
       "      <th>Channel</th>\n",
       "      <th>CH</th>\n",
       "      <th>V</th>\n",
       "      <th>A</th>\n",
       "    </tr>\n",
       "  </thead>\n",
       "  <tbody>\n",
       "    <tr>\n",
       "      <th>0</th>\n",
       "      <td>11:45:54.513</td>\n",
       "      <td>0.780562</td>\n",
       "      <td>CH1</td>\n",
       "      <td>1.429</td>\n",
       "      <td>0.046</td>\n",
       "    </tr>\n",
       "    <tr>\n",
       "      <th>1</th>\n",
       "      <td>11:45:54.753</td>\n",
       "      <td>1.0206133</td>\n",
       "      <td>CH1</td>\n",
       "      <td>1.444</td>\n",
       "      <td>0.046</td>\n",
       "    </tr>\n",
       "    <tr>\n",
       "      <th>2</th>\n",
       "      <td>11:45:54.983</td>\n",
       "      <td>1.2505946</td>\n",
       "      <td>CH1</td>\n",
       "      <td>1.452</td>\n",
       "      <td>0.046</td>\n",
       "    </tr>\n",
       "    <tr>\n",
       "      <th>3</th>\n",
       "      <td>11:45:55.223</td>\n",
       "      <td>1.490689</td>\n",
       "      <td>CH1</td>\n",
       "      <td>1.457</td>\n",
       "      <td>0.046</td>\n",
       "    </tr>\n",
       "    <tr>\n",
       "      <th>4</th>\n",
       "      <td>11:45:55.453</td>\n",
       "      <td>1.7206743</td>\n",
       "      <td>CH1</td>\n",
       "      <td>1.461</td>\n",
       "      <td>0.046</td>\n",
       "    </tr>\n",
       "  </tbody>\n",
       "</table>\n",
       "</div>"
      ],
      "text/plain": [
       "  Time (HH:mm:ss.SSS)    Channel   CH      V      A\n",
       "0        11:45:54.513   0.780562  CH1  1.429  0.046\n",
       "1        11:45:54.753  1.0206133  CH1  1.444  0.046\n",
       "2        11:45:54.983  1.2505946  CH1  1.452  0.046\n",
       "3        11:45:55.223   1.490689  CH1  1.457  0.046\n",
       "4        11:45:55.453  1.7206743  CH1  1.461  0.046"
      ]
     },
     "execution_count": 6,
     "metadata": {},
     "output_type": "execute_result"
    }
   ],
   "source": [
    "data.head()"
   ]
  },
  {
   "cell_type": "code",
   "execution_count": 7,
   "metadata": {},
   "outputs": [
    {
     "data": {
      "text/plain": [
       "Time (HH:mm:ss.SSS)    object\n",
       "Channel                object\n",
       "CH                     object\n",
       "V                      object\n",
       "A                      object\n",
       "dtype: object"
      ]
     },
     "execution_count": 7,
     "metadata": {},
     "output_type": "execute_result"
    }
   ],
   "source": [
    "data.dtypes"
   ]
  },
  {
   "cell_type": "code",
   "execution_count": 8,
   "metadata": {},
   "outputs": [],
   "source": [
    "# Convert `V` and `A` columns to numeric\n",
    "data['V'] = pd.to_numeric(data['V'], errors='coerce')\n",
    "data['A'] = pd.to_numeric(data['A'], errors='coerce')"
   ]
  },
  {
   "cell_type": "code",
   "execution_count": 9,
   "metadata": {},
   "outputs": [],
   "source": [
    "# Drop rows with NaN values in these columns if conversion fails\n",
    "data = data.dropna(subset=['V', 'A'])"
   ]
  },
  {
   "cell_type": "markdown",
   "metadata": {},
   "source": [
    "### Using Feedforward neural network (FNN) Implementation"
   ]
  },
  {
   "cell_type": "code",
   "execution_count": 10,
   "metadata": {},
   "outputs": [
    {
     "name": "stdout",
     "output_type": "stream",
     "text": [
      "  Time (HH:mm:ss.SSS)    Channel   CH         V    A\n",
      "0        11:45:54.513   0.780562  CH1  0.000000  0.0\n",
      "1        11:45:54.753  1.0206133  CH1  0.007637  0.0\n",
      "2        11:45:54.983  1.2505946  CH1  0.011711  0.0\n",
      "3        11:45:55.223   1.490689  CH1  0.014257  0.0\n",
      "4        11:45:55.453  1.7206743  CH1  0.016293  0.0\n"
     ]
    }
   ],
   "source": [
    "# Select numeric columns\n",
    "numeric_cols = data.select_dtypes(include=['float64', 'int64']).columns\n",
    "numeric_data = data[numeric_cols]\n",
    "\n",
    "# Apply MinMaxScaler\n",
    "scaler = MinMaxScaler()\n",
    "scaled = scaler.fit_transform(numeric_data)\n",
    "\n",
    "# Create a new DataFrame with scaled values\n",
    "scaled_data = pd.DataFrame(scaled, columns=numeric_cols, index=data.index)\n",
    "\n",
    "# Optional: Combine with non-numeric columns\n",
    "non_numeric_cols = data.select_dtypes(exclude=['float64', 'int64'])\n",
    "final_data = pd.concat([non_numeric_cols, scaled_data], axis=1)\n",
    "\n",
    "# Check the result\n",
    "print(final_data.head())\n"
   ]
  },
  {
   "cell_type": "code",
   "execution_count": 11,
   "metadata": {},
   "outputs": [
    {
     "data": {
      "text/html": [
       "<div>\n",
       "<style scoped>\n",
       "    .dataframe tbody tr th:only-of-type {\n",
       "        vertical-align: middle;\n",
       "    }\n",
       "\n",
       "    .dataframe tbody tr th {\n",
       "        vertical-align: top;\n",
       "    }\n",
       "\n",
       "    .dataframe thead th {\n",
       "        text-align: right;\n",
       "    }\n",
       "</style>\n",
       "<table border=\"1\" class=\"dataframe\">\n",
       "  <thead>\n",
       "    <tr style=\"text-align: right;\">\n",
       "      <th></th>\n",
       "      <th>V</th>\n",
       "      <th>A</th>\n",
       "    </tr>\n",
       "  </thead>\n",
       "  <tbody>\n",
       "    <tr>\n",
       "      <th>0</th>\n",
       "      <td>0.000000</td>\n",
       "      <td>0.0</td>\n",
       "    </tr>\n",
       "    <tr>\n",
       "      <th>1</th>\n",
       "      <td>0.007637</td>\n",
       "      <td>0.0</td>\n",
       "    </tr>\n",
       "    <tr>\n",
       "      <th>2</th>\n",
       "      <td>0.011711</td>\n",
       "      <td>0.0</td>\n",
       "    </tr>\n",
       "    <tr>\n",
       "      <th>3</th>\n",
       "      <td>0.014257</td>\n",
       "      <td>0.0</td>\n",
       "    </tr>\n",
       "    <tr>\n",
       "      <th>4</th>\n",
       "      <td>0.016293</td>\n",
       "      <td>0.0</td>\n",
       "    </tr>\n",
       "  </tbody>\n",
       "</table>\n",
       "</div>"
      ],
      "text/plain": [
       "          V    A\n",
       "0  0.000000  0.0\n",
       "1  0.007637  0.0\n",
       "2  0.011711  0.0\n",
       "3  0.014257  0.0\n",
       "4  0.016293  0.0"
      ]
     },
     "execution_count": 11,
     "metadata": {},
     "output_type": "execute_result"
    }
   ],
   "source": [
    "scaled_data.head()"
   ]
  },
  {
   "cell_type": "code",
   "execution_count": 12,
   "metadata": {},
   "outputs": [
    {
     "data": {
      "text/html": [
       "<div>\n",
       "<style scoped>\n",
       "    .dataframe tbody tr th:only-of-type {\n",
       "        vertical-align: middle;\n",
       "    }\n",
       "\n",
       "    .dataframe tbody tr th {\n",
       "        vertical-align: top;\n",
       "    }\n",
       "\n",
       "    .dataframe thead th {\n",
       "        text-align: right;\n",
       "    }\n",
       "</style>\n",
       "<table border=\"1\" class=\"dataframe\">\n",
       "  <thead>\n",
       "    <tr style=\"text-align: right;\">\n",
       "      <th></th>\n",
       "      <th>Time (HH:mm:ss.SSS)</th>\n",
       "      <th>Channel</th>\n",
       "      <th>CH</th>\n",
       "      <th>V</th>\n",
       "      <th>A</th>\n",
       "    </tr>\n",
       "  </thead>\n",
       "  <tbody>\n",
       "    <tr>\n",
       "      <th>0</th>\n",
       "      <td>11:45:54.513</td>\n",
       "      <td>0.780562</td>\n",
       "      <td>CH1</td>\n",
       "      <td>0.000000</td>\n",
       "      <td>0.0</td>\n",
       "    </tr>\n",
       "    <tr>\n",
       "      <th>1</th>\n",
       "      <td>11:45:54.753</td>\n",
       "      <td>1.0206133</td>\n",
       "      <td>CH1</td>\n",
       "      <td>0.007637</td>\n",
       "      <td>0.0</td>\n",
       "    </tr>\n",
       "    <tr>\n",
       "      <th>2</th>\n",
       "      <td>11:45:54.983</td>\n",
       "      <td>1.2505946</td>\n",
       "      <td>CH1</td>\n",
       "      <td>0.011711</td>\n",
       "      <td>0.0</td>\n",
       "    </tr>\n",
       "    <tr>\n",
       "      <th>3</th>\n",
       "      <td>11:45:55.223</td>\n",
       "      <td>1.490689</td>\n",
       "      <td>CH1</td>\n",
       "      <td>0.014257</td>\n",
       "      <td>0.0</td>\n",
       "    </tr>\n",
       "    <tr>\n",
       "      <th>4</th>\n",
       "      <td>11:45:55.453</td>\n",
       "      <td>1.7206743</td>\n",
       "      <td>CH1</td>\n",
       "      <td>0.016293</td>\n",
       "      <td>0.0</td>\n",
       "    </tr>\n",
       "  </tbody>\n",
       "</table>\n",
       "</div>"
      ],
      "text/plain": [
       "  Time (HH:mm:ss.SSS)    Channel   CH         V    A\n",
       "0        11:45:54.513   0.780562  CH1  0.000000  0.0\n",
       "1        11:45:54.753  1.0206133  CH1  0.007637  0.0\n",
       "2        11:45:54.983  1.2505946  CH1  0.011711  0.0\n",
       "3        11:45:55.223   1.490689  CH1  0.014257  0.0\n",
       "4        11:45:55.453  1.7206743  CH1  0.016293  0.0"
      ]
     },
     "execution_count": 12,
     "metadata": {},
     "output_type": "execute_result"
    }
   ],
   "source": [
    "final_data.head()"
   ]
  },
  {
   "cell_type": "code",
   "execution_count": 13,
   "metadata": {},
   "outputs": [],
   "source": [
    "def create_sequences(input_data, target_column, sequence_length=1, flatten=False):\n",
    "    inputs = []\n",
    "    targets = []\n",
    "    data_size = len(input_data)\n",
    "    \n",
    "    for i in range(data_size-sequence_length):\n",
    "        sequence = input_data[i:i+sequence_length]\n",
    "        #print(type(sequence))\n",
    "        label_position = i + sequence_length\n",
    "        label = input_data[label_position][target_column]\n",
    "        if flatten:\n",
    "            inputs.append(sequence.flatten())\n",
    "        else:\n",
    "            inputs.append(sequence)\n",
    "        targets.append(label)\n",
    "        \n",
    "    return np.array(inputs), np.array(targets)"
   ]
  },
  {
   "cell_type": "code",
   "execution_count": 14,
   "metadata": {},
   "outputs": [
    {
     "data": {
      "text/plain": [
       "((16296, 6), (16296,))"
      ]
     },
     "execution_count": 14,
     "metadata": {},
     "output_type": "execute_result"
    }
   ],
   "source": [
    "x, y = create_sequences(scaled_data.to_numpy(), 1, 3, flatten=True)\n",
    "x.shape, y.shape"
   ]
  },
  {
   "cell_type": "code",
   "execution_count": 15,
   "metadata": {},
   "outputs": [],
   "source": [
    "split_ratio = 0.25\n",
    "split = int(len(x) * split_ratio)\n",
    "\n",
    "x_train, x_valid = x[:-split], x[-split:]\n",
    "y_train, y_valid = y[:-split], y[-split:]"
   ]
  },
  {
   "cell_type": "code",
   "execution_count": 16,
   "metadata": {},
   "outputs": [
    {
     "name": "stderr",
     "output_type": "stream",
     "text": [
      "c:\\Users\\onyer\\OneDrive\\Desktop\\Research work\\1. Projects\\Battery_Analysis1\\env_analysis\\Lib\\site-packages\\keras\\src\\layers\\core\\dense.py:87: UserWarning: Do not pass an `input_shape`/`input_dim` argument to a layer. When using Sequential models, prefer using an `Input(shape)` object as the first layer in the model instead.\n",
      "  super().__init__(activity_regularizer=activity_regularizer, **kwargs)\n"
     ]
    }
   ],
   "source": [
    "\n",
    "\n",
    "# Assuming x.shape[1] is the number of input features\n",
    "narxffn_model = keras.Sequential([\n",
    "    layers.Dense(10, activation='tanh', input_shape=(x.shape[1],)),\n",
    "    layers.Dense(1, activation='relu')\n",
    "])\n",
    "\n",
    "# Corrected: Wrap the metrics argument in a list\n",
    "narxffn_model.compile(\n",
    "    optimizer=keras.optimizers.Adam(),\n",
    "    loss='mse',\n",
    "    metrics=['mae']  # Wrap 'mae' in a list\n",
    ")\n",
    "\n",
    "# Adding an EarlyStopping callback\n",
    "callback = keras.callbacks.EarlyStopping(monitor='loss', patience=3)\n"
   ]
  },
  {
   "cell_type": "code",
   "execution_count": 17,
   "metadata": {},
   "outputs": [
    {
     "name": "stdout",
     "output_type": "stream",
     "text": [
      "Epoch 1/100\n",
      "\u001b[1m408/408\u001b[0m \u001b[32m━━━━━━━━━━━━━━━━━━━━\u001b[0m\u001b[37m\u001b[0m \u001b[1m2s\u001b[0m 2ms/step - loss: 0.1676 - mae: 0.3326 - val_loss: 0.0871 - val_mae: 0.2689\n",
      "Epoch 2/100\n",
      "\u001b[1m408/408\u001b[0m \u001b[32m━━━━━━━━━━━━━━━━━━━━\u001b[0m\u001b[37m\u001b[0m \u001b[1m1s\u001b[0m 2ms/step - loss: 0.1692 - mae: 0.3359 - val_loss: 0.0871 - val_mae: 0.2689\n",
      "Epoch 3/100\n",
      "\u001b[1m408/408\u001b[0m \u001b[32m━━━━━━━━━━━━━━━━━━━━\u001b[0m\u001b[37m\u001b[0m \u001b[1m1s\u001b[0m 2ms/step - loss: 0.1661 - mae: 0.3315 - val_loss: 0.0871 - val_mae: 0.2689\n",
      "Epoch 4/100\n",
      "\u001b[1m408/408\u001b[0m \u001b[32m━━━━━━━━━━━━━━━━━━━━\u001b[0m\u001b[37m\u001b[0m \u001b[1m1s\u001b[0m 2ms/step - loss: 0.1685 - mae: 0.3344 - val_loss: 0.0871 - val_mae: 0.2689\n",
      "Epoch 5/100\n",
      "\u001b[1m408/408\u001b[0m \u001b[32m━━━━━━━━━━━━━━━━━━━━\u001b[0m\u001b[37m\u001b[0m \u001b[1m1s\u001b[0m 2ms/step - loss: 0.1679 - mae: 0.3334 - val_loss: 0.0871 - val_mae: 0.2689\n",
      "Epoch 6/100\n",
      "\u001b[1m408/408\u001b[0m \u001b[32m━━━━━━━━━━━━━━━━━━━━\u001b[0m\u001b[37m\u001b[0m \u001b[1m1s\u001b[0m 2ms/step - loss: 0.1700 - mae: 0.3373 - val_loss: 0.0871 - val_mae: 0.2689\n",
      "Epoch 7/100\n",
      "\u001b[1m408/408\u001b[0m \u001b[32m━━━━━━━━━━━━━━━━━━━━\u001b[0m\u001b[37m\u001b[0m \u001b[1m1s\u001b[0m 2ms/step - loss: 0.1664 - mae: 0.3306 - val_loss: 0.0871 - val_mae: 0.2689\n",
      "Epoch 8/100\n",
      "\u001b[1m408/408\u001b[0m \u001b[32m━━━━━━━━━━━━━━━━━━━━\u001b[0m\u001b[37m\u001b[0m \u001b[1m1s\u001b[0m 2ms/step - loss: 0.1686 - mae: 0.3347 - val_loss: 0.0871 - val_mae: 0.2689\n",
      "Epoch 9/100\n",
      "\u001b[1m408/408\u001b[0m \u001b[32m━━━━━━━━━━━━━━━━━━━━\u001b[0m\u001b[37m\u001b[0m \u001b[1m1s\u001b[0m 2ms/step - loss: 0.1695 - mae: 0.3361 - val_loss: 0.0871 - val_mae: 0.2689\n"
     ]
    }
   ],
   "source": [
    "history = narxffn_model.fit(x,y, epochs=100, validation_split=0.2, verbose=1, callbacks=[callback])"
   ]
  },
  {
   "cell_type": "code",
   "execution_count": 18,
   "metadata": {},
   "outputs": [
    {
     "data": {
      "text/plain": [
       "[<matplotlib.lines.Line2D at 0x211a48cbf50>]"
      ]
     },
     "execution_count": 18,
     "metadata": {},
     "output_type": "execute_result"
    },
    {
     "data": {
      "image/png": "[encoded data removed]",
      "text/plain": [
       "<Figure size 640x480 with 1 Axes>"
      ]
     },
     "metadata": {},
     "output_type": "display_data"
    }
   ],
   "source": [
    "history.history['loss']\n",
    "\n",
    "plt.plot(history.history['loss'])\n",
    "plt.plot(history.history['val_loss'])"
   ]
  },
  {
   "cell_type": "code",
   "execution_count": 19,
   "metadata": {},
   "outputs": [
    {
     "data": {
      "text/plain": [
       "[0.16817918419837952,\n",
       " 0.16817031800746918,\n",
       " 0.1681697815656662,\n",
       " 0.16816972196102142,\n",
       " 0.16816973686218262,\n",
       " 0.16816967725753784,\n",
       " 0.1681698113679886,\n",
       " 0.168169766664505,\n",
       " 0.1681700348854065]"
      ]
     },
     "execution_count": 19,
     "metadata": {},
     "output_type": "execute_result"
    }
   ],
   "source": [
    "history.history['loss']"
   ]
  },
  {
   "cell_type": "code",
   "execution_count": 20,
   "metadata": {},
   "outputs": [],
   "source": [
    "predicted = narxffn_model(x)"
   ]
  },
  {
   "cell_type": "code",
   "execution_count": 21,
   "metadata": {},
   "outputs": [
    {
     "data": {
      "text/plain": [
       "[<matplotlib.lines.Line2D at 0x211a52dc7d0>]"
      ]
     },
     "execution_count": 21,
     "metadata": {},
     "output_type": "execute_result"
    },
    {
     "data": {
      "image/png": "[encoded data removed]",
      "text/plain": [
       "<Figure size 1200x400 with 1 Axes>"
      ]
     },
     "metadata": {},
     "output_type": "display_data"
    }
   ],
   "source": [
    "plt.figure(figsize=(12, 4))\n",
    "plt.plot(predicted)\n",
    "plt.plot(y)"
   ]
  },
  {
   "cell_type": "code",
   "execution_count": 22,
   "metadata": {},
   "outputs": [
    {
     "name": "stdout",
     "output_type": "stream",
     "text": [
      "\u001b[1m510/510\u001b[0m \u001b[32m━━━━━━━━━━━━━━━━━━━━\u001b[0m\u001b[37m\u001b[0m \u001b[1m1s\u001b[0m 1ms/step - loss: 0.1253 - mae: 0.2791\n"
     ]
    },
    {
     "data": {
      "text/plain": [
       "[0.1519591212272644, 0.3210548162460327]"
      ]
     },
     "execution_count": 22,
     "metadata": {},
     "output_type": "execute_result"
    }
   ],
   "source": [
    "narxffn_model.evaluate(x,y)"
   ]
  },
  {
   "cell_type": "markdown",
   "metadata": {},
   "source": [
    "### Classical NARXNN Implementation"
   ]
  },
  {
   "cell_type": "code",
   "execution_count": 23,
   "metadata": {},
   "outputs": [],
   "source": [
    "# Scale the data\n",
    "scaler = MinMaxScaler()\n",
    "scaled_data = scaler.fit_transform(data[['V', 'A']])\n",
    "scaled_df = pd.DataFrame(scaled_data, columns=['V', 'A'])"
   ]
  },
  {
   "cell_type": "code",
   "execution_count": 24,
   "metadata": {},
   "outputs": [],
   "source": [
    "# Create sequences for NARXNN\n",
    "def create_narx_sequences(data, target_column, input_lags=3, output_lags=1):\n",
    "    \"\"\"Generates sequences with explicit AR and exogenous inputs.\"\"\"\n",
    "    inputs, targets = [], []\n",
    "    n_samples = len(data)\n",
    "\n",
    "    for i in range(input_lags, n_samples - output_lags):\n",
    "        # AR terms (past values of the target)\n",
    "        ar_terms = data[i - input_lags:i, target_column]\n",
    "        \n",
    "        # Exogenous terms (past values of the other input variables)\n",
    "        exog_terms = data[i - input_lags:i, :]\n",
    "        \n",
    "        # Concatenate AR terms and exogenous terms\n",
    "        # inputs.append(np.hstack([ar_terms, exog_terms.flatten()]))\n",
    "        combined = np.hstack([ar_terms.reshape(-1, 1), exog_terms])\n",
    "        inputs.append(combined)  # Keep shape as (input_lags, features)\n",
    "        \n",
    "        # Future target values for output lags\n",
    "        targets.append(data[i:i + output_lags, target_column])\n",
    "    \n",
    "    return np.array(inputs), np.array(targets)"
   ]
  },
  {
   "cell_type": "code",
   "execution_count": 25,
   "metadata": {},
   "outputs": [],
   "source": [
    "# Define target (e.g., 'V' column as the target variable)\n",
    "target_column = 0  # 'V' is the first column\n",
    "input_lags = 3  # Number of past steps to include\n",
    "output_lags = 1  # Predict one step ahead\n",
    "\n",
    "x, y = create_narx_sequences(scaled_data, target_column, input_lags, output_lags)"
   ]
  },
  {
   "cell_type": "code",
   "execution_count": 26,
   "metadata": {},
   "outputs": [
    {
     "name": "stdout",
     "output_type": "stream",
     "text": [
      "x_train shape: (12221, 3, 3), y_train shape: (12221, 1)\n"
     ]
    }
   ],
   "source": [
    "# Train-test split\n",
    "split_ratio = 0.25\n",
    "split = int(len(x) * (1 - split_ratio))\n",
    "x_train, x_valid = x[:split], x[split:]\n",
    "y_train, y_valid = y[:split], y[split:]\n",
    "\n",
    "print(f\"x_train shape: {x_train.shape}, y_train shape: {y_train.shape}\")"
   ]
  },
  {
   "cell_type": "code",
   "execution_count": 27,
   "metadata": {},
   "outputs": [
    {
     "name": "stdout",
     "output_type": "stream",
     "text": [
      "x_train shape: (12221, 3, 3)\n",
      "y_train shape: (12221, 1)\n"
     ]
    }
   ],
   "source": [
    "# Check shapes after fixing\n",
    "print(f\"x_train shape: {x_train.shape}\")  # Expected: (samples, timesteps, features)\n",
    "print(f\"y_train shape: {y_train.shape}\")  # Expected: (samples, output_lags)"
   ]
  },
  {
   "cell_type": "code",
   "execution_count": 28,
   "metadata": {},
   "outputs": [
    {
     "name": "stderr",
     "output_type": "stream",
     "text": [
      "c:\\Users\\onyer\\OneDrive\\Desktop\\Research work\\1. Projects\\Battery_Analysis1\\env_analysis\\Lib\\site-packages\\keras\\src\\layers\\rnn\\rnn.py:204: UserWarning: Do not pass an `input_shape`/`input_dim` argument to a layer. When using Sequential models, prefer using an `Input(shape)` object as the first layer in the model instead.\n",
      "  super().__init__(**kwargs)\n"
     ]
    }
   ],
   "source": [
    "# Define the NARXNN model\n",
    "narx_model = keras.Sequential([\n",
    "    layers.LSTM(32, activation='tanh', input_shape=(x_train.shape[1], x_train.shape[2])),\n",
    "    layers.Dense(16, activation='tanh'),\n",
    "    layers.Dense(y_train.shape[1], activation='relu')  # Output layer\n",
    "])\n",
    "\n",
    "# Compile the model\n",
    "narx_model.compile(optimizer=keras.optimizers.Adam(), loss='mse', metrics=['mae'])\n",
    "\n",
    "# Train the model\n",
    "callback = keras.callbacks.EarlyStopping(monitor='val_loss', patience=5, restore_best_weights=True)"
   ]
  },
  {
   "cell_type": "code",
   "execution_count": 29,
   "metadata": {},
   "outputs": [
    {
     "name": "stdout",
     "output_type": "stream",
     "text": [
      "Epoch 1/100\n",
      "\u001b[1m382/382\u001b[0m \u001b[32m━━━━━━━━━━━━━━━━━━━━\u001b[0m\u001b[37m\u001b[0m \u001b[1m4s\u001b[0m 4ms/step - loss: 0.0102 - mae: 0.0496 - val_loss: 2.4777e-04 - val_mae: 0.0053\n",
      "Epoch 2/100\n",
      "\u001b[1m382/382\u001b[0m \u001b[32m━━━━━━━━━━━━━━━━━━━━\u001b[0m\u001b[37m\u001b[0m \u001b[1m1s\u001b[0m 3ms/step - loss: 4.3121e-04 - mae: 0.0053 - val_loss: 2.2092e-04 - val_mae: 0.0024\n",
      "Epoch 3/100\n",
      "\u001b[1m382/382\u001b[0m \u001b[32m━━━━━━━━━━━━━━━━━━━━\u001b[0m\u001b[37m\u001b[0m \u001b[1m1s\u001b[0m 3ms/step - loss: 4.0637e-04 - mae: 0.0042 - val_loss: 2.1633e-04 - val_mae: 0.0021\n",
      "Epoch 4/100\n",
      "\u001b[1m382/382\u001b[0m \u001b[32m━━━━━━━━━━━━━━━━━━━━\u001b[0m\u001b[37m\u001b[0m \u001b[1m1s\u001b[0m 3ms/step - loss: 3.0697e-04 - mae: 0.0041 - val_loss: 2.1456e-04 - val_mae: 0.0028\n",
      "Epoch 5/100\n",
      "\u001b[1m382/382\u001b[0m \u001b[32m━━━━━━━━━━━━━━━━━━━━\u001b[0m\u001b[37m\u001b[0m \u001b[1m1s\u001b[0m 3ms/step - loss: 1.6593e-04 - mae: 0.0028 - val_loss: 2.2771e-04 - val_mae: 0.0055\n",
      "Epoch 6/100\n",
      "\u001b[1m382/382\u001b[0m \u001b[32m━━━━━━━━━━━━━━━━━━━━\u001b[0m\u001b[37m\u001b[0m \u001b[1m1s\u001b[0m 3ms/step - loss: 2.4203e-04 - mae: 0.0043 - val_loss: 2.9316e-04 - val_mae: 0.0105\n",
      "Epoch 7/100\n",
      "\u001b[1m382/382\u001b[0m \u001b[32m━━━━━━━━━━━━━━━━━━━━\u001b[0m\u001b[37m\u001b[0m \u001b[1m1s\u001b[0m 2ms/step - loss: 3.5339e-04 - mae: 0.0064 - val_loss: 2.9321e-04 - val_mae: 0.0105\n",
      "Epoch 8/100\n",
      "\u001b[1m382/382\u001b[0m \u001b[32m━━━━━━━━━━━━━━━━━━━━\u001b[0m\u001b[37m\u001b[0m \u001b[1m1s\u001b[0m 2ms/step - loss: 2.1753e-04 - mae: 0.0044 - val_loss: 3.6605e-04 - val_mae: 0.0140\n",
      "Epoch 9/100\n",
      "\u001b[1m382/382\u001b[0m \u001b[32m━━━━━━━━━━━━━━━━━━━━\u001b[0m\u001b[37m\u001b[0m \u001b[1m1s\u001b[0m 2ms/step - loss: 3.8371e-04 - mae: 0.0054 - val_loss: 1.7442e-04 - val_mae: 0.0033\n",
      "Epoch 10/100\n",
      "\u001b[1m382/382\u001b[0m \u001b[32m━━━━━━━━━━━━━━━━━━━━\u001b[0m\u001b[37m\u001b[0m \u001b[1m1s\u001b[0m 2ms/step - loss: 4.7905e-04 - mae: 0.0058 - val_loss: 1.6200e-04 - val_mae: 0.0022\n",
      "Epoch 11/100\n",
      "\u001b[1m382/382\u001b[0m \u001b[32m━━━━━━━━━━━━━━━━━━━━\u001b[0m\u001b[37m\u001b[0m \u001b[1m1s\u001b[0m 3ms/step - loss: 2.2284e-04 - mae: 0.0042 - val_loss: 1.5511e-04 - val_mae: 0.0017\n",
      "Epoch 12/100\n",
      "\u001b[1m382/382\u001b[0m \u001b[32m━━━━━━━━━━━━━━━━━━━━\u001b[0m\u001b[37m\u001b[0m \u001b[1m1s\u001b[0m 2ms/step - loss: 2.9618e-04 - mae: 0.0047 - val_loss: 1.5507e-04 - val_mae: 0.0021\n",
      "Epoch 13/100\n",
      "\u001b[1m382/382\u001b[0m \u001b[32m━━━━━━━━━━━━━━━━━━━━\u001b[0m\u001b[37m\u001b[0m \u001b[1m1s\u001b[0m 3ms/step - loss: 2.1544e-04 - mae: 0.0031 - val_loss: 1.6996e-04 - val_mae: 0.0049\n",
      "Epoch 14/100\n",
      "\u001b[1m382/382\u001b[0m \u001b[32m━━━━━━━━━━━━━━━━━━━━\u001b[0m\u001b[37m\u001b[0m \u001b[1m1s\u001b[0m 3ms/step - loss: 1.6941e-04 - mae: 0.0032 - val_loss: 1.5439e-04 - val_mae: 0.0019\n",
      "Epoch 15/100\n",
      "\u001b[1m382/382\u001b[0m \u001b[32m━━━━━━━━━━━━━━━━━━━━\u001b[0m\u001b[37m\u001b[0m \u001b[1m1s\u001b[0m 2ms/step - loss: 2.0156e-04 - mae: 0.0028 - val_loss: 1.5035e-04 - val_mae: 8.9732e-04\n",
      "Epoch 16/100\n",
      "\u001b[1m382/382\u001b[0m \u001b[32m━━━━━━━━━━━━━━━━━━━━\u001b[0m\u001b[37m\u001b[0m \u001b[1m1s\u001b[0m 2ms/step - loss: 1.6445e-04 - mae: 0.0030 - val_loss: 1.7205e-04 - val_mae: 0.0042\n",
      "Epoch 17/100\n",
      "\u001b[1m382/382\u001b[0m \u001b[32m━━━━━━━━━━━━━━━━━━━━\u001b[0m\u001b[37m\u001b[0m \u001b[1m1s\u001b[0m 3ms/step - loss: 2.6706e-04 - mae: 0.0041 - val_loss: 1.6649e-04 - val_mae: 0.0043\n",
      "Epoch 18/100\n",
      "\u001b[1m382/382\u001b[0m \u001b[32m━━━━━━━━━━━━━━━━━━━━\u001b[0m\u001b[37m\u001b[0m \u001b[1m1s\u001b[0m 2ms/step - loss: 1.8241e-04 - mae: 0.0032 - val_loss: 1.5189e-04 - val_mae: 0.0014\n",
      "Epoch 19/100\n",
      "\u001b[1m382/382\u001b[0m \u001b[32m━━━━━━━━━━━━━━━━━━━━\u001b[0m\u001b[37m\u001b[0m \u001b[1m1s\u001b[0m 2ms/step - loss: 2.4693e-04 - mae: 0.0032 - val_loss: 1.5078e-04 - val_mae: 0.0013\n",
      "Epoch 20/100\n",
      "\u001b[1m382/382\u001b[0m \u001b[32m━━━━━━━━━━━━━━━━━━━━\u001b[0m\u001b[37m\u001b[0m \u001b[1m1s\u001b[0m 2ms/step - loss: 3.5973e-04 - mae: 0.0050 - val_loss: 1.5254e-04 - val_mae: 0.0015\n"
     ]
    }
   ],
   "source": [
    "history = narx_model.fit(\n",
    "    x_train, y_train,\n",
    "    epochs=100,\n",
    "    batch_size=32,\n",
    "    validation_data=(x_valid, y_valid),\n",
    "    callbacks=[callback],\n",
    "    verbose=1\n",
    ")\n"
   ]
  },
  {
   "cell_type": "code",
   "execution_count": 30,
   "metadata": {},
   "outputs": [
    {
     "data": {
      "image/png": "[encoded data removed]",
      "text/plain": [
       "<Figure size 640x480 with 1 Axes>"
      ]
     },
     "metadata": {},
     "output_type": "display_data"
    }
   ],
   "source": [
    "\n",
    "# Plot training history\n",
    "plt.plot(history.history['loss'], label='Training Loss')\n",
    "plt.plot(history.history['val_loss'], label='Validation Loss')\n",
    "plt.legend()\n",
    "plt.show()"
   ]
  },
  {
   "cell_type": "code",
   "execution_count": 31,
   "metadata": {},
   "outputs": [
    {
     "name": "stdout",
     "output_type": "stream",
     "text": [
      "\u001b[1m128/128\u001b[0m \u001b[32m━━━━━━━━━━━━━━━━━━━━\u001b[0m\u001b[37m\u001b[0m \u001b[1m1s\u001b[0m 4ms/step\n"
     ]
    }
   ],
   "source": [
    "# Make predictions\n",
    "y_pred = narx_model.predict(x_valid)"
   ]
  },
  {
   "cell_type": "code",
   "execution_count": 32,
   "metadata": {},
   "outputs": [
    {
     "data": {
      "image/png": "[encoded data removed]",
      "text/plain": [
       "<Figure size 1200x600 with 1 Axes>"
      ]
     },
     "metadata": {},
     "output_type": "display_data"
    }
   ],
   "source": [
    "# Rescale back to original values for comparison\n",
    "y_valid_rescaled = scaler.inverse_transform(np.hstack((y_valid, np.zeros_like(y_valid))))\n",
    "y_pred_rescaled = scaler.inverse_transform(np.hstack((y_pred, np.zeros_like(y_pred))))\n",
    "\n",
    "# Plot predictions vs actuals\n",
    "plt.figure(figsize=(12, 6))\n",
    "plt.plot(y_valid_rescaled[:, 0], label='True Values')\n",
    "plt.plot(y_pred_rescaled[:, 0], label='Predicted Values')\n",
    "plt.legend()\n",
    "plt.title('NARXNN Predictions vs Actuals')\n",
    "plt.show()"
   ]
  },
  {
   "cell_type": "code",
   "execution_count": null,
   "metadata": {},
   "outputs": [],
   "source": []
  },
  {
   "cell_type": "code",
   "execution_count": null,
   "metadata": {},
   "outputs": [],
   "source": []
  }
 ],
 "metadata": {
  "kernelspec": {
   "display_name": "env_analysis",
   "language": "python",
   "name": "python3"
  },
  "language_info": {
   "codemirror_mode": {
    "name": "ipython",
    "version": 3
   },
   "file_extension": ".py",
   "mimetype": "text/x-python",
   "name": "python",
   "nbconvert_exporter": "python",
   "pygments_lexer": "ipython3",
   "version": "3.12.5"
  }
 },
 "nbformat": 4,
 "nbformat_minor": 2
}
