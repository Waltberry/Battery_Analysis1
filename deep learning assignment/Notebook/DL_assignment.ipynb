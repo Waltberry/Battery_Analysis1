{
 "cells": [
  {
   "cell_type": "code",
   "execution_count": 1,
   "metadata": {},
   "outputs": [
    {
     "name": "stdout",
     "output_type": "stream",
     "text": [
      "Current working directory: c:\\Users\\onyer\\OneDrive\\Desktop\\Research work\\1. Projects\\Battery_Analysis1\n"
     ]
    }
   ],
   "source": [
    "import os\n",
    "\n",
    "# Change to the parent directory\n",
    "os.chdir('../..')\n",
    "\n",
    "# Verify the path using getcwd()\n",
    "cwd = os.getcwd()\n",
    "print(\"Current working directory:\", cwd)"
   ]
  },
  {
   "cell_type": "code",
   "execution_count": 2,
   "metadata": {},
   "outputs": [
    {
     "name": "stderr",
     "output_type": "stream",
     "text": [
      "c:\\Users\\onyer\\OneDrive\\Desktop\\Research work\\1. Projects\\Battery_Analysis1\\env_analysis\\Lib\\site-packages\\tqdm\\auto.py:21: TqdmWarning: IProgress not found. Please update jupyter and ipywidgets. See https://ipywidgets.readthedocs.io/en/stable/user_install.html\n",
      "  from .autonotebook import tqdm as notebook_tqdm\n"
     ]
    }
   ],
   "source": [
    "import deepSI\n",
    "import pandas as pd\n",
    "import matplotlib.pyplot as plt\n",
    "import numpy as np\n",
    "from src.model_fitting import fit_and_plot_cycle\n",
    "import src.plotting as ptt\n",
    "from src.file_loader import load_csv_files\n",
    "from src.model_fitting import fit_and_plot_cycle\n",
    "from src.model import arx_model\n",
    "import src.sysid_util as sid\n",
    "import scipy as sp\n",
    "import control as ct"
   ]
  },
  {
   "cell_type": "code",
   "execution_count": 3,
   "metadata": {},
   "outputs": [],
   "source": [
    "# List of file names\n",
    "file_names = [\n",
    "    '9171_20240927_N11507060127_ Rapid polarization.csv',\n",
    "    '9171_20240927_N11507060127_Rapid polarization-1.csv',\n",
    "    '9171_20241001_N11507060127_ Rapid polarization-2.csv'\n",
    "    ]\n",
    "\n",
    "# print(f\"Processing file: {file_names}\")\n",
    "dataframes = load_csv_files(file_names, '', 'deep learning assignment')\n"
   ]
  },
  {
   "cell_type": "code",
   "execution_count": 4,
   "metadata": {},
   "outputs": [
    {
     "name": "stdout",
     "output_type": "stream",
     "text": [
      "Head of DataFrame 9171_20240927_N11507060127__Rapid_polarization_csv:\n",
      "  Time (HH:mm:ss.SSS)    Channel   CH      V      A\n",
      "0        11:51:33.361  0.9150142  CH1  1.415  0.046\n",
      "1        11:51:33.597   1.151406  CH1  1.438  0.046\n",
      "2        11:51:33.834  1.3879028  CH1   1.45  0.046\n",
      "3        11:51:34.056  1.6098408  CH1  1.457  0.046\n",
      "4        11:51:34.291  1.8455329  CH1  1.462  0.046\n",
      "\n",
      "\n",
      "Head of DataFrame 9171_20240927_N11507060127_Rapid_polarization-1_csv:\n",
      "  Time (HH:mm:ss.SSS)    Channel   CH      V      A\n",
      "0        12:37:34.923  0.7860418  CH1   1.29  0.045\n",
      "1        12:37:35.159  1.0221781  CH1  1.319  0.045\n",
      "2        12:37:35.393  1.2562979  CH1  1.346  0.045\n",
      "3        12:37:35.628  1.4910408  CH1  1.373  0.045\n",
      "4        12:37:35.863  1.7256911  CH1    1.4  0.045\n",
      "\n",
      "\n",
      "Head of DataFrame 9171_20241001_N11507060127__Rapid_polarization-2_csv:\n",
      "  Time (HH:mm:ss.SSS)    Channel   CH      V      A\n",
      "0        11:45:54.513   0.780562  CH1  1.429  0.046\n",
      "1        11:45:54.753  1.0206133  CH1  1.444  0.046\n",
      "2        11:45:54.983  1.2505946  CH1  1.452  0.046\n",
      "3        11:45:55.223   1.490689  CH1  1.457  0.046\n",
      "4        11:45:55.453  1.7206743  CH1  1.461  0.046\n",
      "\n",
      "\n"
     ]
    }
   ],
   "source": [
    "# Display the first 5 rows of each DataFrame\n",
    "for key, df in dataframes.items():\n",
    "    print(f\"Head of DataFrame {key}:\")\n",
    "    print(df.head(5))\n",
    "    print(\"\\n\")"
   ]
  },
  {
   "cell_type": "code",
   "execution_count": null,
   "metadata": {},
   "outputs": [],
   "source": []
  },
  {
   "cell_type": "code",
   "execution_count": null,
   "metadata": {},
   "outputs": [],
   "source": []
  }
 ],
 "metadata": {
  "kernelspec": {
   "display_name": "env_analysis",
   "language": "python",
   "name": "python3"
  },
  "language_info": {
   "codemirror_mode": {
    "name": "ipython",
    "version": 3
   },
   "file_extension": ".py",
   "mimetype": "text/x-python",
   "name": "python",
   "nbconvert_exporter": "python",
   "pygments_lexer": "ipython3",
   "version": "3.12.5"
  }
 },
 "nbformat": 4,
 "nbformat_minor": 2
}
