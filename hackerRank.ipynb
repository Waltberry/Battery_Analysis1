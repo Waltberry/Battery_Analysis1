def isAlphabeticPalindrome(code):
    only_letters = ""
    for char in code:
        if char.isalpha():
            only_letters += char.lower()
            
            
            
    if only_letters == only_letters[::-1]:
        return 1
    else:
        return 0
    
    
# Example usage:
code_snippet = "abc123cba"
result = isAlphabeticPalindrome(code_snippet)
print(result)
