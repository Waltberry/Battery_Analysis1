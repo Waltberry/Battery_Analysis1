{
 "cells": [
  {
   "cell_type": "code",
   "execution_count": 1,
   "metadata": {},
   "outputs": [
    {
     "name": "stdout",
     "output_type": "stream",
     "text": [
      "Current working directory: c:\\Users\\onyer\\OneDrive\\Desktop\\Research work\\1. Projects\\Battery_Analysis1\n"
     ]
    }
   ],
   "source": [
    "import os\n",
    "\n",
    "# Change to the parent directory\n",
    "os.chdir('../..')\n",
    "\n",
    "# Verify the path using getcwd()\n",
    "cwd = os.getcwd()\n",
    "print(\"Current working directory:\", cwd)"
   ]
  },
  {
   "cell_type": "code",
   "execution_count": 2,
   "metadata": {},
   "outputs": [],
   "source": [
    "from galvani import BioLogic\n",
    "import pandas as pd\n",
    "import matplotlib.pyplot as plt\n",
    "import numpy as np\n",
    "from scipy.stats import linregress # linear regression\n",
    "from src.file_loader import load_excel"
   ]
  },
  {
   "cell_type": "code",
   "execution_count": 3,
   "metadata": {},
   "outputs": [],
   "source": [
    "# import importlib\n",
    "# importlib.reload(src)\n"
   ]
  },
  {
   "cell_type": "code",
   "execution_count": 5,
   "metadata": {},
   "outputs": [
    {
     "name": "stdout",
     "output_type": "stream",
     "text": [
      "{'CP @ 60 degrees celcius':                                         Cycle Time      Potential  \\\n",
      "0                                               hr  V vs. Na+/ Na   \n",
      "1                                              NaN       AGU:Cu 0   \n",
      "2      Na stripping and plating performed at 60° C            NaN   \n",
      "3                                    0.05 mA/ cm^2            NaN   \n",
      "4                                         0.000139         0.9628   \n",
      "...                                            ...            ...   \n",
      "28252                                          NaN            NaN   \n",
      "28253                                          NaN            NaN   \n",
      "28254                                          NaN            NaN   \n",
      "28255                                          NaN            NaN   \n",
      "28256                                          NaN            NaN   \n",
      "\n",
      "        Cycle Time.1    Potential.1   Cycle Time.2    Potential.2  \\\n",
      "0                 hr  V vs. Na+/ Na             hr  V vs. Na+/ Na   \n",
      "1                NaN     AGU:Cu 1:1            NaN     AGU:Cu 6:1   \n",
      "2                NaN            NaN            NaN            NaN   \n",
      "3      0.05 mA/ cm^2            NaN  0.05 mA/ cm^2            NaN   \n",
      "4           0.000139       0.000829       0.000139        0.35433   \n",
      "...              ...            ...            ...            ...   \n",
      "28252            NaN            NaN      501.94625        0.08753   \n",
      "28253            NaN            NaN      501.96402        0.09504   \n",
      "28254            NaN            NaN       501.9818        0.10071   \n",
      "28255            NaN            NaN      501.99958       -0.03918   \n",
      "28256            NaN            NaN      502.01736         -0.062   \n",
      "\n",
      "        Cycle Time.3    Potential.3  \\\n",
      "0                 hr  V vs. Na+/ Na   \n",
      "1                NaN    AGU:Cu 12:1   \n",
      "2                NaN            NaN   \n",
      "3      0.05 mA/ cm^2            NaN   \n",
      "4           0.000139        1.37942   \n",
      "...              ...            ...   \n",
      "28252            NaN            NaN   \n",
      "28253            NaN            NaN   \n",
      "28254            NaN            NaN   \n",
      "28255            NaN            NaN   \n",
      "28256            NaN            NaN   \n",
      "\n",
      "                                            Cycle Time.4    Potential.4  \n",
      "0                                                     hr  V vs. Na+/ Na  \n",
      "1                                                    NaN     AGU:Cu 6:1  \n",
      "2                                                    NaN            NaN  \n",
      "3      Increasing current density every 24 h (0.25, 0...            NaN  \n",
      "4                                               0.000139        0.15839  \n",
      "...                                                  ...            ...  \n",
      "28252                                                NaN            NaN  \n",
      "28253                                                NaN            NaN  \n",
      "28254                                                NaN            NaN  \n",
      "28255                                                NaN            NaN  \n",
      "28256                                                NaN            NaN  \n",
      "\n",
      "[28257 rows x 10 columns]}\n"
     ]
    }
   ],
   "source": [
    "df = load_excel('Na stripping and plating data.xlsx', )\n",
    "\n",
    "# Display the first few rows\n",
    "print(df)\n"
   ]
  },
  {
   "cell_type": "code",
   "execution_count": null,
   "metadata": {},
   "outputs": [],
   "source": []
  }
 ],
 "metadata": {
  "kernelspec": {
   "display_name": "ENVENV",
   "language": "python",
   "name": "python3"
  },
  "language_info": {
   "codemirror_mode": {
    "name": "ipython",
    "version": 3
   },
   "file_extension": ".py",
   "mimetype": "text/x-python",
   "name": "python",
   "nbconvert_exporter": "python",
   "pygments_lexer": "ipython3",
   "version": "3.12.5"
  }
 },
 "nbformat": 4,
 "nbformat_minor": 4
}
