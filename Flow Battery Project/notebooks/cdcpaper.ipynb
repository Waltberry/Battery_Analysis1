{
 "cells": [
  {
   "cell_type": "code",
   "execution_count": 5,
   "metadata": {},
   "outputs": [
    {
     "name": "stdout",
     "output_type": "stream",
     "text": [
      "Current working directory: c:\\Users\\onyer\\OneDrive\\Desktop\\Research work\n"
     ]
    }
   ],
   "source": [
    "import os\n",
    "\n",
    "# Change to the parent directory\n",
    "os.chdir('../..')\n",
    "\n",
    "# Verify the path using getcwd()\n",
    "cwd = os.getcwd()\n",
    "print(\"Current working directory:\", cwd)"
   ]
  },
  {
   "cell_type": "code",
   "execution_count": 6,
   "metadata": {},
   "outputs": [],
   "source": [
    "import pandas as pd\n",
    "import math\n",
    "import numpy as np\n",
    "import control as ct\n",
    "import matplotlib.pyplot as plt\n",
    "import scipy as sp\n",
    "import src.file_loader as fl\n",
    "import src.sysid_util as sid\n",
    "import src.data_processing as dp\n",
    "import src.plotting as plot\n",
    "import scipy.signal as signal\n",
    "from scipy.signal import TransferFunction"
   ]
  },
  {
   "cell_type": "code",
   "execution_count": null,
   "metadata": {},
   "outputs": [],
   "source": [
    "charging_cycles = dp.find_charging_cycles(df4)"
   ]
  },
  {
   "cell_type": "code",
   "execution_count": 7,
   "metadata": {},
   "outputs": [
    {
     "name": "stdout",
     "output_type": "stream",
     "text": [
      "Transfer function of data generating system:\n",
      "<TransferFunction>: sys[4]\n",
      "Inputs (1): ['u[0]']\n",
      "Outputs (1): ['y[0]']\n",
      "\n",
      "\n",
      "3e+04 s^2 + 1348 s + 1.9\n",
      "------------------------\n",
      " 3e+04 s^2 + 1030 s + 1\n",
      "\n",
      "Normalized Transfer Function:\n",
      "<TransferFunction>: sys[5]\n",
      "Inputs (1): ['u[0]']\n",
      "Outputs (1): ['y[0]']\n",
      "\n",
      "\n",
      "s^2 + 0.04493 s + 6.333e-05\n",
      "---------------------------\n",
      "s^2 + 0.03433 s + 3.333e-05\n",
      "\n",
      "Discrete-Time Transfer Function H(z):\n"
     ]
    },
    {
     "data": {
      "text/latex": [
       "$$\\frac{z^2 - 2 z + 0.9996}{z^2 - 2 z + 0.9997}\\quad dt = 0.01$$"
      ],
      "text/plain": [
       "TransferFunction(array([ 1.00005299, -1.99965672,  0.99960374]), array([ 1.        , -1.99965672,  0.99965673]), 0.01)"
      ]
     },
     "metadata": {},
     "output_type": "display_data"
    },
    {
     "name": "stdout",
     "output_type": "stream",
     "text": [
      "   Time (s)  Input (u)  Output (y)\n",
      "0      0.00        0.0         0.0\n",
      "1      0.01        0.0         0.0\n",
      "2      0.02        0.0         0.0\n",
      "3      0.03        0.0         0.0\n",
      "4      0.04        0.0         0.0\n"
     ]
    },
    {
     "data": {
      "image/png": "[encoded data removed]",
      "text/plain": [
       "<Figure size 640x480 with 1 Axes>"
      ]
     },
     "metadata": {},
     "output_type": "display_data"
    }
   ],
   "source": [
    "# The transfer function is\n",
    "'''Y(s) = H(s)U(s)\n",
    "    where H(s) = (R1/R1C1s+1) + (R2/R2C2s+1) + (Rn/RnCns+1) + R0\n",
    "    Y(s) = (R1/R1C1s+1)U(s) + (R2/R2C2s+1)U(s) + R0U(s) for second order system as n = 2\n",
    "'''\n",
    "\n",
    "# System Parameters\n",
    "R0 = 1  # 1 mΩ\n",
    "R1 = 0.3  # 0.3 mΩ\n",
    "R2 = 0.6  # 0.6 mΩ\n",
    "tau1 = 30  # 30s\n",
    "tau2 = 1000  # 1000s\n",
    "C1 = tau1 / R1  # Derived from τ = RC #100\n",
    "C2 = tau2 / R2 # 1666.67\n",
    "\n",
    "\n",
    "# Continuous-Time Transfer Function H(s)\n",
    "num1, den1 = [R1], [R1 * C1, 1]\n",
    "num2, den2 = [R2], [R2 * C2, 1]\n",
    "num3, den3 = [R0], [1]  # Static gain\n",
    "\n",
    "H1 = ct.TransferFunction(num1, den1)\n",
    "H2 = ct.TransferFunction(num2, den2)\n",
    "H3 = ct.TransferFunction(num3, den3)\n",
    "H = H1 + H2 + H3  # Total system transfer function\n",
    "\n",
    "print('Transfer function of data generating system:')\n",
    "print(H)\n",
    "\n",
    "# Normalize denominator\n",
    "num, den = H.num[0][0], H.den[0][0]  # Extract coefficients\n",
    "den_leading_coeff = den[0]  # Leading coefficient of denominator\n",
    "num_normalized = [n / den_leading_coeff for n in num]\n",
    "den_normalized = [d / den_leading_coeff for d in den]\n",
    "\n",
    "H_normalized = ct.TransferFunction(num_normalized, den_normalized)\n",
    "print(\"Normalized Transfer Function:\")\n",
    "print(H_normalized)\n",
    "\n",
    "# Discretization\n",
    "dt = 1/100  # Sampling period\n",
    "H_discrete = ct.c2d(H_normalized, dt, method='tustin')\n",
    "\n",
    "print(\"Discrete-Time Transfer Function H(z):\")\n",
    "display(H_discrete)\n",
    "\n",
    "N = 1000000\n",
    "t = np.linspace(0,dt*N,N)\n",
    "\n",
    "u_step = np.ones(N)\n",
    "u_step[0:100] = np.zeros(100)\n",
    "\n",
    "\n",
    "# Simulate system response\n",
    "tout, yout= ct.forced_response(H, T=t, U=u_step)\n",
    "\n",
    "# Store response in DataFrame\n",
    "system_df = pd.DataFrame({\n",
    "    \"Time (s)\": tout,\n",
    "    \"Input (u)\": u_step,\n",
    "    \"Output (y)\": yout\n",
    "})\n",
    "\n",
    "# Display the first few rows\n",
    "print(system_df.head())\n",
    "\n",
    "# Plot response\n",
    "fig, ax = plt.subplots()\n",
    "ax.plot(t, u_step, label=\"Input (step)\")\n",
    "ax.plot(tout, yout, label=\"Output (system response)\")\n",
    "ax.set_title(\"Response of System\")\n",
    "ax.set_xlabel(\"sample size\")\n",
    "ax.set_ylabel(\"Response\")\n",
    "ax.legend()\n",
    "plt.show()"
   ]
  },
  {
   "cell_type": "code",
   "execution_count": 8,
   "metadata": {},
   "outputs": [
    {
     "name": "stdout",
     "output_type": "stream",
     "text": [
      "<TransferFunction>: sys[5]$sampled\n",
      "Inputs (1): ['u[0]']\n",
      "Outputs (1): ['y[0]']\n",
      "\n",
      "\n",
      "z^2 - 2 z + 0.9996\n",
      "------------------\n",
      "z^2 - 2 z + 0.9997\n",
      "\n",
      "dt = 0.01\n",
      "\n",
      "[ 1.         -1.99965672  0.99965673]\n"
     ]
    }
   ],
   "source": [
    "num_est,den_est = H_discrete.num, H_discrete.den\n",
    "num_est = num_est[0][0]\n",
    "den_est = den_est[0][0]\n",
    "\n",
    "print(H_discrete)\n",
    "print(den_est)"
   ]
  },
  {
   "cell_type": "code",
   "execution_count": 9,
   "metadata": {},
   "outputs": [
    {
     "name": "stdout",
     "output_type": "stream",
     "text": [
      "Poles: [0.99999    0.99966672]\n",
      "d1, d2: [5.99993979e-06 9.99666753e-05]\n"
     ]
    }
   ],
   "source": [
    "def eval_poly(coeffs, x):\n",
    "    \"\"\"Evaluate polynomial at a specific point.\"\"\"\n",
    "    return np.polyval(coeffs, x)\n",
    "\n",
    "def partial_fraction_expansion(num, den):\n",
    "    \"\"\"Performs partial fraction expansion.\"\"\"\n",
    "    \n",
    "    # Convert to numpy arrays\n",
    "    num = np.array(num)\n",
    "    den = np.array(den)\n",
    "\n",
    "    # Normalize the denominator\n",
    "    a0 = float(den[0])\n",
    "    den_normalized = den / a0\n",
    "    \n",
    "    # Find the poles\n",
    "    poles = np.roots(den_normalized)\n",
    "    num_poles = poles.shape[0]\n",
    "    \n",
    "    # Initialize coefficients\n",
    "    coeff = np.zeros(num_poles, dtype=np.complex128) \n",
    "    \n",
    "    # Compute the residues\n",
    "    for i in range(num_poles):\n",
    "        numerator_at_pole = eval_poly(num, poles[i])\n",
    "        denominator_product = np.prod([(poles[i] - poles[j]) for j in range(num_poles) if i != j])\n",
    "        coeff[i] = numerator_at_pole / (denominator_product * a0)\n",
    "    \n",
    "    return poles, coeff\n",
    "\n",
    "# Extract the array from the list\n",
    "# num_est = num_est[0]\n",
    "\n",
    "# Perform partial fraction expansion\n",
    "poles, coeffs = partial_fraction_expansion(num_est, den_est)\n",
    "\n",
    "print(\"Poles:\", poles)\n",
    "print(\"d1, d2:\", coeffs.real)  # Only the real part for physical meaning\n"
   ]
  },
  {
   "cell_type": "code",
   "execution_count": 10,
   "metadata": {},
   "outputs": [
    {
     "name": "stdout",
     "output_type": "stream",
     "text": [
      "den_est: [ 1.         -1.99965672  0.99965673]\n",
      "Shape of den_est: (3,)\n"
     ]
    }
   ],
   "source": [
    "poles_discrete = np.roots(den_est) \n",
    "\n",
    "print(\"den_est:\", den_est)\n",
    "print(\"Shape of den_est:\", np.shape(den_est))"
   ]
  },
  {
   "cell_type": "code",
   "execution_count": 11,
   "metadata": {},
   "outputs": [],
   "source": [
    "# system_df = pd.DataFrame({\n",
    "#     \"Time (s)\": tout,\n",
    "#     \"Input (u)\": u_step,\n",
    "#     \"Output (y)\": yout\n",
    "# })"
   ]
  },
  {
   "cell_type": "code",
   "execution_count": 12,
   "metadata": {},
   "outputs": [
    {
     "data": {
      "text/html": [
       "<div>\n",
       "<style scoped>\n",
       "    .dataframe tbody tr th:only-of-type {\n",
       "        vertical-align: middle;\n",
       "    }\n",
       "\n",
       "    .dataframe tbody tr th {\n",
       "        vertical-align: top;\n",
       "    }\n",
       "\n",
       "    .dataframe thead th {\n",
       "        text-align: right;\n",
       "    }\n",
       "</style>\n",
       "<table border=\"1\" class=\"dataframe\">\n",
       "  <thead>\n",
       "    <tr style=\"text-align: right;\">\n",
       "      <th></th>\n",
       "      <th>Time (s)</th>\n",
       "      <th>Input (u)</th>\n",
       "      <th>Output (y)</th>\n",
       "    </tr>\n",
       "  </thead>\n",
       "  <tbody>\n",
       "    <tr>\n",
       "      <th>0</th>\n",
       "      <td>0.000000</td>\n",
       "      <td>0.0</td>\n",
       "      <td>0.000000</td>\n",
       "    </tr>\n",
       "    <tr>\n",
       "      <th>1</th>\n",
       "      <td>0.010000</td>\n",
       "      <td>0.0</td>\n",
       "      <td>0.000000</td>\n",
       "    </tr>\n",
       "    <tr>\n",
       "      <th>2</th>\n",
       "      <td>0.020000</td>\n",
       "      <td>0.0</td>\n",
       "      <td>0.000000</td>\n",
       "    </tr>\n",
       "    <tr>\n",
       "      <th>3</th>\n",
       "      <td>0.030000</td>\n",
       "      <td>0.0</td>\n",
       "      <td>0.000000</td>\n",
       "    </tr>\n",
       "    <tr>\n",
       "      <th>4</th>\n",
       "      <td>0.040000</td>\n",
       "      <td>0.0</td>\n",
       "      <td>0.000000</td>\n",
       "    </tr>\n",
       "    <tr>\n",
       "      <th>...</th>\n",
       "      <td>...</td>\n",
       "      <td>...</td>\n",
       "      <td>...</td>\n",
       "    </tr>\n",
       "    <tr>\n",
       "      <th>195</th>\n",
       "      <td>1.950002</td>\n",
       "      <td>1.0</td>\n",
       "      <td>1.009972</td>\n",
       "    </tr>\n",
       "    <tr>\n",
       "      <th>196</th>\n",
       "      <td>1.960002</td>\n",
       "      <td>1.0</td>\n",
       "      <td>1.010075</td>\n",
       "    </tr>\n",
       "    <tr>\n",
       "      <th>197</th>\n",
       "      <td>1.970002</td>\n",
       "      <td>1.0</td>\n",
       "      <td>1.010178</td>\n",
       "    </tr>\n",
       "    <tr>\n",
       "      <th>198</th>\n",
       "      <td>1.980002</td>\n",
       "      <td>1.0</td>\n",
       "      <td>1.010281</td>\n",
       "    </tr>\n",
       "    <tr>\n",
       "      <th>199</th>\n",
       "      <td>1.990002</td>\n",
       "      <td>1.0</td>\n",
       "      <td>1.010384</td>\n",
       "    </tr>\n",
       "  </tbody>\n",
       "</table>\n",
       "<p>200 rows × 3 columns</p>\n",
       "</div>"
      ],
      "text/plain": [
       "     Time (s)  Input (u)  Output (y)\n",
       "0    0.000000        0.0    0.000000\n",
       "1    0.010000        0.0    0.000000\n",
       "2    0.020000        0.0    0.000000\n",
       "3    0.030000        0.0    0.000000\n",
       "4    0.040000        0.0    0.000000\n",
       "..        ...        ...         ...\n",
       "195  1.950002        1.0    1.009972\n",
       "196  1.960002        1.0    1.010075\n",
       "197  1.970002        1.0    1.010178\n",
       "198  1.980002        1.0    1.010281\n",
       "199  1.990002        1.0    1.010384\n",
       "\n",
       "[200 rows x 3 columns]"
      ]
     },
     "execution_count": 12,
     "metadata": {},
     "output_type": "execute_result"
    }
   ],
   "source": [
    "system_df.head(200)"
   ]
  },
  {
   "cell_type": "code",
   "execution_count": 13,
   "metadata": {},
   "outputs": [],
   "source": [
    "M = 80000"
   ]
  },
  {
   "cell_type": "code",
   "execution_count": 14,
   "metadata": {},
   "outputs": [],
   "source": [
    "yy = system_df[\"Output (y)\"].values[0:M] ##yout\n",
    "uu = system_df[\"Input (u)\"].values[0:M] ##u_step"
   ]
  },
  {
   "cell_type": "code",
   "execution_count": 15,
   "metadata": {},
   "outputs": [],
   "source": [
    "# Check for NaN or inf values in yy and uu\n",
    "if not np.all(np.isfinite(yy)):\n",
    "    raise ValueError(\"yy contains NaN or infinite values!\")\n",
    "\n",
    "if not np.all(np.isfinite(uu)):\n",
    "    raise ValueError(\"uu contains NaN or infinite values!\")\n"
   ]
  },
  {
   "cell_type": "code",
   "execution_count": 16,
   "metadata": {},
   "outputs": [],
   "source": [
    "nf = 2\n",
    "nb = 3\n",
    "nc = 0\n",
    "nd = 0\n",
    "na = nf\n",
    "nk = 0\n",
    "\n",
    "# Initialize lists to store results\n",
    "theta_arx_list = []\n",
    "theta_bj_list = []\n",
    "optimization_results_list = []\n",
    "\n",
    "# # Preprocess the input and output signals\n",
    "# uu = uu - uu[0] * np.ones(len(uu))\n",
    "# yy = yy - yy[0] * np.ones(len(yy))\n",
    "\n",
    "# Calculate the ARX model parameters\n",
    "n_arx = [nf, nb, nk]\n",
    "theta_arx = sid.V_arx_lin_reg(n_arx, yy, uu)\n",
    "\n",
    "# Store theta_arx in the list\n",
    "theta_arx_list.append(theta_arx)\n",
    "\n",
    "# Prepare initial guess for Box-Jenkins model\n",
    "theta_box_jenkins = np.concatenate((\n",
    "    theta_arx[n_arx[0]:np.sum(n_arx)], \n",
    "    np.zeros(nc + nd), \n",
    "    theta_arx[0:n_arx[0]]\n",
    "))\n",
    "\n",
    "# Define the structure for the Box-Jenkins model\n",
    "n_bj = [nb, nc, nd, nf, nk]\n",
    "\n",
    "# Perform optimization\n",
    "optimization_results = sp.optimize.least_squares(\n",
    "    sid.V_box_jenkins, \n",
    "    theta_box_jenkins, \n",
    "    jac=sid.jac_V_bj, \n",
    "    args=(n_bj, yy, uu)\n",
    ")\n",
    "\n",
    "# Store the optimization results in the list\n",
    "optimization_results_list.append(optimization_results)\n"
   ]
  },
  {
   "cell_type": "code",
   "execution_count": 17,
   "metadata": {},
   "outputs": [
    {
     "name": "stdout",
     "output_type": "stream",
     "text": [
      "(TransferFunction(array([ 0.87626256, -1.75173359,  0.87547106]), array([ 1.        , -1.99937351,  0.99937352]), 0.01), TransferFunction(array([1.]), array([1.]), 0.01))\n"
     ]
    }
   ],
   "source": [
    "print(sid.theta_2_tf_box_jenkins(optimization_results.x, n_bj, Ts=dt))"
   ]
  },
  {
   "cell_type": "code",
   "execution_count": 18,
   "metadata": {},
   "outputs": [],
   "source": [
    "def y_hat_arx(theta_arx,n, y, u):\n",
    "    \n",
    "    #d = n[0]-n[1]+1\n",
    "    d = n[2] + 1 # Input-output delay plus one\n",
    "    t0 = np.sum(n)+d\n",
    "    N = y.shape[0]\n",
    "    \n",
    "    # Constructing the regressor matrix (phi)\n",
    "    phi = np.zeros((N-t0,n[0]+n[1]))\n",
    "    for ii in range(N-t0):\n",
    "        for jj in range(n[0]):\n",
    "            phi[ii,jj] = -y[ii+t0-jj-1]\n",
    "    \n",
    "    for ii in range(N-t0):\n",
    "        for jj in range(n[1]):\n",
    "            phi[ii,jj+n[0]] = u[ii+t0-jj-d]\n",
    "            \n",
    "    y_hat = phi@theta_arx\n",
    "    \n",
    "    return y_hat"
   ]
  },
  {
   "cell_type": "code",
   "execution_count": 19,
   "metadata": {},
   "outputs": [],
   "source": [
    "# y_hat = sid.y_hat_box_jenkins(optimization_results.x, n_bj, yy, uu)\n",
    "y_hat = y_hat_arx(theta_arx, n_arx, yy, uu)"
   ]
  },
  {
   "cell_type": "code",
   "execution_count": 20,
   "metadata": {},
   "outputs": [
    {
     "data": {
      "text/plain": [
       "(79994,)"
      ]
     },
     "execution_count": 20,
     "metadata": {},
     "output_type": "execute_result"
    }
   ],
   "source": [
    "y_hat.shape"
   ]
  },
  {
   "cell_type": "code",
   "execution_count": 21,
   "metadata": {},
   "outputs": [
    {
     "data": {
      "image/png": "[encoded data removed]",
      "text/plain": [
       "<Figure size 640x480 with 1 Axes>"
      ]
     },
     "metadata": {},
     "output_type": "display_data"
    }
   ],
   "source": [
    "fig, ax = plt.subplots()\n",
    "ax.plot(t[:M-6], u_step[:M-6], label=\"Input (step)\")\n",
    "ax.plot(tout[:M-6], yout[:M-6], label=\"Output (systeM response)\")\n",
    "ax.plot(tout[:M-6], y_hat, label=\"EstiMated Output (Box-Jenkins)\")\n",
    "ax.set_xlabel(\"sample size\")\n",
    "ax.set_ylabel(\"Response\")\n",
    "ax.legend()\n",
    "plt.show()"
   ]
  },
  {
   "cell_type": "code",
   "execution_count": 22,
   "metadata": {},
   "outputs": [
    {
     "name": "stdout",
     "output_type": "stream",
     "text": [
      "Estimated Transfer Function (Discrete):\n",
      "<TransferFunction>: sys[1780]\n",
      "Inputs (1): ['u[0]']\n",
      "Outputs (1): ['y[0]']\n",
      "\n",
      "\n",
      "0.8763 z^2 - 1.752 z + 0.8755\n",
      "-----------------------------\n",
      "   z^2 - 1.999 z + 0.9994\n",
      "\n",
      "dt = 0.01\n",
      "\n"
     ]
    }
   ],
   "source": [
    "# Extract estimated transfer function\n",
    "estimated_tf, _ = sid.theta_2_tf_box_jenkins(optimization_results.x, n_bj, Ts=dt)\n",
    "num_est, den_est = estimated_tf.num, estimated_tf.den\n",
    "num_est = num_est[0][0]  # Extract the numerator array\n",
    "den_est = den_est[0][0]  # Extract the denominator array\n",
    "\n",
    "print(\"Estimated Transfer Function (Discrete):\")\n",
    "print(estimated_tf)"
   ]
  },
  {
   "cell_type": "code",
   "execution_count": 23,
   "metadata": {},
   "outputs": [
    {
     "name": "stdout",
     "output_type": "stream",
     "text": [
      "den_est: [ 1.         -1.99937351  0.99937352]\n",
      "Shape of den_est: (3,)\n"
     ]
    }
   ],
   "source": [
    "print(\"den_est:\", den_est)\n",
    "print(\"Shape of den_est:\", np.shape(den_est))\n"
   ]
  },
  {
   "cell_type": "code",
   "execution_count": 24,
   "metadata": {},
   "outputs": [],
   "source": [
    "# den_est = den_est[0]  # Extract the first array from the list\n",
    "\n",
    "# Convert Discrete Transfer Function to Continuous-Time\n",
    "poles_discrete = np.roots(den_est) \n",
    "T = dt  # Sampling time"
   ]
  },
  {
   "cell_type": "code",
   "execution_count": 25,
   "metadata": {},
   "outputs": [
    {
     "name": "stdout",
     "output_type": "stream",
     "text": [
      "[0.99997936 0.99939415]\n"
     ]
    }
   ],
   "source": [
    "print(poles_discrete)"
   ]
  },
  {
   "cell_type": "code",
   "execution_count": 26,
   "metadata": {},
   "outputs": [
    {
     "name": "stdout",
     "output_type": "stream",
     "text": [
      "[ 0.87626256 -1.75173359  0.87547106] [ 1.         -1.99937351  0.99937352]\n"
     ]
    }
   ],
   "source": [
    "print(num_est, den_est)"
   ]
  },
  {
   "cell_type": "code",
   "execution_count": 27,
   "metadata": {},
   "outputs": [
    {
     "name": "stdout",
     "output_type": "stream",
     "text": [
      "[[array([ 0.87626256, -1.75173359,  0.87547106])]]\n"
     ]
    }
   ],
   "source": [
    "print(estimated_tf.num)"
   ]
  },
  {
   "cell_type": "code",
   "execution_count": null,
   "metadata": {},
   "outputs": [
    {
     "name": "stdout",
     "output_type": "stream",
     "text": [
      "Quotient (b0): 0.876262555855998\n",
      "\n",
      "Custom Partial Fraction Expansion:\n",
      "Poles: [0.99997936 0.99939415]\n",
      "A: 9.027349985304526e-06\n",
      "B: 0.00023366275389857956\n"
     ]
    }
   ],
   "source": [
    "# import numpy as np\n",
    "# from scipy.signal import residue\n",
    "\n",
    "# def proper_fraction_expansion(num, den):\n",
    "#     \"\"\"\n",
    "#     Converts an improper transfer function into a strictly proper form.\n",
    "#     Returns quotient (b0) and the remainder's numerator.\n",
    "#     \"\"\"\n",
    "#     #quotient, remainder = np.polydiv(num, den)\n",
    "#     quotient = num[0] \n",
    "#     remainder = np.empty(len(num)-1)\n",
    "#     for ii in range(len(remainder)):\n",
    "#         remainder[ii] = num[ii+1] - num[0]*den[ii+1]                    \n",
    "#     return quotient, remainder\n",
    "\n",
    "# def partial_fraction_expansion(num, den):\n",
    "#     \"\"\"\n",
    "#     Performs manual partial fraction expansion of H(z) = (b1*z + b2 +b0) / ((z - p1) * (z - p2)).\n",
    "#     Returns poles and corresponding coefficients A and B.\n",
    "#     \"\"\"\n",
    "#     # Find poles\n",
    "#     poles = np.roots(den)\n",
    "#     p1, p2 = poles\n",
    "    \n",
    "#     # Extract numerator coefficients\n",
    "#     b1, b2 = num \n",
    "    \n",
    "#     # Compute coefficients A and B\n",
    "#     A = (b1 * p1 + b2) / (p1 * (p1 - p2))\n",
    "#     B = (b1 * p2 + b2) / (p2 * (p2 - p1))\n",
    "    \n",
    "#     return poles, (A, B)\n",
    "\n",
    "\n",
    "\n",
    "# # Convert to proper fraction\n",
    "# quotient, remainder = proper_fraction_expansion(num_est, den_est)\n",
    "# b0 = quotient\n",
    "\n",
    "# # Perform partial fraction expansion\n",
    "# poles, (A, B) = partial_fraction_expansion(remainder, den_est)\n",
    "\n",
    "# # Print results\n",
    "# print(f\"Quotient (b0): {b0}\")\n",
    "\n",
    "\n",
    "# print(\"\\nCustom Partial Fraction Expansion:\")\n",
    "# print(\"Poles:\", poles)\n",
    "# print(f\"A: {A}\")\n",
    "# print(f\"B: {B}\")"
   ]
  },
  {
   "cell_type": "code",
   "execution_count": 32,
   "metadata": {},
   "outputs": [
    {
     "name": "stdout",
     "output_type": "stream",
     "text": [
      "Poles: [0.9995+0.01999375j 0.9995-0.01999375j]\n",
      "A: (0.0001329489024804944-87.60529790861276j)\n",
      "B: (0.0001329489024804944+87.60529790861276j)\n"
     ]
    }
   ],
   "source": [
    "def partial_fraction(num_est, den_est):\n",
    "    \"\"\"\n",
    "    Compute the partial fraction coefficients A, B, and C for the given transfer function.\n",
    "\n",
    "    Parameters:\n",
    "        num_est (list): Coefficients of the numerator [b2, b1, b0].\n",
    "        den_est (list): Coefficients of the denominator [1, a1, a0].\n",
    "        p1 (float): First pole.\n",
    "        p2 (float): Second pole.\n",
    "\n",
    "    Returns:\n",
    "        dict: A dictionary containing A, B, and C.\n",
    "    \"\"\"\n",
    "    \n",
    "    # Find poles\n",
    "    poles = np.roots(den)\n",
    "    p1, p2 = poles\n",
    "    \n",
    "    b2, b1, b0 = num_est\n",
    "    a0 = den_est[-1]\n",
    "    \n",
    "    # Compute num(-p1) and num(-p2)\n",
    "    num_neg_p1 = b2 * (-p1) ** 2 + b1 * (-p1) + b0\n",
    "    num_neg_p2 = b2 * (-p2) ** 2 + b1 * (-p2) + b0\n",
    "    \n",
    "    # Compute A and B using given formulas\n",
    "    A = num_neg_p1 / ((-p1) * (-p1 + p2))\n",
    "    B = num_neg_p2 / ((-p2) * (-p2 + p1))\n",
    "    \n",
    "    # Compute C using given formula\n",
    "    C = b0 / a0\n",
    "    \n",
    "    return poles, (A, B)\n",
    "\n",
    "\n",
    "\n",
    "\n",
    "\n",
    "poles, (A, B) = partial_fraction(num_est, den_est)\n",
    "print(\"Poles:\", poles)\n",
    "print(f\"A: {A}\")\n",
    "print(f\"B: {B}\")\n"
   ]
  },
  {
   "cell_type": "code",
   "execution_count": 35,
   "metadata": {},
   "outputs": [
    {
     "name": "stdout",
     "output_type": "stream",
     "text": [
      "<TransferFunction>: sys[1792]\n",
      "Inputs (1): ['u[0]']\n",
      "Outputs (1): ['y[0]']\n",
      "\n",
      "\n",
      " 87.61 z\n",
      "----------\n",
      "z - 0.9997\n",
      "\n",
      "dt = 0.01\n",
      "\n",
      "<TransferFunction>: sys[1793]\n",
      "Inputs (1): ['u[0]']\n",
      "Outputs (1): ['y[0]']\n",
      "\n",
      "\n",
      " 87.61 z\n",
      "----------\n",
      "z - 0.9997\n",
      "\n",
      "dt = 0.01\n",
      "\n",
      "gotten: <TransferFunction>: sys[1796]\n",
      "Inputs (1): ['u[0]']\n",
      "Outputs (1): ['y[0]']\n",
      "\n",
      "\n",
      "0.8763 z^2 + 1.752 z + 0.8755\n",
      "-----------------------------\n",
      "   z^2 - 1.999 z + 0.9994\n",
      "\n",
      "dt = 0.01\n",
      "\n",
      "Est: <TransferFunction>: sys[1780]\n",
      "Inputs (1): ['u[0]']\n",
      "Outputs (1): ['y[0]']\n",
      "\n",
      "\n",
      "0.8763 z^2 - 1.752 z + 0.8755\n",
      "-----------------------------\n",
      "   z^2 - 1.999 z + 0.9994\n",
      "\n",
      "dt = 0.01\n",
      "\n",
      "\n"
     ]
    }
   ],
   "source": [
    "TF1 = ct.tf(np.array([A, 0]),np.array([1, -poles[0]]),dt)\n",
    "TF2 = ct.tf(np.array([B, 0]),np.array([1, -poles[1]]),dt)\n",
    "print(TF1)\n",
    "print(TF2)\n",
    "print(\"gotten:\",TF1+TF2+C)\n",
    "print(\"Est:\", estimated_tf)\n",
    "\n",
    "print()"
   ]
  },
  {
   "cell_type": "code",
   "execution_count": 131,
   "metadata": {},
   "outputs": [
    {
     "name": "stdout",
     "output_type": "stream",
     "text": [
      "0.876262555855998\n"
     ]
    }
   ],
   "source": [
    "print(b0)"
   ]
  },
  {
   "cell_type": "code",
   "execution_count": null,
   "metadata": {},
   "outputs": [],
   "source": []
  },
  {
   "cell_type": "code",
   "execution_count": null,
   "metadata": {},
   "outputs": [],
   "source": []
  },
  {
   "cell_type": "code",
   "execution_count": null,
   "metadata": {},
   "outputs": [],
   "source": [
    "# Compute a1 and a2 from discrete-to-continuous transformation\n",
    "poles_continuous = np.log(poles_discrete) / T  # Using z = e^(sT) -> s = log(z)/T\n",
    "a1, a2 = poles_continuous"
   ]
  },
  {
   "cell_type": "code",
   "execution_count": null,
   "metadata": {},
   "outputs": [],
   "source": [
    "print(a1,a2)"
   ]
  },
  {
   "cell_type": "code",
   "execution_count": null,
   "metadata": {},
   "outputs": [],
   "source": [
    "tau1 = 1/a1\n",
    "tau2 = 1/a2\n",
    "\n",
    "print(tau1,tau2)"
   ]
  },
  {
   "cell_type": "code",
   "execution_count": null,
   "metadata": {},
   "outputs": [],
   "source": [
    "# Compute R1, C1, R2, C2 from a1 and a2\n",
    "\n",
    "# partial fraction expansion on the discrete data.\n",
    "R1_est = -1 / (a1 * C1)\n",
    "R2_est = -1 / (a2 * C2)\n",
    "\n",
    "print(f\"Estimated Parameters:\\n R1 = {R1_est:.4f} Ω \\n R2 = {R2_est:.4f} Ω\")"
   ]
  },
  {
   "cell_type": "code",
   "execution_count": null,
   "metadata": {},
   "outputs": [],
   "source": [
    "# import scipy.signal as signal\n",
    "# # Convert Discrete Transfer Function to Continuous-Time using Bilinear Transformation\n",
    "# H_s = signal.dlti(num_est, den_est, dt=T)\n",
    "# H_s_cont = H_s.to_continuous(method='bilinear')\n",
    "\n",
    "# print(\"Estimated Transfer Function (Continuous):\")\n",
    "# print(H_s_cont)\n"
   ]
  },
  {
   "cell_type": "code",
   "execution_count": null,
   "metadata": {},
   "outputs": [],
   "source": []
  },
  {
   "cell_type": "code",
   "execution_count": null,
   "metadata": {},
   "outputs": [],
   "source": []
  },
  {
   "cell_type": "code",
   "execution_count": null,
   "metadata": {},
   "outputs": [],
   "source": []
  }
 ],
 "metadata": {
  "kernelspec": {
   "display_name": "ENVENV",
   "language": "python",
   "name": "python3"
  },
  "language_info": {
   "codemirror_mode": {
    "name": "ipython",
    "version": 3
   },
   "file_extension": ".py",
   "mimetype": "text/x-python",
   "name": "python",
   "nbconvert_exporter": "python",
   "pygments_lexer": "ipython3",
   "version": "3.12.5"
  }
 },
 "nbformat": 4,
 "nbformat_minor": 2
}
